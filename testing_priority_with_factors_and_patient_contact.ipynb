{
 "cells": [
  {
   "cell_type": "markdown",
   "metadata": {},
   "source": [
    "# Testing Priority for COVID-19\n",
    "- testing priority with networkx and covid-19 risk factors"
   ]
  },
  {
   "cell_type": "markdown",
   "metadata": {},
   "source": [
    "## vulnerability\n",
    "https://www.who.int/westernpacific/emergencies/covid-19/information/high-risk-groups\n",
    "- age\n",
    "    - 60+ age\n",
    "- underlying health condition\n",
    "    - lung\n",
    "    - heart\n",
    "    - diabetes \n",
    "    - immunocompromised\n",
    "\n",
    "#### age factor\n",
    "https://idpjournal.biomedcentral.com/articles/10.1186/s40249-020-00785-1\n",
    "https://bmcpublichealth.biomedcentral.com/articles/10.1186/s12889-020-09826-8\n",
    "\n",
    "#### occupation factor\n",
    "https://www.michigan.gov/frontliners/0,9886,7-412-101948_100634_102083-532640--,00.html\n",
    "- medical \n",
    "- non-medical frontliners\n",
    "- others\n",
    "\n",
    "#### symptoms\n",
    "https://www.who.int/emergencies/diseases/novel-coronavirus-2019/question-and-answers-hub/q-a-detail/coronavirus-disease-covid-19#:~:text=symptoms"
   ]
  },
  {
   "cell_type": "markdown",
   "metadata": {},
   "source": [
    "### Packages"
   ]
  },
  {
   "cell_type": "code",
   "execution_count": 1,
   "metadata": {},
   "outputs": [],
   "source": [
    "import networkx as nx\n",
    "import matplotlib.pyplot as plt\n",
    "import pandas as pd\n",
    "import numpy as np"
   ]
  },
  {
   "cell_type": "markdown",
   "metadata": {},
   "source": [
    "## Data Preparation and Processing"
   ]
  },
  {
   "cell_type": "markdown",
   "metadata": {},
   "source": [
    "### Factor Scoring\n",
    "- custom made dataset for contact tracing with some factors\n",
    "    - person\n",
    "        - name\n",
    "    - confirmed_covid\n",
    "        - 10 points\n",
    "        - to explode the value, and increase node importance and prioritize the contacts    \n",
    "    - age\n",
    "        - considered by WHO as high risk\n",
    "        - age 60+\n",
    "            - 5 points        \n",
    "    - health_condition\n",
    "        - considered by WHO as high risk\n",
    "            - 5 points\n",
    "                - lung\n",
    "                - heart\n",
    "                - diabetes\n",
    "                - immunocompromised\n",
    "    - symptoms\n",
    "        - Current Metric\n",
    "            - Choose highest point only    \n",
    "            - if person has covid then disregard this score    \n",
    "        - Most common symptoms: 3 points\n",
    "            - fever\n",
    "            - dry cough\n",
    "            - tiredness\n",
    "        - Less common symptoms: 1 points\n",
    "            - aches and pains\n",
    "            - sore throat\n",
    "            - diarrhoea\n",
    "            - conjunctivitis\n",
    "            - headache\n",
    "            - loss of taste or smell\n",
    "            - a rash on skin, or discolouration of fingers or toes\n",
    "        - Serious symptoms: 5 points\n",
    "            - difficulty breathing or shortness of breath\n",
    "            - chest pain or pressure\n",
    "            - loss of speech or movement- immunocompromised           \n",
    "    - contact\n",
    "        - name of contact person\n",
    "    - contact_type\n",
    "        - layer of contact\n",
    "        - 1st layer : Family / People living with\n",
    "            - 3 points\n",
    "        - 2nd layer : Colleagues / People you see daily\n",
    "            - 2 points\n",
    "        - 3rd layer : Others / People you see a few times or less\n",
    "            - 1 points  \n",
    "    - num of co-occupants\n",
    "        - to be used for num_of_room metric\n",
    "        - Npl value\n",
    "    - num_of_room\n",
    "        - number of room or divisions in the home of the person\n",
    "    - num_of_elderly\n",
    "        - 2 point\n",
    "        - we add one point for each people who is living with 60+ age people\n",
    "        - if person is 60+ age then we also point here, to increase the importance of the person\n",
    "    - occupation\n",
    "        - medical frontliner : 3 points\n",
    "        - other frontliner : 1 points\n",
    "    - living density\n",
    "        - 'num_of_co-occupant' + 1, since we add the person to the total room occupant\n",
    "        - ( 'num_of_co-occupant' + 1)/ num of room\n",
    "            - if value <= 1 then point = 0\n",
    "            - if value <= 1.5 then point = 1\n",
    "            - if value > 1.5 then point = 3"
   ]
  },
  {
   "cell_type": "markdown",
   "metadata": {},
   "source": [
    "### Dataset\n",
    "- currently using simulated / custom-made dataset\n",
    "- change later for official dataset"
   ]
  },
  {
   "cell_type": "code",
   "execution_count": 2,
   "metadata": {
    "scrolled": true
   },
   "outputs": [
    {
     "output_type": "execute_result",
     "data": {
      "text/plain": [
       "   person  confirmed_covid with_symptoms  age   health_condition  \\\n",
       "0      p1             True        common   55           diabetes   \n",
       "1      p2            False          none   19               none   \n",
       "2      p3            False          none   67       lung_disease   \n",
       "3      p4            False          none   24               none   \n",
       "4      p5             True        common   38       lung_disease   \n",
       "5      p6             True        common   45           diabetes   \n",
       "6      p7            False        common   35               none   \n",
       "7      p8            False          none   34           diabetes   \n",
       "8      p9            False          none    8  immunocompromised   \n",
       "9     p10            False          none   28               none   \n",
       "10    p11             True          none   42       lung_disease   \n",
       "11    p12            False        common   22               none   \n",
       "12    p13            False          none   49               none   \n",
       "13    p14            False       serious   18       lung_disease   \n",
       "14    p15            False   less_common   52      heart_disease   \n",
       "15    p16            False   less_common   20               none   \n",
       "16    p17            False          none   21      heart_disease   \n",
       "17    p18            False          none    9               none   \n",
       "18    p19            False        common   62               none   \n",
       "19    p20            False          none   68       lung_disease   \n",
       "\n",
       "                        contact  \\\n",
       "0   p2;p3;p4;p5;p6;p10;p11;p15;   \n",
       "1                 p1;p3;p4;p14;   \n",
       "2                     p1;p2;p4;   \n",
       "3                 p1;p2;p3;p12;   \n",
       "4                        p1;p7;   \n",
       "5               p1;p10;p11;p15;   \n",
       "6                     p5;p8;p9;   \n",
       "7                        p7;p9;   \n",
       "8                    p7;p8;p18;   \n",
       "9                p1;p6;p11;p15;   \n",
       "10               p1;p6;p10;p15;   \n",
       "11                  p4;p16;p17;   \n",
       "12                     p14;p15;   \n",
       "13                  p2;p13;p15;   \n",
       "14              p1;p10;p13;p14;   \n",
       "15                     p12;p17;   \n",
       "16                     p12;p16;   \n",
       "17                  p9;p19;p20;   \n",
       "18                     p18;p20;   \n",
       "19                     p18;p19;   \n",
       "\n",
       "                                         contact_type  num_of_elderly  \\\n",
       "0   family;family;family;colleague;colleague;colle...               1   \n",
       "1                    family;family;family;schoolmate;               1   \n",
       "2                               family;family;family;               1   \n",
       "3                     family;family;family;colleague;               1   \n",
       "4                                colleague;colleague;               0   \n",
       "5            colleague;colleague;colleague;colleague;               0   \n",
       "6                            colleague;family;family;               0   \n",
       "7                                      family;family;               0   \n",
       "8                           family;family;schoolmate;               0   \n",
       "9            colleague;colleague;colleague;colleague;               0   \n",
       "10           colleague;colleague;colleague;colleague;               0   \n",
       "11                   colleague;schoolmate;schoolmate;               0   \n",
       "12                                     family;family;               0   \n",
       "13                          schoolmate;family;family;               0   \n",
       "14                 colleague;colleague;family;family;               0   \n",
       "15                             schoolmate;schoolmate;               0   \n",
       "16                             schoolmate;schoolmate;               0   \n",
       "17                          schoolmate;family;family;               2   \n",
       "18                                     family;family;               2   \n",
       "19                                     family;family;               2   \n",
       "\n",
       "    num_of_room  num_of_co-occupant  occupation  \n",
       "0             3                   3       other  \n",
       "1             3                   3        none  \n",
       "2             3                   3        none  \n",
       "3             3                   3     medical  \n",
       "4             1                   0       other  \n",
       "5             1                   0  frontliner  \n",
       "6             1                   2       other  \n",
       "7             1                   2       other  \n",
       "8             1                   2        none  \n",
       "9             2                   0     medical  \n",
       "10            3                   0       other  \n",
       "11            2                   0       other  \n",
       "12            1                   2  frontliner  \n",
       "13            1                   2        none  \n",
       "14            1                   2       other  \n",
       "15            2                   1        none  \n",
       "16            3                   1        none  \n",
       "17            2                   2        none  \n",
       "18            2                   2     medical  \n",
       "19            2                   2        none  "
      ],
      "text/html": "<div>\n<style scoped>\n    .dataframe tbody tr th:only-of-type {\n        vertical-align: middle;\n    }\n\n    .dataframe tbody tr th {\n        vertical-align: top;\n    }\n\n    .dataframe thead th {\n        text-align: right;\n    }\n</style>\n<table border=\"1\" class=\"dataframe\">\n  <thead>\n    <tr style=\"text-align: right;\">\n      <th></th>\n      <th>person</th>\n      <th>confirmed_covid</th>\n      <th>with_symptoms</th>\n      <th>age</th>\n      <th>health_condition</th>\n      <th>contact</th>\n      <th>contact_type</th>\n      <th>num_of_elderly</th>\n      <th>num_of_room</th>\n      <th>num_of_co-occupant</th>\n      <th>occupation</th>\n    </tr>\n  </thead>\n  <tbody>\n    <tr>\n      <th>0</th>\n      <td>p1</td>\n      <td>True</td>\n      <td>common</td>\n      <td>55</td>\n      <td>diabetes</td>\n      <td>p2;p3;p4;p5;p6;p10;p11;p15;</td>\n      <td>family;family;family;colleague;colleague;colle...</td>\n      <td>1</td>\n      <td>3</td>\n      <td>3</td>\n      <td>other</td>\n    </tr>\n    <tr>\n      <th>1</th>\n      <td>p2</td>\n      <td>False</td>\n      <td>none</td>\n      <td>19</td>\n      <td>none</td>\n      <td>p1;p3;p4;p14;</td>\n      <td>family;family;family;schoolmate;</td>\n      <td>1</td>\n      <td>3</td>\n      <td>3</td>\n      <td>none</td>\n    </tr>\n    <tr>\n      <th>2</th>\n      <td>p3</td>\n      <td>False</td>\n      <td>none</td>\n      <td>67</td>\n      <td>lung_disease</td>\n      <td>p1;p2;p4;</td>\n      <td>family;family;family;</td>\n      <td>1</td>\n      <td>3</td>\n      <td>3</td>\n      <td>none</td>\n    </tr>\n    <tr>\n      <th>3</th>\n      <td>p4</td>\n      <td>False</td>\n      <td>none</td>\n      <td>24</td>\n      <td>none</td>\n      <td>p1;p2;p3;p12;</td>\n      <td>family;family;family;colleague;</td>\n      <td>1</td>\n      <td>3</td>\n      <td>3</td>\n      <td>medical</td>\n    </tr>\n    <tr>\n      <th>4</th>\n      <td>p5</td>\n      <td>True</td>\n      <td>common</td>\n      <td>38</td>\n      <td>lung_disease</td>\n      <td>p1;p7;</td>\n      <td>colleague;colleague;</td>\n      <td>0</td>\n      <td>1</td>\n      <td>0</td>\n      <td>other</td>\n    </tr>\n    <tr>\n      <th>5</th>\n      <td>p6</td>\n      <td>True</td>\n      <td>common</td>\n      <td>45</td>\n      <td>diabetes</td>\n      <td>p1;p10;p11;p15;</td>\n      <td>colleague;colleague;colleague;colleague;</td>\n      <td>0</td>\n      <td>1</td>\n      <td>0</td>\n      <td>frontliner</td>\n    </tr>\n    <tr>\n      <th>6</th>\n      <td>p7</td>\n      <td>False</td>\n      <td>common</td>\n      <td>35</td>\n      <td>none</td>\n      <td>p5;p8;p9;</td>\n      <td>colleague;family;family;</td>\n      <td>0</td>\n      <td>1</td>\n      <td>2</td>\n      <td>other</td>\n    </tr>\n    <tr>\n      <th>7</th>\n      <td>p8</td>\n      <td>False</td>\n      <td>none</td>\n      <td>34</td>\n      <td>diabetes</td>\n      <td>p7;p9;</td>\n      <td>family;family;</td>\n      <td>0</td>\n      <td>1</td>\n      <td>2</td>\n      <td>other</td>\n    </tr>\n    <tr>\n      <th>8</th>\n      <td>p9</td>\n      <td>False</td>\n      <td>none</td>\n      <td>8</td>\n      <td>immunocompromised</td>\n      <td>p7;p8;p18;</td>\n      <td>family;family;schoolmate;</td>\n      <td>0</td>\n      <td>1</td>\n      <td>2</td>\n      <td>none</td>\n    </tr>\n    <tr>\n      <th>9</th>\n      <td>p10</td>\n      <td>False</td>\n      <td>none</td>\n      <td>28</td>\n      <td>none</td>\n      <td>p1;p6;p11;p15;</td>\n      <td>colleague;colleague;colleague;colleague;</td>\n      <td>0</td>\n      <td>2</td>\n      <td>0</td>\n      <td>medical</td>\n    </tr>\n    <tr>\n      <th>10</th>\n      <td>p11</td>\n      <td>True</td>\n      <td>none</td>\n      <td>42</td>\n      <td>lung_disease</td>\n      <td>p1;p6;p10;p15;</td>\n      <td>colleague;colleague;colleague;colleague;</td>\n      <td>0</td>\n      <td>3</td>\n      <td>0</td>\n      <td>other</td>\n    </tr>\n    <tr>\n      <th>11</th>\n      <td>p12</td>\n      <td>False</td>\n      <td>common</td>\n      <td>22</td>\n      <td>none</td>\n      <td>p4;p16;p17;</td>\n      <td>colleague;schoolmate;schoolmate;</td>\n      <td>0</td>\n      <td>2</td>\n      <td>0</td>\n      <td>other</td>\n    </tr>\n    <tr>\n      <th>12</th>\n      <td>p13</td>\n      <td>False</td>\n      <td>none</td>\n      <td>49</td>\n      <td>none</td>\n      <td>p14;p15;</td>\n      <td>family;family;</td>\n      <td>0</td>\n      <td>1</td>\n      <td>2</td>\n      <td>frontliner</td>\n    </tr>\n    <tr>\n      <th>13</th>\n      <td>p14</td>\n      <td>False</td>\n      <td>serious</td>\n      <td>18</td>\n      <td>lung_disease</td>\n      <td>p2;p13;p15;</td>\n      <td>schoolmate;family;family;</td>\n      <td>0</td>\n      <td>1</td>\n      <td>2</td>\n      <td>none</td>\n    </tr>\n    <tr>\n      <th>14</th>\n      <td>p15</td>\n      <td>False</td>\n      <td>less_common</td>\n      <td>52</td>\n      <td>heart_disease</td>\n      <td>p1;p10;p13;p14;</td>\n      <td>colleague;colleague;family;family;</td>\n      <td>0</td>\n      <td>1</td>\n      <td>2</td>\n      <td>other</td>\n    </tr>\n    <tr>\n      <th>15</th>\n      <td>p16</td>\n      <td>False</td>\n      <td>less_common</td>\n      <td>20</td>\n      <td>none</td>\n      <td>p12;p17;</td>\n      <td>schoolmate;schoolmate;</td>\n      <td>0</td>\n      <td>2</td>\n      <td>1</td>\n      <td>none</td>\n    </tr>\n    <tr>\n      <th>16</th>\n      <td>p17</td>\n      <td>False</td>\n      <td>none</td>\n      <td>21</td>\n      <td>heart_disease</td>\n      <td>p12;p16;</td>\n      <td>schoolmate;schoolmate;</td>\n      <td>0</td>\n      <td>3</td>\n      <td>1</td>\n      <td>none</td>\n    </tr>\n    <tr>\n      <th>17</th>\n      <td>p18</td>\n      <td>False</td>\n      <td>none</td>\n      <td>9</td>\n      <td>none</td>\n      <td>p9;p19;p20;</td>\n      <td>schoolmate;family;family;</td>\n      <td>2</td>\n      <td>2</td>\n      <td>2</td>\n      <td>none</td>\n    </tr>\n    <tr>\n      <th>18</th>\n      <td>p19</td>\n      <td>False</td>\n      <td>common</td>\n      <td>62</td>\n      <td>none</td>\n      <td>p18;p20;</td>\n      <td>family;family;</td>\n      <td>2</td>\n      <td>2</td>\n      <td>2</td>\n      <td>medical</td>\n    </tr>\n    <tr>\n      <th>19</th>\n      <td>p20</td>\n      <td>False</td>\n      <td>none</td>\n      <td>68</td>\n      <td>lung_disease</td>\n      <td>p18;p19;</td>\n      <td>family;family;</td>\n      <td>2</td>\n      <td>2</td>\n      <td>2</td>\n      <td>none</td>\n    </tr>\n  </tbody>\n</table>\n</div>"
     },
     "metadata": {},
     "execution_count": 2
    }
   ],
   "source": [
    "# raw data\n",
    "data = pd.read_csv('data/custom_contact_tracing_factor.csv')\n",
    "data"
   ]
  },
  {
   "source": [
    "### PERSONS INDIVIDUAL DATA"
   ],
   "cell_type": "markdown",
   "metadata": {}
  },
  {
   "cell_type": "code",
   "execution_count": 3,
   "metadata": {
    "scrolled": true
   },
   "outputs": [
    {
     "output_type": "execute_result",
     "data": {
      "text/plain": [
       "   person  confirmed_covid with_symptoms  age   health_condition  \\\n",
       "0      p1             True        common   55           diabetes   \n",
       "1      p2            False          none   19               none   \n",
       "2      p3            False          none   67       lung_disease   \n",
       "3      p4            False          none   24               none   \n",
       "4      p5             True        common   38       lung_disease   \n",
       "5      p6             True        common   45           diabetes   \n",
       "6      p7            False        common   35               none   \n",
       "7      p8            False          none   34           diabetes   \n",
       "8      p9            False          none    8  immunocompromised   \n",
       "9     p10            False          none   28               none   \n",
       "10    p11             True          none   42       lung_disease   \n",
       "11    p12            False        common   22               none   \n",
       "12    p13            False          none   49               none   \n",
       "13    p14            False       serious   18       lung_disease   \n",
       "14    p15            False   less_common   52      heart_disease   \n",
       "15    p16            False   less_common   20               none   \n",
       "16    p17            False          none   21      heart_disease   \n",
       "17    p18            False          none    9               none   \n",
       "18    p19            False        common   62               none   \n",
       "19    p20            False          none   68       lung_disease   \n",
       "\n",
       "    num_of_elderly  num_of_room  num_of_co-occupant  occupation  \n",
       "0                1            3                   3       other  \n",
       "1                1            3                   3        none  \n",
       "2                1            3                   3        none  \n",
       "3                1            3                   3     medical  \n",
       "4                0            1                   0       other  \n",
       "5                0            1                   0  frontliner  \n",
       "6                0            1                   2       other  \n",
       "7                0            1                   2       other  \n",
       "8                0            1                   2        none  \n",
       "9                0            2                   0     medical  \n",
       "10               0            3                   0       other  \n",
       "11               0            2                   0       other  \n",
       "12               0            1                   2  frontliner  \n",
       "13               0            1                   2        none  \n",
       "14               0            1                   2       other  \n",
       "15               0            2                   1        none  \n",
       "16               0            3                   1        none  \n",
       "17               2            2                   2        none  \n",
       "18               2            2                   2     medical  \n",
       "19               2            2                   2        none  "
      ],
      "text/html": "<div>\n<style scoped>\n    .dataframe tbody tr th:only-of-type {\n        vertical-align: middle;\n    }\n\n    .dataframe tbody tr th {\n        vertical-align: top;\n    }\n\n    .dataframe thead th {\n        text-align: right;\n    }\n</style>\n<table border=\"1\" class=\"dataframe\">\n  <thead>\n    <tr style=\"text-align: right;\">\n      <th></th>\n      <th>person</th>\n      <th>confirmed_covid</th>\n      <th>with_symptoms</th>\n      <th>age</th>\n      <th>health_condition</th>\n      <th>num_of_elderly</th>\n      <th>num_of_room</th>\n      <th>num_of_co-occupant</th>\n      <th>occupation</th>\n    </tr>\n  </thead>\n  <tbody>\n    <tr>\n      <th>0</th>\n      <td>p1</td>\n      <td>True</td>\n      <td>common</td>\n      <td>55</td>\n      <td>diabetes</td>\n      <td>1</td>\n      <td>3</td>\n      <td>3</td>\n      <td>other</td>\n    </tr>\n    <tr>\n      <th>1</th>\n      <td>p2</td>\n      <td>False</td>\n      <td>none</td>\n      <td>19</td>\n      <td>none</td>\n      <td>1</td>\n      <td>3</td>\n      <td>3</td>\n      <td>none</td>\n    </tr>\n    <tr>\n      <th>2</th>\n      <td>p3</td>\n      <td>False</td>\n      <td>none</td>\n      <td>67</td>\n      <td>lung_disease</td>\n      <td>1</td>\n      <td>3</td>\n      <td>3</td>\n      <td>none</td>\n    </tr>\n    <tr>\n      <th>3</th>\n      <td>p4</td>\n      <td>False</td>\n      <td>none</td>\n      <td>24</td>\n      <td>none</td>\n      <td>1</td>\n      <td>3</td>\n      <td>3</td>\n      <td>medical</td>\n    </tr>\n    <tr>\n      <th>4</th>\n      <td>p5</td>\n      <td>True</td>\n      <td>common</td>\n      <td>38</td>\n      <td>lung_disease</td>\n      <td>0</td>\n      <td>1</td>\n      <td>0</td>\n      <td>other</td>\n    </tr>\n    <tr>\n      <th>5</th>\n      <td>p6</td>\n      <td>True</td>\n      <td>common</td>\n      <td>45</td>\n      <td>diabetes</td>\n      <td>0</td>\n      <td>1</td>\n      <td>0</td>\n      <td>frontliner</td>\n    </tr>\n    <tr>\n      <th>6</th>\n      <td>p7</td>\n      <td>False</td>\n      <td>common</td>\n      <td>35</td>\n      <td>none</td>\n      <td>0</td>\n      <td>1</td>\n      <td>2</td>\n      <td>other</td>\n    </tr>\n    <tr>\n      <th>7</th>\n      <td>p8</td>\n      <td>False</td>\n      <td>none</td>\n      <td>34</td>\n      <td>diabetes</td>\n      <td>0</td>\n      <td>1</td>\n      <td>2</td>\n      <td>other</td>\n    </tr>\n    <tr>\n      <th>8</th>\n      <td>p9</td>\n      <td>False</td>\n      <td>none</td>\n      <td>8</td>\n      <td>immunocompromised</td>\n      <td>0</td>\n      <td>1</td>\n      <td>2</td>\n      <td>none</td>\n    </tr>\n    <tr>\n      <th>9</th>\n      <td>p10</td>\n      <td>False</td>\n      <td>none</td>\n      <td>28</td>\n      <td>none</td>\n      <td>0</td>\n      <td>2</td>\n      <td>0</td>\n      <td>medical</td>\n    </tr>\n    <tr>\n      <th>10</th>\n      <td>p11</td>\n      <td>True</td>\n      <td>none</td>\n      <td>42</td>\n      <td>lung_disease</td>\n      <td>0</td>\n      <td>3</td>\n      <td>0</td>\n      <td>other</td>\n    </tr>\n    <tr>\n      <th>11</th>\n      <td>p12</td>\n      <td>False</td>\n      <td>common</td>\n      <td>22</td>\n      <td>none</td>\n      <td>0</td>\n      <td>2</td>\n      <td>0</td>\n      <td>other</td>\n    </tr>\n    <tr>\n      <th>12</th>\n      <td>p13</td>\n      <td>False</td>\n      <td>none</td>\n      <td>49</td>\n      <td>none</td>\n      <td>0</td>\n      <td>1</td>\n      <td>2</td>\n      <td>frontliner</td>\n    </tr>\n    <tr>\n      <th>13</th>\n      <td>p14</td>\n      <td>False</td>\n      <td>serious</td>\n      <td>18</td>\n      <td>lung_disease</td>\n      <td>0</td>\n      <td>1</td>\n      <td>2</td>\n      <td>none</td>\n    </tr>\n    <tr>\n      <th>14</th>\n      <td>p15</td>\n      <td>False</td>\n      <td>less_common</td>\n      <td>52</td>\n      <td>heart_disease</td>\n      <td>0</td>\n      <td>1</td>\n      <td>2</td>\n      <td>other</td>\n    </tr>\n    <tr>\n      <th>15</th>\n      <td>p16</td>\n      <td>False</td>\n      <td>less_common</td>\n      <td>20</td>\n      <td>none</td>\n      <td>0</td>\n      <td>2</td>\n      <td>1</td>\n      <td>none</td>\n    </tr>\n    <tr>\n      <th>16</th>\n      <td>p17</td>\n      <td>False</td>\n      <td>none</td>\n      <td>21</td>\n      <td>heart_disease</td>\n      <td>0</td>\n      <td>3</td>\n      <td>1</td>\n      <td>none</td>\n    </tr>\n    <tr>\n      <th>17</th>\n      <td>p18</td>\n      <td>False</td>\n      <td>none</td>\n      <td>9</td>\n      <td>none</td>\n      <td>2</td>\n      <td>2</td>\n      <td>2</td>\n      <td>none</td>\n    </tr>\n    <tr>\n      <th>18</th>\n      <td>p19</td>\n      <td>False</td>\n      <td>common</td>\n      <td>62</td>\n      <td>none</td>\n      <td>2</td>\n      <td>2</td>\n      <td>2</td>\n      <td>medical</td>\n    </tr>\n    <tr>\n      <th>19</th>\n      <td>p20</td>\n      <td>False</td>\n      <td>none</td>\n      <td>68</td>\n      <td>lung_disease</td>\n      <td>2</td>\n      <td>2</td>\n      <td>2</td>\n      <td>none</td>\n    </tr>\n  </tbody>\n</table>\n</div>"
     },
     "metadata": {},
     "execution_count": 3
    }
   ],
   "source": [
    "# data for individual\n",
    "person_data = pd.DataFrame(data, columns=['person', 'confirmed_covid', 'with_symptoms', 'age', 'health_condition',\n",
    "                                          'num_of_elderly', 'num_of_room','num_of_co-occupant', 'occupation'])\n",
    "person_data"
   ]
  },
  {
   "source": [
    "### PERSON-to-PERSON CONTACT DATA"
   ],
   "cell_type": "markdown",
   "metadata": {}
  },
  {
   "cell_type": "code",
   "execution_count": 4,
   "metadata": {},
   "outputs": [
    {
     "output_type": "execute_result",
     "data": {
      "text/plain": [
       "   person                      contact  \\\n",
       "0      p1  p2;p3;p4;p5;p6;p10;p11;p15;   \n",
       "1      p2                p1;p3;p4;p14;   \n",
       "2      p3                    p1;p2;p4;   \n",
       "3      p4                p1;p2;p3;p12;   \n",
       "4      p5                       p1;p7;   \n",
       "5      p6              p1;p10;p11;p15;   \n",
       "6      p7                    p5;p8;p9;   \n",
       "7      p8                       p7;p9;   \n",
       "8      p9                   p7;p8;p18;   \n",
       "9     p10               p1;p6;p11;p15;   \n",
       "10    p11               p1;p6;p10;p15;   \n",
       "11    p12                  p4;p16;p17;   \n",
       "12    p13                     p14;p15;   \n",
       "13    p14                  p2;p13;p15;   \n",
       "14    p15              p1;p10;p13;p14;   \n",
       "15    p16                     p12;p17;   \n",
       "16    p17                     p12;p16;   \n",
       "17    p18                  p9;p19;p20;   \n",
       "18    p19                     p18;p20;   \n",
       "19    p20                     p18;p19;   \n",
       "\n",
       "                                         contact_type  \n",
       "0   family;family;family;colleague;colleague;colle...  \n",
       "1                    family;family;family;schoolmate;  \n",
       "2                               family;family;family;  \n",
       "3                     family;family;family;colleague;  \n",
       "4                                colleague;colleague;  \n",
       "5            colleague;colleague;colleague;colleague;  \n",
       "6                            colleague;family;family;  \n",
       "7                                      family;family;  \n",
       "8                           family;family;schoolmate;  \n",
       "9            colleague;colleague;colleague;colleague;  \n",
       "10           colleague;colleague;colleague;colleague;  \n",
       "11                   colleague;schoolmate;schoolmate;  \n",
       "12                                     family;family;  \n",
       "13                          schoolmate;family;family;  \n",
       "14                 colleague;colleague;family;family;  \n",
       "15                             schoolmate;schoolmate;  \n",
       "16                             schoolmate;schoolmate;  \n",
       "17                          schoolmate;family;family;  \n",
       "18                                     family;family;  \n",
       "19                                     family;family;  "
      ],
      "text/html": "<div>\n<style scoped>\n    .dataframe tbody tr th:only-of-type {\n        vertical-align: middle;\n    }\n\n    .dataframe tbody tr th {\n        vertical-align: top;\n    }\n\n    .dataframe thead th {\n        text-align: right;\n    }\n</style>\n<table border=\"1\" class=\"dataframe\">\n  <thead>\n    <tr style=\"text-align: right;\">\n      <th></th>\n      <th>person</th>\n      <th>contact</th>\n      <th>contact_type</th>\n    </tr>\n  </thead>\n  <tbody>\n    <tr>\n      <th>0</th>\n      <td>p1</td>\n      <td>p2;p3;p4;p5;p6;p10;p11;p15;</td>\n      <td>family;family;family;colleague;colleague;colle...</td>\n    </tr>\n    <tr>\n      <th>1</th>\n      <td>p2</td>\n      <td>p1;p3;p4;p14;</td>\n      <td>family;family;family;schoolmate;</td>\n    </tr>\n    <tr>\n      <th>2</th>\n      <td>p3</td>\n      <td>p1;p2;p4;</td>\n      <td>family;family;family;</td>\n    </tr>\n    <tr>\n      <th>3</th>\n      <td>p4</td>\n      <td>p1;p2;p3;p12;</td>\n      <td>family;family;family;colleague;</td>\n    </tr>\n    <tr>\n      <th>4</th>\n      <td>p5</td>\n      <td>p1;p7;</td>\n      <td>colleague;colleague;</td>\n    </tr>\n    <tr>\n      <th>5</th>\n      <td>p6</td>\n      <td>p1;p10;p11;p15;</td>\n      <td>colleague;colleague;colleague;colleague;</td>\n    </tr>\n    <tr>\n      <th>6</th>\n      <td>p7</td>\n      <td>p5;p8;p9;</td>\n      <td>colleague;family;family;</td>\n    </tr>\n    <tr>\n      <th>7</th>\n      <td>p8</td>\n      <td>p7;p9;</td>\n      <td>family;family;</td>\n    </tr>\n    <tr>\n      <th>8</th>\n      <td>p9</td>\n      <td>p7;p8;p18;</td>\n      <td>family;family;schoolmate;</td>\n    </tr>\n    <tr>\n      <th>9</th>\n      <td>p10</td>\n      <td>p1;p6;p11;p15;</td>\n      <td>colleague;colleague;colleague;colleague;</td>\n    </tr>\n    <tr>\n      <th>10</th>\n      <td>p11</td>\n      <td>p1;p6;p10;p15;</td>\n      <td>colleague;colleague;colleague;colleague;</td>\n    </tr>\n    <tr>\n      <th>11</th>\n      <td>p12</td>\n      <td>p4;p16;p17;</td>\n      <td>colleague;schoolmate;schoolmate;</td>\n    </tr>\n    <tr>\n      <th>12</th>\n      <td>p13</td>\n      <td>p14;p15;</td>\n      <td>family;family;</td>\n    </tr>\n    <tr>\n      <th>13</th>\n      <td>p14</td>\n      <td>p2;p13;p15;</td>\n      <td>schoolmate;family;family;</td>\n    </tr>\n    <tr>\n      <th>14</th>\n      <td>p15</td>\n      <td>p1;p10;p13;p14;</td>\n      <td>colleague;colleague;family;family;</td>\n    </tr>\n    <tr>\n      <th>15</th>\n      <td>p16</td>\n      <td>p12;p17;</td>\n      <td>schoolmate;schoolmate;</td>\n    </tr>\n    <tr>\n      <th>16</th>\n      <td>p17</td>\n      <td>p12;p16;</td>\n      <td>schoolmate;schoolmate;</td>\n    </tr>\n    <tr>\n      <th>17</th>\n      <td>p18</td>\n      <td>p9;p19;p20;</td>\n      <td>schoolmate;family;family;</td>\n    </tr>\n    <tr>\n      <th>18</th>\n      <td>p19</td>\n      <td>p18;p20;</td>\n      <td>family;family;</td>\n    </tr>\n    <tr>\n      <th>19</th>\n      <td>p20</td>\n      <td>p18;p19;</td>\n      <td>family;family;</td>\n    </tr>\n  </tbody>\n</table>\n</div>"
     },
     "metadata": {},
     "execution_count": 4
    }
   ],
   "source": [
    "# data for person-to-person data\n",
    "p2p_data = pd.DataFrame(data, columns=['person', 'contact', 'contact_type'])\n",
    "p2p_data"
   ]
  },
  {
   "cell_type": "markdown",
   "metadata": {},
   "source": [
    "### PROCESSING THE DATA\n",
    "- turn data into numerical values based from the factor scoring"
   ]
  },
  {
   "cell_type": "markdown",
   "metadata": {},
   "source": [
    "#### Individual Score\n",
    "get the total factor for each individual\n",
    "- confirmed_covid\n",
    "- age\n",
    "- health_condition\n",
    "- num_of_room\n",
    "- num_of_elderly\n",
    "- with_symptoms\n",
    "- occupation\n",
    "- num_of_co-occupant\n",
    "    - doesn't include the person in the data\n",
    "- living density\n",
    "    - 'num_of_co-occupant' + 1, since we add the person to the total room occupant\n",
    "    - ( 'num_of_co-occupant' + 1)/ num of room\n",
    "        - if value <= 1 then point = 0\n",
    "        - if value <= 1.5 then point = 1\n",
    "        - if value > 1.5 then point = 3"
   ]
  },
  {
   "cell_type": "code",
   "execution_count": 5,
   "metadata": {
    "scrolled": true
   },
   "outputs": [
    {
     "output_type": "execute_result",
     "data": {
      "text/plain": [
       "   person  confirmed_covid with_symptoms  age   health_condition  \\\n",
       "0      p1             True        common   55           diabetes   \n",
       "1      p2            False          none   19               none   \n",
       "2      p3            False          none   67       lung_disease   \n",
       "3      p4            False          none   24               none   \n",
       "4      p5             True        common   38       lung_disease   \n",
       "5      p6             True        common   45           diabetes   \n",
       "6      p7            False        common   35               none   \n",
       "7      p8            False          none   34           diabetes   \n",
       "8      p9            False          none    8  immunocompromised   \n",
       "9     p10            False          none   28               none   \n",
       "10    p11             True          none   42       lung_disease   \n",
       "11    p12            False        common   22               none   \n",
       "12    p13            False          none   49               none   \n",
       "13    p14            False       serious   18       lung_disease   \n",
       "14    p15            False   less_common   52      heart_disease   \n",
       "15    p16            False   less_common   20               none   \n",
       "16    p17            False          none   21      heart_disease   \n",
       "17    p18            False          none    9               none   \n",
       "18    p19            False        common   62               none   \n",
       "19    p20            False          none   68       lung_disease   \n",
       "\n",
       "    num_of_elderly  num_of_room  num_of_co-occupant  occupation  \n",
       "0                1            3                   3       other  \n",
       "1                1            3                   3        none  \n",
       "2                1            3                   3        none  \n",
       "3                1            3                   3     medical  \n",
       "4                0            1                   0       other  \n",
       "5                0            1                   0  frontliner  \n",
       "6                0            1                   2       other  \n",
       "7                0            1                   2       other  \n",
       "8                0            1                   2        none  \n",
       "9                0            2                   0     medical  \n",
       "10               0            3                   0       other  \n",
       "11               0            2                   0       other  \n",
       "12               0            1                   2  frontliner  \n",
       "13               0            1                   2        none  \n",
       "14               0            1                   2       other  \n",
       "15               0            2                   1        none  \n",
       "16               0            3                   1        none  \n",
       "17               2            2                   2        none  \n",
       "18               2            2                   2     medical  \n",
       "19               2            2                   2        none  "
      ],
      "text/html": "<div>\n<style scoped>\n    .dataframe tbody tr th:only-of-type {\n        vertical-align: middle;\n    }\n\n    .dataframe tbody tr th {\n        vertical-align: top;\n    }\n\n    .dataframe thead th {\n        text-align: right;\n    }\n</style>\n<table border=\"1\" class=\"dataframe\">\n  <thead>\n    <tr style=\"text-align: right;\">\n      <th></th>\n      <th>person</th>\n      <th>confirmed_covid</th>\n      <th>with_symptoms</th>\n      <th>age</th>\n      <th>health_condition</th>\n      <th>num_of_elderly</th>\n      <th>num_of_room</th>\n      <th>num_of_co-occupant</th>\n      <th>occupation</th>\n    </tr>\n  </thead>\n  <tbody>\n    <tr>\n      <th>0</th>\n      <td>p1</td>\n      <td>True</td>\n      <td>common</td>\n      <td>55</td>\n      <td>diabetes</td>\n      <td>1</td>\n      <td>3</td>\n      <td>3</td>\n      <td>other</td>\n    </tr>\n    <tr>\n      <th>1</th>\n      <td>p2</td>\n      <td>False</td>\n      <td>none</td>\n      <td>19</td>\n      <td>none</td>\n      <td>1</td>\n      <td>3</td>\n      <td>3</td>\n      <td>none</td>\n    </tr>\n    <tr>\n      <th>2</th>\n      <td>p3</td>\n      <td>False</td>\n      <td>none</td>\n      <td>67</td>\n      <td>lung_disease</td>\n      <td>1</td>\n      <td>3</td>\n      <td>3</td>\n      <td>none</td>\n    </tr>\n    <tr>\n      <th>3</th>\n      <td>p4</td>\n      <td>False</td>\n      <td>none</td>\n      <td>24</td>\n      <td>none</td>\n      <td>1</td>\n      <td>3</td>\n      <td>3</td>\n      <td>medical</td>\n    </tr>\n    <tr>\n      <th>4</th>\n      <td>p5</td>\n      <td>True</td>\n      <td>common</td>\n      <td>38</td>\n      <td>lung_disease</td>\n      <td>0</td>\n      <td>1</td>\n      <td>0</td>\n      <td>other</td>\n    </tr>\n    <tr>\n      <th>5</th>\n      <td>p6</td>\n      <td>True</td>\n      <td>common</td>\n      <td>45</td>\n      <td>diabetes</td>\n      <td>0</td>\n      <td>1</td>\n      <td>0</td>\n      <td>frontliner</td>\n    </tr>\n    <tr>\n      <th>6</th>\n      <td>p7</td>\n      <td>False</td>\n      <td>common</td>\n      <td>35</td>\n      <td>none</td>\n      <td>0</td>\n      <td>1</td>\n      <td>2</td>\n      <td>other</td>\n    </tr>\n    <tr>\n      <th>7</th>\n      <td>p8</td>\n      <td>False</td>\n      <td>none</td>\n      <td>34</td>\n      <td>diabetes</td>\n      <td>0</td>\n      <td>1</td>\n      <td>2</td>\n      <td>other</td>\n    </tr>\n    <tr>\n      <th>8</th>\n      <td>p9</td>\n      <td>False</td>\n      <td>none</td>\n      <td>8</td>\n      <td>immunocompromised</td>\n      <td>0</td>\n      <td>1</td>\n      <td>2</td>\n      <td>none</td>\n    </tr>\n    <tr>\n      <th>9</th>\n      <td>p10</td>\n      <td>False</td>\n      <td>none</td>\n      <td>28</td>\n      <td>none</td>\n      <td>0</td>\n      <td>2</td>\n      <td>0</td>\n      <td>medical</td>\n    </tr>\n    <tr>\n      <th>10</th>\n      <td>p11</td>\n      <td>True</td>\n      <td>none</td>\n      <td>42</td>\n      <td>lung_disease</td>\n      <td>0</td>\n      <td>3</td>\n      <td>0</td>\n      <td>other</td>\n    </tr>\n    <tr>\n      <th>11</th>\n      <td>p12</td>\n      <td>False</td>\n      <td>common</td>\n      <td>22</td>\n      <td>none</td>\n      <td>0</td>\n      <td>2</td>\n      <td>0</td>\n      <td>other</td>\n    </tr>\n    <tr>\n      <th>12</th>\n      <td>p13</td>\n      <td>False</td>\n      <td>none</td>\n      <td>49</td>\n      <td>none</td>\n      <td>0</td>\n      <td>1</td>\n      <td>2</td>\n      <td>frontliner</td>\n    </tr>\n    <tr>\n      <th>13</th>\n      <td>p14</td>\n      <td>False</td>\n      <td>serious</td>\n      <td>18</td>\n      <td>lung_disease</td>\n      <td>0</td>\n      <td>1</td>\n      <td>2</td>\n      <td>none</td>\n    </tr>\n    <tr>\n      <th>14</th>\n      <td>p15</td>\n      <td>False</td>\n      <td>less_common</td>\n      <td>52</td>\n      <td>heart_disease</td>\n      <td>0</td>\n      <td>1</td>\n      <td>2</td>\n      <td>other</td>\n    </tr>\n    <tr>\n      <th>15</th>\n      <td>p16</td>\n      <td>False</td>\n      <td>less_common</td>\n      <td>20</td>\n      <td>none</td>\n      <td>0</td>\n      <td>2</td>\n      <td>1</td>\n      <td>none</td>\n    </tr>\n    <tr>\n      <th>16</th>\n      <td>p17</td>\n      <td>False</td>\n      <td>none</td>\n      <td>21</td>\n      <td>heart_disease</td>\n      <td>0</td>\n      <td>3</td>\n      <td>1</td>\n      <td>none</td>\n    </tr>\n    <tr>\n      <th>17</th>\n      <td>p18</td>\n      <td>False</td>\n      <td>none</td>\n      <td>9</td>\n      <td>none</td>\n      <td>2</td>\n      <td>2</td>\n      <td>2</td>\n      <td>none</td>\n    </tr>\n    <tr>\n      <th>18</th>\n      <td>p19</td>\n      <td>False</td>\n      <td>common</td>\n      <td>62</td>\n      <td>none</td>\n      <td>2</td>\n      <td>2</td>\n      <td>2</td>\n      <td>medical</td>\n    </tr>\n    <tr>\n      <th>19</th>\n      <td>p20</td>\n      <td>False</td>\n      <td>none</td>\n      <td>68</td>\n      <td>lung_disease</td>\n      <td>2</td>\n      <td>2</td>\n      <td>2</td>\n      <td>none</td>\n    </tr>\n  </tbody>\n</table>\n</div>"
     },
     "metadata": {},
     "execution_count": 5
    }
   ],
   "source": [
    "num_person_data = person_data.copy()\n",
    "num_person_data"
   ]
  },
  {
   "cell_type": "code",
   "execution_count": 6,
   "metadata": {},
   "outputs": [
    {
     "output_type": "execute_result",
     "data": {
      "text/plain": [
       "  person has_covid symptom_risk age_risk health_risk occupation_risk  \\\n",
       "0     p1        10            3        0           5               0   \n",
       "0     p2         0            0        0           0               0   \n",
       "0     p3         0            0        5           5               0   \n",
       "0     p4         0            0        0           0               3   \n",
       "0     p5        10            3        0           5               0   \n",
       "0     p6        10            3        0           5               1   \n",
       "0     p7         0            3        0           0               0   \n",
       "0     p8         0            0        0           5               0   \n",
       "0     p9         0            0        0           5               0   \n",
       "0    p10         0            0        0           0               3   \n",
       "0    p11        10            0        0           5               0   \n",
       "0    p12         0            3        0           0               0   \n",
       "0    p13         0            0        0           0               1   \n",
       "0    p14         0            5        0           5               0   \n",
       "0    p15         0            1        0           5               0   \n",
       "0    p16         0            1        0           0               0   \n",
       "0    p17         0            0        0           5               0   \n",
       "0    p18         0            0        0           0               0   \n",
       "0    p19         0            3        5           0               3   \n",
       "0    p20         0            0        5           5               0   \n",
       "\n",
       "  elderly_risk living_density_risk total_individual_risk  \n",
       "0            2                   1                    21  \n",
       "0            2                   1                     3  \n",
       "0            2                   1                    13  \n",
       "0            2                   1                     6  \n",
       "0            0                   0                    18  \n",
       "0            0                   0                    19  \n",
       "0            0                   3                     6  \n",
       "0            0                   3                     8  \n",
       "0            0                   3                     8  \n",
       "0            0                   0                     3  \n",
       "0            0                   0                    15  \n",
       "0            0                   0                     3  \n",
       "0            0                   3                     4  \n",
       "0            0                   3                    13  \n",
       "0            0                   3                     9  \n",
       "0            0                   0                     1  \n",
       "0            0                   0                     5  \n",
       "0            4                   1                     5  \n",
       "0            4                   1                    16  \n",
       "0            4                   1                    15  "
      ],
      "text/html": "<div>\n<style scoped>\n    .dataframe tbody tr th:only-of-type {\n        vertical-align: middle;\n    }\n\n    .dataframe tbody tr th {\n        vertical-align: top;\n    }\n\n    .dataframe thead th {\n        text-align: right;\n    }\n</style>\n<table border=\"1\" class=\"dataframe\">\n  <thead>\n    <tr style=\"text-align: right;\">\n      <th></th>\n      <th>person</th>\n      <th>has_covid</th>\n      <th>symptom_risk</th>\n      <th>age_risk</th>\n      <th>health_risk</th>\n      <th>occupation_risk</th>\n      <th>elderly_risk</th>\n      <th>living_density_risk</th>\n      <th>total_individual_risk</th>\n    </tr>\n  </thead>\n  <tbody>\n    <tr>\n      <th>0</th>\n      <td>p1</td>\n      <td>10</td>\n      <td>3</td>\n      <td>0</td>\n      <td>5</td>\n      <td>0</td>\n      <td>2</td>\n      <td>1</td>\n      <td>21</td>\n    </tr>\n    <tr>\n      <th>0</th>\n      <td>p2</td>\n      <td>0</td>\n      <td>0</td>\n      <td>0</td>\n      <td>0</td>\n      <td>0</td>\n      <td>2</td>\n      <td>1</td>\n      <td>3</td>\n    </tr>\n    <tr>\n      <th>0</th>\n      <td>p3</td>\n      <td>0</td>\n      <td>0</td>\n      <td>5</td>\n      <td>5</td>\n      <td>0</td>\n      <td>2</td>\n      <td>1</td>\n      <td>13</td>\n    </tr>\n    <tr>\n      <th>0</th>\n      <td>p4</td>\n      <td>0</td>\n      <td>0</td>\n      <td>0</td>\n      <td>0</td>\n      <td>3</td>\n      <td>2</td>\n      <td>1</td>\n      <td>6</td>\n    </tr>\n    <tr>\n      <th>0</th>\n      <td>p5</td>\n      <td>10</td>\n      <td>3</td>\n      <td>0</td>\n      <td>5</td>\n      <td>0</td>\n      <td>0</td>\n      <td>0</td>\n      <td>18</td>\n    </tr>\n    <tr>\n      <th>0</th>\n      <td>p6</td>\n      <td>10</td>\n      <td>3</td>\n      <td>0</td>\n      <td>5</td>\n      <td>1</td>\n      <td>0</td>\n      <td>0</td>\n      <td>19</td>\n    </tr>\n    <tr>\n      <th>0</th>\n      <td>p7</td>\n      <td>0</td>\n      <td>3</td>\n      <td>0</td>\n      <td>0</td>\n      <td>0</td>\n      <td>0</td>\n      <td>3</td>\n      <td>6</td>\n    </tr>\n    <tr>\n      <th>0</th>\n      <td>p8</td>\n      <td>0</td>\n      <td>0</td>\n      <td>0</td>\n      <td>5</td>\n      <td>0</td>\n      <td>0</td>\n      <td>3</td>\n      <td>8</td>\n    </tr>\n    <tr>\n      <th>0</th>\n      <td>p9</td>\n      <td>0</td>\n      <td>0</td>\n      <td>0</td>\n      <td>5</td>\n      <td>0</td>\n      <td>0</td>\n      <td>3</td>\n      <td>8</td>\n    </tr>\n    <tr>\n      <th>0</th>\n      <td>p10</td>\n      <td>0</td>\n      <td>0</td>\n      <td>0</td>\n      <td>0</td>\n      <td>3</td>\n      <td>0</td>\n      <td>0</td>\n      <td>3</td>\n    </tr>\n    <tr>\n      <th>0</th>\n      <td>p11</td>\n      <td>10</td>\n      <td>0</td>\n      <td>0</td>\n      <td>5</td>\n      <td>0</td>\n      <td>0</td>\n      <td>0</td>\n      <td>15</td>\n    </tr>\n    <tr>\n      <th>0</th>\n      <td>p12</td>\n      <td>0</td>\n      <td>3</td>\n      <td>0</td>\n      <td>0</td>\n      <td>0</td>\n      <td>0</td>\n      <td>0</td>\n      <td>3</td>\n    </tr>\n    <tr>\n      <th>0</th>\n      <td>p13</td>\n      <td>0</td>\n      <td>0</td>\n      <td>0</td>\n      <td>0</td>\n      <td>1</td>\n      <td>0</td>\n      <td>3</td>\n      <td>4</td>\n    </tr>\n    <tr>\n      <th>0</th>\n      <td>p14</td>\n      <td>0</td>\n      <td>5</td>\n      <td>0</td>\n      <td>5</td>\n      <td>0</td>\n      <td>0</td>\n      <td>3</td>\n      <td>13</td>\n    </tr>\n    <tr>\n      <th>0</th>\n      <td>p15</td>\n      <td>0</td>\n      <td>1</td>\n      <td>0</td>\n      <td>5</td>\n      <td>0</td>\n      <td>0</td>\n      <td>3</td>\n      <td>9</td>\n    </tr>\n    <tr>\n      <th>0</th>\n      <td>p16</td>\n      <td>0</td>\n      <td>1</td>\n      <td>0</td>\n      <td>0</td>\n      <td>0</td>\n      <td>0</td>\n      <td>0</td>\n      <td>1</td>\n    </tr>\n    <tr>\n      <th>0</th>\n      <td>p17</td>\n      <td>0</td>\n      <td>0</td>\n      <td>0</td>\n      <td>5</td>\n      <td>0</td>\n      <td>0</td>\n      <td>0</td>\n      <td>5</td>\n    </tr>\n    <tr>\n      <th>0</th>\n      <td>p18</td>\n      <td>0</td>\n      <td>0</td>\n      <td>0</td>\n      <td>0</td>\n      <td>0</td>\n      <td>4</td>\n      <td>1</td>\n      <td>5</td>\n    </tr>\n    <tr>\n      <th>0</th>\n      <td>p19</td>\n      <td>0</td>\n      <td>3</td>\n      <td>5</td>\n      <td>0</td>\n      <td>3</td>\n      <td>4</td>\n      <td>1</td>\n      <td>16</td>\n    </tr>\n    <tr>\n      <th>0</th>\n      <td>p20</td>\n      <td>0</td>\n      <td>0</td>\n      <td>5</td>\n      <td>5</td>\n      <td>0</td>\n      <td>4</td>\n      <td>1</td>\n      <td>15</td>\n    </tr>\n  </tbody>\n</table>\n</div>"
     },
     "metadata": {},
     "execution_count": 6
    }
   ],
   "source": [
    "# INDIVIDUAL FACTORS\n",
    "risk_col=['person', 'has_covid', 'symptom_risk','age_risk', 'health_risk', 'occupation_risk',\n",
    "          'elderly_risk', 'living_density_risk', 'total_individual_risk']\n",
    "person_risk_data = pd.DataFrame(columns = risk_col)\n",
    "# convert confirmed_covid to numeric\n",
    "num_person_data['confirmed_covid'] = num_person_data['confirmed_covid'].astype(int)\n",
    "\n",
    "# iterate data\n",
    "for idx, row in num_person_data.iterrows():\n",
    "    # confirmed covid\n",
    "    has_covid = 10 if row['confirmed_covid'] == 1 else 0\n",
    "    \n",
    "    # age\n",
    "    age = 5 if row['age'] >= 60 else 0\n",
    "    \n",
    "    # health condition\n",
    "    health_risk = ['lung_disease', 'heart_disease', 'immunocompromised', 'diabetes']\n",
    "    health = 5 if row['health_condition'] in health_risk else 0\n",
    "    \n",
    "    # occupation\n",
    "    occupation_risk = ['medical', 'frontliner']\n",
    "    if row['occupation'] in occupation_risk:\n",
    "        occupation = 3 if row['occupation'] == 'medical' else 1\n",
    "    else:\n",
    "        occupation = 0\n",
    "    \n",
    "    # num of elderly\n",
    "    elder = row['num_of_elderly'] * 2\n",
    "    \n",
    "    # living density\n",
    "    # num of co-occupant / num of room\n",
    "    # num of co-occupant + 1 because we add the person itself to the house occupant\n",
    "    ttl_occupant = row['num_of_co-occupant'] + 1\n",
    "    living_density = ttl_occupant / row['num_of_room']\n",
    "    # print(living_density)\n",
    "    if living_density <= 1:\n",
    "        living_density = 0\n",
    "    elif living_density <= 1.5:\n",
    "        living_density = 1\n",
    "    else:\n",
    "        living_density = 3\n",
    "    \n",
    "    # symptoms\n",
    "    if row['with_symptoms'] == \"serious\":\n",
    "        symptom = 5\n",
    "    elif row['with_symptoms'] == \"common\":\n",
    "        symptom = 3\n",
    "    elif row['with_symptoms'] == \"less_common\":\n",
    "        symptom = 1\n",
    "    else:\n",
    "        symptom = 0\n",
    "    \n",
    "    \n",
    "    # total individual risk\n",
    "    risk_scores = [has_covid, symptom, age, health, occupation, elder, living_density]\n",
    "    sum_risk = sum(risk_scores)\n",
    "    risk_scores.append(sum_risk)\n",
    "    risk_scores.insert(0, row['person'])\n",
    "    \n",
    "    # dataframe building\n",
    "    curr_risk_data = pd.DataFrame([risk_scores], columns = risk_col)\n",
    "    person_risk_data = person_risk_data.append(curr_risk_data)      \n",
    "    \n",
    "person_risk_data    "
   ]
  },
  {
   "cell_type": "markdown",
   "metadata": {},
   "source": [
    "#### Contact Score\n",
    "get edge score for two persons (node-to-node)\n",
    "- contact\n",
    "- contact_type"
   ]
  },
  {
   "cell_type": "code",
   "execution_count": 7,
   "metadata": {},
   "outputs": [
    {
     "output_type": "execute_result",
     "data": {
      "text/plain": [
       "   person                      contact  \\\n",
       "0      p1  p2;p3;p4;p5;p6;p10;p11;p15;   \n",
       "1      p2                p1;p3;p4;p14;   \n",
       "2      p3                    p1;p2;p4;   \n",
       "3      p4                p1;p2;p3;p12;   \n",
       "4      p5                       p1;p7;   \n",
       "5      p6              p1;p10;p11;p15;   \n",
       "6      p7                    p5;p8;p9;   \n",
       "7      p8                       p7;p9;   \n",
       "8      p9                   p7;p8;p18;   \n",
       "9     p10               p1;p6;p11;p15;   \n",
       "10    p11               p1;p6;p10;p15;   \n",
       "11    p12                  p4;p16;p17;   \n",
       "12    p13                     p14;p15;   \n",
       "13    p14                  p2;p13;p15;   \n",
       "14    p15              p1;p10;p13;p14;   \n",
       "15    p16                     p12;p17;   \n",
       "16    p17                     p12;p16;   \n",
       "17    p18                  p9;p19;p20;   \n",
       "18    p19                     p18;p20;   \n",
       "19    p20                     p18;p19;   \n",
       "\n",
       "                                         contact_type  \n",
       "0   family;family;family;colleague;colleague;colle...  \n",
       "1                    family;family;family;schoolmate;  \n",
       "2                               family;family;family;  \n",
       "3                     family;family;family;colleague;  \n",
       "4                                colleague;colleague;  \n",
       "5            colleague;colleague;colleague;colleague;  \n",
       "6                            colleague;family;family;  \n",
       "7                                      family;family;  \n",
       "8                           family;family;schoolmate;  \n",
       "9            colleague;colleague;colleague;colleague;  \n",
       "10           colleague;colleague;colleague;colleague;  \n",
       "11                   colleague;schoolmate;schoolmate;  \n",
       "12                                     family;family;  \n",
       "13                          schoolmate;family;family;  \n",
       "14                 colleague;colleague;family;family;  \n",
       "15                             schoolmate;schoolmate;  \n",
       "16                             schoolmate;schoolmate;  \n",
       "17                          schoolmate;family;family;  \n",
       "18                                     family;family;  \n",
       "19                                     family;family;  "
      ],
      "text/html": "<div>\n<style scoped>\n    .dataframe tbody tr th:only-of-type {\n        vertical-align: middle;\n    }\n\n    .dataframe tbody tr th {\n        vertical-align: top;\n    }\n\n    .dataframe thead th {\n        text-align: right;\n    }\n</style>\n<table border=\"1\" class=\"dataframe\">\n  <thead>\n    <tr style=\"text-align: right;\">\n      <th></th>\n      <th>person</th>\n      <th>contact</th>\n      <th>contact_type</th>\n    </tr>\n  </thead>\n  <tbody>\n    <tr>\n      <th>0</th>\n      <td>p1</td>\n      <td>p2;p3;p4;p5;p6;p10;p11;p15;</td>\n      <td>family;family;family;colleague;colleague;colle...</td>\n    </tr>\n    <tr>\n      <th>1</th>\n      <td>p2</td>\n      <td>p1;p3;p4;p14;</td>\n      <td>family;family;family;schoolmate;</td>\n    </tr>\n    <tr>\n      <th>2</th>\n      <td>p3</td>\n      <td>p1;p2;p4;</td>\n      <td>family;family;family;</td>\n    </tr>\n    <tr>\n      <th>3</th>\n      <td>p4</td>\n      <td>p1;p2;p3;p12;</td>\n      <td>family;family;family;colleague;</td>\n    </tr>\n    <tr>\n      <th>4</th>\n      <td>p5</td>\n      <td>p1;p7;</td>\n      <td>colleague;colleague;</td>\n    </tr>\n    <tr>\n      <th>5</th>\n      <td>p6</td>\n      <td>p1;p10;p11;p15;</td>\n      <td>colleague;colleague;colleague;colleague;</td>\n    </tr>\n    <tr>\n      <th>6</th>\n      <td>p7</td>\n      <td>p5;p8;p9;</td>\n      <td>colleague;family;family;</td>\n    </tr>\n    <tr>\n      <th>7</th>\n      <td>p8</td>\n      <td>p7;p9;</td>\n      <td>family;family;</td>\n    </tr>\n    <tr>\n      <th>8</th>\n      <td>p9</td>\n      <td>p7;p8;p18;</td>\n      <td>family;family;schoolmate;</td>\n    </tr>\n    <tr>\n      <th>9</th>\n      <td>p10</td>\n      <td>p1;p6;p11;p15;</td>\n      <td>colleague;colleague;colleague;colleague;</td>\n    </tr>\n    <tr>\n      <th>10</th>\n      <td>p11</td>\n      <td>p1;p6;p10;p15;</td>\n      <td>colleague;colleague;colleague;colleague;</td>\n    </tr>\n    <tr>\n      <th>11</th>\n      <td>p12</td>\n      <td>p4;p16;p17;</td>\n      <td>colleague;schoolmate;schoolmate;</td>\n    </tr>\n    <tr>\n      <th>12</th>\n      <td>p13</td>\n      <td>p14;p15;</td>\n      <td>family;family;</td>\n    </tr>\n    <tr>\n      <th>13</th>\n      <td>p14</td>\n      <td>p2;p13;p15;</td>\n      <td>schoolmate;family;family;</td>\n    </tr>\n    <tr>\n      <th>14</th>\n      <td>p15</td>\n      <td>p1;p10;p13;p14;</td>\n      <td>colleague;colleague;family;family;</td>\n    </tr>\n    <tr>\n      <th>15</th>\n      <td>p16</td>\n      <td>p12;p17;</td>\n      <td>schoolmate;schoolmate;</td>\n    </tr>\n    <tr>\n      <th>16</th>\n      <td>p17</td>\n      <td>p12;p16;</td>\n      <td>schoolmate;schoolmate;</td>\n    </tr>\n    <tr>\n      <th>17</th>\n      <td>p18</td>\n      <td>p9;p19;p20;</td>\n      <td>schoolmate;family;family;</td>\n    </tr>\n    <tr>\n      <th>18</th>\n      <td>p19</td>\n      <td>p18;p20;</td>\n      <td>family;family;</td>\n    </tr>\n    <tr>\n      <th>19</th>\n      <td>p20</td>\n      <td>p18;p19;</td>\n      <td>family;family;</td>\n    </tr>\n  </tbody>\n</table>\n</div>"
     },
     "metadata": {},
     "execution_count": 7
    }
   ],
   "source": [
    "num_p2p_data = p2p_data.copy()\n",
    "num_p2p_data"
   ]
  },
  {
   "cell_type": "code",
   "execution_count": 8,
   "metadata": {},
   "outputs": [
    {
     "output_type": "execute_result",
     "data": {
      "text/plain": [
       "   person contact contact_type contact_weight\n",
       "0      p1      p2       family              3\n",
       "1      p1      p3       family              3\n",
       "2      p1      p4       family              3\n",
       "3      p1      p5    colleague              1\n",
       "4      p1      p6    colleague              1\n",
       "..    ...     ...          ...            ...\n",
       "2     p18     p20       family              3\n",
       "0     p19     p18       family              3\n",
       "1     p19     p20       family              3\n",
       "0     p20     p18       family              3\n",
       "1     p20     p19       family              3\n",
       "\n",
       "[64 rows x 4 columns]"
      ],
      "text/html": "<div>\n<style scoped>\n    .dataframe tbody tr th:only-of-type {\n        vertical-align: middle;\n    }\n\n    .dataframe tbody tr th {\n        vertical-align: top;\n    }\n\n    .dataframe thead th {\n        text-align: right;\n    }\n</style>\n<table border=\"1\" class=\"dataframe\">\n  <thead>\n    <tr style=\"text-align: right;\">\n      <th></th>\n      <th>person</th>\n      <th>contact</th>\n      <th>contact_type</th>\n      <th>contact_weight</th>\n    </tr>\n  </thead>\n  <tbody>\n    <tr>\n      <th>0</th>\n      <td>p1</td>\n      <td>p2</td>\n      <td>family</td>\n      <td>3</td>\n    </tr>\n    <tr>\n      <th>1</th>\n      <td>p1</td>\n      <td>p3</td>\n      <td>family</td>\n      <td>3</td>\n    </tr>\n    <tr>\n      <th>2</th>\n      <td>p1</td>\n      <td>p4</td>\n      <td>family</td>\n      <td>3</td>\n    </tr>\n    <tr>\n      <th>3</th>\n      <td>p1</td>\n      <td>p5</td>\n      <td>colleague</td>\n      <td>1</td>\n    </tr>\n    <tr>\n      <th>4</th>\n      <td>p1</td>\n      <td>p6</td>\n      <td>colleague</td>\n      <td>1</td>\n    </tr>\n    <tr>\n      <th>...</th>\n      <td>...</td>\n      <td>...</td>\n      <td>...</td>\n      <td>...</td>\n    </tr>\n    <tr>\n      <th>2</th>\n      <td>p18</td>\n      <td>p20</td>\n      <td>family</td>\n      <td>3</td>\n    </tr>\n    <tr>\n      <th>0</th>\n      <td>p19</td>\n      <td>p18</td>\n      <td>family</td>\n      <td>3</td>\n    </tr>\n    <tr>\n      <th>1</th>\n      <td>p19</td>\n      <td>p20</td>\n      <td>family</td>\n      <td>3</td>\n    </tr>\n    <tr>\n      <th>0</th>\n      <td>p20</td>\n      <td>p18</td>\n      <td>family</td>\n      <td>3</td>\n    </tr>\n    <tr>\n      <th>1</th>\n      <td>p20</td>\n      <td>p19</td>\n      <td>family</td>\n      <td>3</td>\n    </tr>\n  </tbody>\n</table>\n<p>64 rows × 4 columns</p>\n</div>"
     },
     "metadata": {},
     "execution_count": 8
    }
   ],
   "source": [
    "net_col = ['person', 'contact', 'contact_type', 'contact_weight']\n",
    "person_network_data = pd.DataFrame(columns = net_col)\n",
    "\n",
    "for idx, row in num_p2p_data.iterrows():\n",
    "    # extract contact\n",
    "    contact = [x for x in row['contact'].split(';') if x != '']\n",
    "    # print(contact)\n",
    "    \n",
    "    # extract contacy type\n",
    "    contact_type = [x for x in row['contact_type'].split(';') if x != '']\n",
    "    # print(contact_type)\n",
    "    \n",
    "    # only two contact type used here: family = 3, others = 1\n",
    "    # expand contact type later\n",
    "    contact_score = [3 if x == 'family' else 1 for x in contact_type]\n",
    "    # print(contact_score)   \n",
    "    \n",
    "    # build data frame\n",
    "    person_list = [row['person'] for x in range(len(contact))] # duplicate person for listing\n",
    "    curr_net_data = pd.DataFrame(columns = net_col)\n",
    "    curr_net_data['person'] = person_list\n",
    "    curr_net_data['contact'] = contact\n",
    "    curr_net_data['contact_type'] = contact_type\n",
    "    curr_net_data['contact_weight'] = contact_score\n",
    "    \n",
    "    person_network_data = person_network_data.append(curr_net_data)\n",
    "    \n",
    "person_network_data\n"
   ]
  },
  {
   "cell_type": "markdown",
   "metadata": {},
   "source": [
    "#### Person-to-person total contact weight"
   ]
  },
  {
   "cell_type": "code",
   "execution_count": 9,
   "metadata": {
    "scrolled": true
   },
   "outputs": [
    {
     "output_type": "execute_result",
     "data": {
      "text/plain": [
       "   person contact  weight\n",
       "0      p1      p2      27\n",
       "1      p1      p3      37\n",
       "2      p1      p4      30\n",
       "3      p1      p5      40\n",
       "4      p1      p6      41\n",
       "..    ...     ...     ...\n",
       "59    p18     p20      23\n",
       "60    p19     p18      24\n",
       "61    p19     p20      34\n",
       "62    p20     p18      23\n",
       "63    p20     p19      34\n",
       "\n",
       "[64 rows x 3 columns]"
      ],
      "text/html": "<div>\n<style scoped>\n    .dataframe tbody tr th:only-of-type {\n        vertical-align: middle;\n    }\n\n    .dataframe tbody tr th {\n        vertical-align: top;\n    }\n\n    .dataframe thead th {\n        text-align: right;\n    }\n</style>\n<table border=\"1\" class=\"dataframe\">\n  <thead>\n    <tr style=\"text-align: right;\">\n      <th></th>\n      <th>person</th>\n      <th>contact</th>\n      <th>weight</th>\n    </tr>\n  </thead>\n  <tbody>\n    <tr>\n      <th>0</th>\n      <td>p1</td>\n      <td>p2</td>\n      <td>27</td>\n    </tr>\n    <tr>\n      <th>1</th>\n      <td>p1</td>\n      <td>p3</td>\n      <td>37</td>\n    </tr>\n    <tr>\n      <th>2</th>\n      <td>p1</td>\n      <td>p4</td>\n      <td>30</td>\n    </tr>\n    <tr>\n      <th>3</th>\n      <td>p1</td>\n      <td>p5</td>\n      <td>40</td>\n    </tr>\n    <tr>\n      <th>4</th>\n      <td>p1</td>\n      <td>p6</td>\n      <td>41</td>\n    </tr>\n    <tr>\n      <th>...</th>\n      <td>...</td>\n      <td>...</td>\n      <td>...</td>\n    </tr>\n    <tr>\n      <th>59</th>\n      <td>p18</td>\n      <td>p20</td>\n      <td>23</td>\n    </tr>\n    <tr>\n      <th>60</th>\n      <td>p19</td>\n      <td>p18</td>\n      <td>24</td>\n    </tr>\n    <tr>\n      <th>61</th>\n      <td>p19</td>\n      <td>p20</td>\n      <td>34</td>\n    </tr>\n    <tr>\n      <th>62</th>\n      <td>p20</td>\n      <td>p18</td>\n      <td>23</td>\n    </tr>\n    <tr>\n      <th>63</th>\n      <td>p20</td>\n      <td>p19</td>\n      <td>34</td>\n    </tr>\n  </tbody>\n</table>\n<p>64 rows × 3 columns</p>\n</div>"
     },
     "metadata": {},
     "execution_count": 9
    }
   ],
   "source": [
    "p2p_netw_list = []\n",
    "for idx, row in person_network_data.iterrows():\n",
    "    # person_risk_data = rosk score of each individual\n",
    "    \n",
    "    # find the value of individual risk of the two contact person\n",
    "    p1 = int(person_risk_data['total_individual_risk'].loc[\n",
    "        person_risk_data['person'] == row['person']])\n",
    "    p2 = int(person_risk_data['total_individual_risk'].loc[\n",
    "        person_risk_data['person'] == row['contact']])\n",
    "    \n",
    "    # add the risk score of p1, p2, and contact weight\n",
    "    ttl_weight = p1 + p2 + row['contact_weight']\n",
    "    \n",
    "    # print(f\"{p1}, {p2}, {row['contact_weight']}, = {ttl_weight}\")\n",
    "    p2p_netw_list.append((row['person'],row['contact'],ttl_weight))\n",
    "\n",
    "\n",
    "p2p_netw_col = ['person', 'contact', 'weight']\n",
    "p2p_netw_data = pd.DataFrame(p2p_netw_list, columns=p2p_netw_col) \n",
    "p2p_netw_data.to_csv('data/weighted_person_contact.csv', index=False)\n",
    "p2p_netw_data"
   ]
  },
  {
   "cell_type": "markdown",
   "metadata": {},
   "source": [
    "## Network"
   ]
  },
  {
   "cell_type": "markdown",
   "metadata": {},
   "source": [
    "#### visualized contact weights"
   ]
  },
  {
   "cell_type": "code",
   "execution_count": 10,
   "metadata": {},
   "outputs": [
    {
     "output_type": "execute_result",
     "data": {
      "text/plain": [
       "   person contact    weight\n",
       "0      p1      p2  1.222222\n",
       "1      p1      p3  1.798883\n",
       "2      p1      p4  1.446927\n",
       "3      p1      p5  1.949721\n",
       "4      p1      p6  2.000000\n",
       "..    ...     ...       ...\n",
       "59    p18     p20  1.347755\n",
       "60    p19     p18  1.407050\n",
       "61    p19     p20  2.000000\n",
       "62    p20     p18  1.347755\n",
       "63    p20     p19  2.000000\n",
       "\n",
       "[64 rows x 3 columns]"
      ],
      "text/html": "<div>\n<style scoped>\n    .dataframe tbody tr th:only-of-type {\n        vertical-align: middle;\n    }\n\n    .dataframe tbody tr th {\n        vertical-align: top;\n    }\n\n    .dataframe thead th {\n        text-align: right;\n    }\n</style>\n<table border=\"1\" class=\"dataframe\">\n  <thead>\n    <tr style=\"text-align: right;\">\n      <th></th>\n      <th>person</th>\n      <th>contact</th>\n      <th>weight</th>\n    </tr>\n  </thead>\n  <tbody>\n    <tr>\n      <th>0</th>\n      <td>p1</td>\n      <td>p2</td>\n      <td>1.222222</td>\n    </tr>\n    <tr>\n      <th>1</th>\n      <td>p1</td>\n      <td>p3</td>\n      <td>1.798883</td>\n    </tr>\n    <tr>\n      <th>2</th>\n      <td>p1</td>\n      <td>p4</td>\n      <td>1.446927</td>\n    </tr>\n    <tr>\n      <th>3</th>\n      <td>p1</td>\n      <td>p5</td>\n      <td>1.949721</td>\n    </tr>\n    <tr>\n      <th>4</th>\n      <td>p1</td>\n      <td>p6</td>\n      <td>2.000000</td>\n    </tr>\n    <tr>\n      <th>...</th>\n      <td>...</td>\n      <td>...</td>\n      <td>...</td>\n    </tr>\n    <tr>\n      <th>59</th>\n      <td>p18</td>\n      <td>p20</td>\n      <td>1.347755</td>\n    </tr>\n    <tr>\n      <th>60</th>\n      <td>p19</td>\n      <td>p18</td>\n      <td>1.407050</td>\n    </tr>\n    <tr>\n      <th>61</th>\n      <td>p19</td>\n      <td>p20</td>\n      <td>2.000000</td>\n    </tr>\n    <tr>\n      <th>62</th>\n      <td>p20</td>\n      <td>p18</td>\n      <td>1.347755</td>\n    </tr>\n    <tr>\n      <th>63</th>\n      <td>p20</td>\n      <td>p19</td>\n      <td>2.000000</td>\n    </tr>\n  </tbody>\n</table>\n<p>64 rows × 3 columns</p>\n</div>"
     },
     "metadata": {},
     "execution_count": 10
    }
   ],
   "source": [
    "# normalize weight for visualization\n",
    "norm_data = p2p_netw_data.copy()\n",
    "norm_data['weight'] = pd.to_numeric(norm_data[\"weight\"], downcast=\"float\")\n",
    "\n",
    "for idx, row in norm_data.iterrows():\n",
    "    x_min = (row['weight'] - norm_data['weight'].min())\n",
    "    max_min = (norm_data['weight'].max() - norm_data['weight'].min())\n",
    "    norm = (x_min / max_min) * 2 # normalized by 0 to 2\n",
    "    norm_data['weight'][idx] = norm\n",
    "norm_data"
   ]
  },
  {
   "source": [
    "# RANKING OF INDIVIDUAL PERSON"
   ],
   "cell_type": "markdown",
   "metadata": {}
  },
  {
   "source": [
    "### WEIGHT BASED, NO CENTRALITY "
   ],
   "cell_type": "markdown",
   "metadata": {}
  },
  {
   "cell_type": "code",
   "execution_count": 11,
   "metadata": {},
   "outputs": [
    {
     "output_type": "stream",
     "name": "stdout",
     "text": [
      "  person contact  weight\n0     p1      p2      27\n1     p1      p3      37\n2     p1      p4      30\n3     p1      p5      40\n4     p1      p6      41\n5     p1     p10      25\n6     p1     p11      37\n7     p1     p15      31\n"
     ]
    },
    {
     "output_type": "execute_result",
     "data": {
      "text/plain": [
       "  person contact  weight\n",
       "4     p1      p6      41\n",
       "3     p1      p5      40\n",
       "1     p1      p3      37\n",
       "6     p1     p11      37\n",
       "7     p1     p15      31\n",
       "2     p1      p4      30\n",
       "0     p1      p2      27\n",
       "5     p1     p10      25"
      ],
      "text/html": "<div>\n<style scoped>\n    .dataframe tbody tr th:only-of-type {\n        vertical-align: middle;\n    }\n\n    .dataframe tbody tr th {\n        vertical-align: top;\n    }\n\n    .dataframe thead th {\n        text-align: right;\n    }\n</style>\n<table border=\"1\" class=\"dataframe\">\n  <thead>\n    <tr style=\"text-align: right;\">\n      <th></th>\n      <th>person</th>\n      <th>contact</th>\n      <th>weight</th>\n    </tr>\n  </thead>\n  <tbody>\n    <tr>\n      <th>4</th>\n      <td>p1</td>\n      <td>p6</td>\n      <td>41</td>\n    </tr>\n    <tr>\n      <th>3</th>\n      <td>p1</td>\n      <td>p5</td>\n      <td>40</td>\n    </tr>\n    <tr>\n      <th>1</th>\n      <td>p1</td>\n      <td>p3</td>\n      <td>37</td>\n    </tr>\n    <tr>\n      <th>6</th>\n      <td>p1</td>\n      <td>p11</td>\n      <td>37</td>\n    </tr>\n    <tr>\n      <th>7</th>\n      <td>p1</td>\n      <td>p15</td>\n      <td>31</td>\n    </tr>\n    <tr>\n      <th>2</th>\n      <td>p1</td>\n      <td>p4</td>\n      <td>30</td>\n    </tr>\n    <tr>\n      <th>0</th>\n      <td>p1</td>\n      <td>p2</td>\n      <td>27</td>\n    </tr>\n    <tr>\n      <th>5</th>\n      <td>p1</td>\n      <td>p10</td>\n      <td>25</td>\n    </tr>\n  </tbody>\n</table>\n</div>"
     },
     "metadata": {},
     "execution_count": 11
    }
   ],
   "source": [
    "# get weighted contact data and the person/patient list\n",
    "raw_test_data = p2p_netw_data.copy()\n",
    "\n",
    "def get_patient_contact_list_w(raw_test_data, target_person):\n",
    "    # get the person names\n",
    "    # patient_list = raw_test_data.person.unique()\n",
    "    # get the list of contacted persons\n",
    "    person_test_data = raw_test_data.loc[raw_test_data[\"person\"] == target_person]\n",
    "    print(person_test_data)\n",
    "    # sort by \n",
    "    person_test_data = person_test_data.sort_values(['weight'], ascending = False)\n",
    "    return(person_test_data)\n",
    "\n",
    "get_patient_contact_list_w(raw_test_data, 'p1')"
   ]
  },
  {
   "source": [
    "### CENTRALITY FIRST BEFORE WEIGHT"
   ],
   "cell_type": "markdown",
   "metadata": {}
  },
  {
   "cell_type": "code",
   "execution_count": 12,
   "metadata": {},
   "outputs": [
    {
     "output_type": "execute_result",
     "data": {
      "text/plain": [
       "   person  vulnerable_rank  spreader_rank  priority_rank\n",
       "3      p4                4              4              1\n",
       "14    p15                1              9              2\n",
       "1      p2                5              8              3\n",
       "2      p3                3             11              4\n",
       "9     p10                2             13              5"
      ],
      "text/html": "<div>\n<style scoped>\n    .dataframe tbody tr th:only-of-type {\n        vertical-align: middle;\n    }\n\n    .dataframe tbody tr th {\n        vertical-align: top;\n    }\n\n    .dataframe thead th {\n        text-align: right;\n    }\n</style>\n<table border=\"1\" class=\"dataframe\">\n  <thead>\n    <tr style=\"text-align: right;\">\n      <th></th>\n      <th>person</th>\n      <th>vulnerable_rank</th>\n      <th>spreader_rank</th>\n      <th>priority_rank</th>\n    </tr>\n  </thead>\n  <tbody>\n    <tr>\n      <th>3</th>\n      <td>p4</td>\n      <td>4</td>\n      <td>4</td>\n      <td>1</td>\n    </tr>\n    <tr>\n      <th>14</th>\n      <td>p15</td>\n      <td>1</td>\n      <td>9</td>\n      <td>2</td>\n    </tr>\n    <tr>\n      <th>1</th>\n      <td>p2</td>\n      <td>5</td>\n      <td>8</td>\n      <td>3</td>\n    </tr>\n    <tr>\n      <th>2</th>\n      <td>p3</td>\n      <td>3</td>\n      <td>11</td>\n      <td>4</td>\n    </tr>\n    <tr>\n      <th>9</th>\n      <td>p10</td>\n      <td>2</td>\n      <td>13</td>\n      <td>5</td>\n    </tr>\n  </tbody>\n</table>\n</div>"
     },
     "metadata": {},
     "execution_count": 12
    }
   ],
   "source": [
    "# get weighted contact data and the person/patient list\n",
    "raw_test_data = p2p_netw_data.copy()\n",
    "\n",
    "# list the nodes and their analysis\n",
    "def sort_network_degree(net_data, reverse_sort=True):\n",
    "    temp = []\n",
    "    for w in sorted(net_data, key=net_data.get, reverse=reverse_sort):\n",
    "        # print(f'{w} :: {net_data[w]}')\n",
    "        temp.append((w, net_data[w]))\n",
    "    return temp\n",
    "\n",
    "# ranker function\n",
    "def rank_data(data):\n",
    "    temp = []\n",
    "    for i in range(len(data)):\n",
    "        p, val = data[i]\n",
    "        temp.append((p, i+1))\n",
    "    return temp\n",
    "\n",
    "def populate_rank_data(data, rank_list, rank_class):\n",
    "    for i in range(len(rank_list)):\n",
    "        data[rank_class].loc[data['person'] == rank_list[i][0]] = rank_list[i][1]\n",
    "\n",
    "def set_ranking_dataframe(raw_test_data):\n",
    "    # set networks\n",
    "    p2p_net = nx.from_pandas_edgelist(raw_test_data,'person','contact', edge_attr='weight')\n",
    "    # spreader\n",
    "    bc = nx.betweenness_centrality(p2p_net, weight='weight')\n",
    "    sorted_bc = sort_network_degree(bc)\n",
    "\n",
    "    # vulnerability\n",
    "    ec = nx.eigenvector_centrality(p2p_net, weight='weight')\n",
    "    sorted_ec = sort_network_degree(ec)\n",
    "\n",
    "    # remove covid persons for vulnerability\n",
    "    for_test = []\n",
    "    # list_important = sort_network_degree(nx.eigenvector_centrality(p2p_net, weight='weight'))\n",
    "    for i in sorted_ec:\n",
    "        # find the covid positive persons\n",
    "        has_covid = person_data['confirmed_covid'].loc[person_data['person'] == i[0]]\n",
    "        # list non covid positive\n",
    "        if not has_covid.bool():\n",
    "            for_test.append(i)\n",
    "    \n",
    "    # build dataframe for ranking\n",
    "    ranking_data = pd.DataFrame(columns=['person', 'has_covid', 'vulnerable_rank', 'spreader_rank'])\n",
    "    ranking_data['person'] = person_data['person']\n",
    "    ranking_data['has_covid'] = person_data['confirmed_covid']\n",
    "    ranking_data['vulnerable_rank'] = 0\n",
    "    ranking_data['spreader_rank'] = 0\n",
    "    \n",
    "    # set ranking for spreader\n",
    "    rank_spread = rank_data(sorted_bc)\n",
    "\n",
    "    # set ranking for vulnerable / for test\n",
    "    rank_test = rank_data(for_test)\n",
    "\n",
    "    # populate\n",
    "    populate_rank_data(ranking_data, rank_spread, 'spreader_rank')\n",
    "    populate_rank_data(ranking_data, rank_test, 'vulnerable_rank')\n",
    "\n",
    "    # set priority rank\n",
    "    ranking_data['priority_rank'] = 0\n",
    "    rank_avg = {}\n",
    "    # get rank avg score\n",
    "    for idx, row in ranking_data.iterrows():\n",
    "        rank_avg[row['person']] = (row['spreader_rank'] + row['vulnerable_rank'])/2 \n",
    "    # print(rank_avg)\n",
    "    sorted_pri = sort_network_degree(rank_avg, False)\n",
    "    rank_priority = rank_data(sorted_pri)\n",
    "    populate_rank_data(ranking_data, rank_priority , 'priority_rank')\n",
    "\n",
    "    return ranking_data\n",
    "\n",
    "\n",
    "def get_patient_contact_test_priority(raw_test_data, ranking_data, target_person):\n",
    "    # get list of contact person\n",
    "    person_test_data = raw_test_data.loc[raw_test_data[\"person\"] == target_person]\n",
    "    person_contact_list = person_test_data.contact.values\n",
    "    # make new table\n",
    "    priority_rank_df = ranking_data[ranking_data['person'].isin(person_contact_list)]\n",
    "    priority_rank_df = priority_rank_df[priority_rank_df['has_covid'] == False]\n",
    "    priority_rank_df = priority_rank_df.drop(columns=['has_covid'])\n",
    "    # sort priority rank by descending\n",
    "    priority_rank_df = priority_rank_df.sort_values(by=['priority_rank'])\n",
    "    # set the priority rank count\n",
    "    priority_rank_df.priority_rank = np.arange(1, len(priority_rank_df) + 1)\n",
    "    return priority_rank_df\n",
    "\n",
    "rank_priority_df = set_ranking_dataframe(raw_test_data)\n",
    "test_patient_df = get_patient_contact_test_priority(raw_test_data, rank_priority_df, 'p1')\n",
    "test_patient_df"
   ]
  },
  {
   "source": [
    "### VISUALIZE GRAPH"
   ],
   "cell_type": "markdown",
   "metadata": {}
  },
  {
   "cell_type": "code",
   "execution_count": 13,
   "metadata": {},
   "outputs": [],
   "source": [
    "from sklearn.preprocessing import MinMaxScaler"
   ]
  },
  {
   "cell_type": "code",
   "execution_count": 14,
   "metadata": {},
   "outputs": [
    {
     "output_type": "execute_result",
     "data": {
      "text/plain": [
       "<Figure size 432x432 with 1 Axes>"
      ],
      "image/svg+xml": "<?xml version=\"1.0\" encoding=\"utf-8\" standalone=\"no\"?>\r\n<!DOCTYPE svg PUBLIC \"-//W3C//DTD SVG 1.1//EN\"\r\n  \"http://www.w3.org/Graphics/SVG/1.1/DTD/svg11.dtd\">\r\n<!-- Created with matplotlib (https://matplotlib.org/) -->\r\n<svg height=\"340.56pt\" version=\"1.1\" viewBox=\"0 0 349.2 340.56\" width=\"349.2pt\" xmlns=\"http://www.w3.org/2000/svg\" xmlns:xlink=\"http://www.w3.org/1999/xlink\">\r\n <metadata>\r\n  <rdf:RDF xmlns:cc=\"http://creativecommons.org/ns#\" xmlns:dc=\"http://purl.org/dc/elements/1.1/\" xmlns:rdf=\"http://www.w3.org/1999/02/22-rdf-syntax-ns#\">\r\n   <cc:Work>\r\n    <dc:type rdf:resource=\"http://purl.org/dc/dcmitype/StillImage\"/>\r\n    <dc:date>2021-03-02T22:53:19.472951</dc:date>\r\n    <dc:format>image/svg+xml</dc:format>\r\n    <dc:creator>\r\n     <cc:Agent>\r\n      <dc:title>Matplotlib v3.3.1, https://matplotlib.org/</dc:title>\r\n     </cc:Agent>\r\n    </dc:creator>\r\n   </cc:Work>\r\n  </rdf:RDF>\r\n </metadata>\r\n <defs>\r\n  <style type=\"text/css\">*{stroke-linecap:butt;stroke-linejoin:round;}</style>\r\n </defs>\r\n <g id=\"figure_1\">\r\n  <g id=\"patch_1\">\r\n   <path d=\"M 0 340.56 \r\nL 349.2 340.56 \r\nL 349.2 0 \r\nL 0 0 \r\nz\r\n\" style=\"fill:none;\"/>\r\n  </g>\r\n  <g id=\"axes_1\">\r\n   <g id=\"patch_2\">\r\n    <path d=\"M 7.2 333.36 \r\nL 342 333.36 \r\nL 342 7.2 \r\nL 7.2 7.2 \r\nz\r\n\" style=\"fill:#ffffff;\"/>\r\n   </g>\r\n   <g id=\"LineCollection_1\">\r\n    <path clip-path=\"url(#p9c621e8f83)\" d=\"M 145.11836 197.8245 \r\nL 149.059662 22.025455 \r\n\" style=\"fill:none;stroke:#000000;stroke-width:1.5;\"/>\r\n    <path clip-path=\"url(#p9c621e8f83)\" d=\"M 145.11836 197.8245 \r\nL 208.643902 283.387777 \r\n\" style=\"fill:none;stroke:#000000;stroke-width:4;\"/>\r\n    <path clip-path=\"url(#p9c621e8f83)\" d=\"M 145.11836 197.8245 \r\nL 22.418182 151.250806 \r\n\" style=\"fill:none;stroke:#000000;stroke-width:2.25;\"/>\r\n    <path clip-path=\"url(#p9c621e8f83)\" d=\"M 145.11836 197.8245 \r\nL 326.781818 147.248787 \r\n\" style=\"fill:none;stroke:#000000;\"/>\r\n    <path clip-path=\"url(#p9c621e8f83)\" d=\"M 145.11836 197.8245 \r\nL 74.913523 318.534545 \r\n\" style=\"fill:none;stroke:#000000;stroke-width:2.5;\"/>\r\n   </g>\r\n   <g id=\"matplotlib.axis_1\">\r\n    <g id=\"xtick_1\"/>\r\n    <g id=\"xtick_2\"/>\r\n    <g id=\"xtick_3\"/>\r\n    <g id=\"xtick_4\"/>\r\n    <g id=\"xtick_5\"/>\r\n    <g id=\"xtick_6\"/>\r\n    <g id=\"xtick_7\"/>\r\n    <g id=\"xtick_8\"/>\r\n   </g>\r\n   <g id=\"matplotlib.axis_2\">\r\n    <g id=\"ytick_1\"/>\r\n    <g id=\"ytick_2\"/>\r\n    <g id=\"ytick_3\"/>\r\n    <g id=\"ytick_4\"/>\r\n    <g id=\"ytick_5\"/>\r\n    <g id=\"ytick_6\"/>\r\n    <g id=\"ytick_7\"/>\r\n    <g id=\"ytick_8\"/>\r\n   </g>\r\n   <g id=\"PathCollection_1\">\r\n    <defs>\r\n     <path d=\"M 0 8.660254 \r\nC 2.296726 8.660254 4.499694 7.747755 6.123724 6.123724 \r\nC 7.747755 4.499694 8.660254 2.296726 8.660254 -0 \r\nC 8.660254 -2.296726 7.747755 -4.499694 6.123724 -6.123724 \r\nC 4.499694 -7.747755 2.296726 -8.660254 0 -8.660254 \r\nC -2.296726 -8.660254 -4.499694 -7.747755 -6.123724 -6.123724 \r\nC -7.747755 -4.499694 -8.660254 -2.296726 -8.660254 0 \r\nC -8.660254 2.296726 -7.747755 4.499694 -6.123724 6.123724 \r\nC -4.499694 7.747755 -2.296726 8.660254 0 8.660254 \r\nz\r\n\" id=\"C0_0_0f4e9bdbd2\"/>\r\n    </defs>\r\n    <g clip-path=\"url(#p9c621e8f83)\">\r\n     <use style=\"fill:#ff00ff;stroke:#ff00ff;\" x=\"145.11836\" xlink:href=\"#C0_0_0f4e9bdbd2\" y=\"197.8245\"/>\r\n    </g>\r\n    <g clip-path=\"url(#p9c621e8f83)\">\r\n     <use style=\"fill:#ffff00;stroke:#ffff00;\" x=\"149.059662\" xlink:href=\"#C0_0_0f4e9bdbd2\" y=\"22.025455\"/>\r\n    </g>\r\n    <g clip-path=\"url(#p9c621e8f83)\">\r\n     <use style=\"fill:#ff4000;stroke:#ff4000;\" x=\"208.643902\" xlink:href=\"#C0_0_0f4e9bdbd2\" y=\"283.387777\"/>\r\n    </g>\r\n    <g clip-path=\"url(#p9c621e8f83)\">\r\n     <use style=\"fill:#ff8000;stroke:#ff8000;\" x=\"22.418182\" xlink:href=\"#C0_0_0f4e9bdbd2\" y=\"151.250806\"/>\r\n    </g>\r\n    <g clip-path=\"url(#p9c621e8f83)\">\r\n     <use style=\"fill:#ffff00;stroke:#ffff00;\" x=\"326.781818\" xlink:href=\"#C0_0_0f4e9bdbd2\" y=\"147.248787\"/>\r\n    </g>\r\n    <g clip-path=\"url(#p9c621e8f83)\">\r\n     <use style=\"fill:#ff8000;stroke:#ff8000;\" x=\"74.913523\" xlink:href=\"#C0_0_0f4e9bdbd2\" y=\"318.534545\"/>\r\n    </g>\r\n   </g>\r\n   <g id=\"patch_3\">\r\n    <path d=\"M 7.2 333.36 \r\nL 7.2 7.2 \r\n\" style=\"fill:none;stroke:#000000;stroke-linecap:square;stroke-linejoin:miter;stroke-width:0.8;\"/>\r\n   </g>\r\n   <g id=\"patch_4\">\r\n    <path d=\"M 342 333.36 \r\nL 342 7.2 \r\n\" style=\"fill:none;stroke:#000000;stroke-linecap:square;stroke-linejoin:miter;stroke-width:0.8;\"/>\r\n   </g>\r\n   <g id=\"patch_5\">\r\n    <path d=\"M 7.2 333.36 \r\nL 342 333.36 \r\n\" style=\"fill:none;stroke:#000000;stroke-linecap:square;stroke-linejoin:miter;stroke-width:0.8;\"/>\r\n   </g>\r\n   <g id=\"patch_6\">\r\n    <path d=\"M 7.2 7.2 \r\nL 342 7.2 \r\n\" style=\"fill:none;stroke:#000000;stroke-linecap:square;stroke-linejoin:miter;stroke-width:0.8;\"/>\r\n   </g>\r\n   <g id=\"text_1\">\r\n    <g clip-path=\"url(#p9c621e8f83)\">\r\n     <!-- p1 -->\r\n     <g transform=\"translate(137.491798 201.13575)scale(0.12 -0.12)\">\r\n      <defs>\r\n       <path d=\"M 18.109375 8.203125 \r\nL 18.109375 -20.796875 \r\nL 9.078125 -20.796875 \r\nL 9.078125 54.6875 \r\nL 18.109375 54.6875 \r\nL 18.109375 46.390625 \r\nQ 20.953125 51.265625 25.265625 53.625 \r\nQ 29.59375 56 35.59375 56 \r\nQ 45.5625 56 51.78125 48.09375 \r\nQ 58.015625 40.1875 58.015625 27.296875 \r\nQ 58.015625 14.40625 51.78125 6.484375 \r\nQ 45.5625 -1.421875 35.59375 -1.421875 \r\nQ 29.59375 -1.421875 25.265625 0.953125 \r\nQ 20.953125 3.328125 18.109375 8.203125 \r\nz\r\nM 48.6875 27.296875 \r\nQ 48.6875 37.203125 44.609375 42.84375 \r\nQ 40.53125 48.484375 33.40625 48.484375 \r\nQ 26.265625 48.484375 22.1875 42.84375 \r\nQ 18.109375 37.203125 18.109375 27.296875 \r\nQ 18.109375 17.390625 22.1875 11.75 \r\nQ 26.265625 6.109375 33.40625 6.109375 \r\nQ 40.53125 6.109375 44.609375 11.75 \r\nQ 48.6875 17.390625 48.6875 27.296875 \r\nz\r\n\" id=\"DejaVuSans-112\"/>\r\n       <path d=\"M 12.40625 8.296875 \r\nL 28.515625 8.296875 \r\nL 28.515625 63.921875 \r\nL 10.984375 60.40625 \r\nL 10.984375 69.390625 \r\nL 28.421875 72.90625 \r\nL 38.28125 72.90625 \r\nL 38.28125 8.296875 \r\nL 54.390625 8.296875 \r\nL 54.390625 0 \r\nL 12.40625 0 \r\nz\r\n\" id=\"DejaVuSans-49\"/>\r\n      </defs>\r\n      <use xlink:href=\"#DejaVuSans-112\"/>\r\n      <use x=\"63.476562\" xlink:href=\"#DejaVuSans-49\"/>\r\n     </g>\r\n    </g>\r\n   </g>\r\n   <g id=\"text_2\">\r\n    <g clip-path=\"url(#p9c621e8f83)\">\r\n     <!-- p2 -->\r\n     <g transform=\"translate(141.4331 25.336705)scale(0.12 -0.12)\">\r\n      <defs>\r\n       <path d=\"M 19.1875 8.296875 \r\nL 53.609375 8.296875 \r\nL 53.609375 0 \r\nL 7.328125 0 \r\nL 7.328125 8.296875 \r\nQ 12.9375 14.109375 22.625 23.890625 \r\nQ 32.328125 33.6875 34.8125 36.53125 \r\nQ 39.546875 41.84375 41.421875 45.53125 \r\nQ 43.3125 49.21875 43.3125 52.78125 \r\nQ 43.3125 58.59375 39.234375 62.25 \r\nQ 35.15625 65.921875 28.609375 65.921875 \r\nQ 23.96875 65.921875 18.8125 64.3125 \r\nQ 13.671875 62.703125 7.8125 59.421875 \r\nL 7.8125 69.390625 \r\nQ 13.765625 71.78125 18.9375 73 \r\nQ 24.125 74.21875 28.421875 74.21875 \r\nQ 39.75 74.21875 46.484375 68.546875 \r\nQ 53.21875 62.890625 53.21875 53.421875 \r\nQ 53.21875 48.921875 51.53125 44.890625 \r\nQ 49.859375 40.875 45.40625 35.40625 \r\nQ 44.1875 33.984375 37.640625 27.21875 \r\nQ 31.109375 20.453125 19.1875 8.296875 \r\nz\r\n\" id=\"DejaVuSans-50\"/>\r\n      </defs>\r\n      <use xlink:href=\"#DejaVuSans-112\"/>\r\n      <use x=\"63.476562\" xlink:href=\"#DejaVuSans-50\"/>\r\n     </g>\r\n    </g>\r\n   </g>\r\n   <g id=\"text_3\">\r\n    <g clip-path=\"url(#p9c621e8f83)\">\r\n     <!-- p3 -->\r\n     <g transform=\"translate(201.017339 286.699027)scale(0.12 -0.12)\">\r\n      <defs>\r\n       <path d=\"M 40.578125 39.3125 \r\nQ 47.65625 37.796875 51.625 33 \r\nQ 55.609375 28.21875 55.609375 21.1875 \r\nQ 55.609375 10.40625 48.1875 4.484375 \r\nQ 40.765625 -1.421875 27.09375 -1.421875 \r\nQ 22.515625 -1.421875 17.65625 -0.515625 \r\nQ 12.796875 0.390625 7.625 2.203125 \r\nL 7.625 11.71875 \r\nQ 11.71875 9.328125 16.59375 8.109375 \r\nQ 21.484375 6.890625 26.8125 6.890625 \r\nQ 36.078125 6.890625 40.9375 10.546875 \r\nQ 45.796875 14.203125 45.796875 21.1875 \r\nQ 45.796875 27.640625 41.28125 31.265625 \r\nQ 36.765625 34.90625 28.71875 34.90625 \r\nL 20.21875 34.90625 \r\nL 20.21875 43.015625 \r\nL 29.109375 43.015625 \r\nQ 36.375 43.015625 40.234375 45.921875 \r\nQ 44.09375 48.828125 44.09375 54.296875 \r\nQ 44.09375 59.90625 40.109375 62.90625 \r\nQ 36.140625 65.921875 28.71875 65.921875 \r\nQ 24.65625 65.921875 20.015625 65.03125 \r\nQ 15.375 64.15625 9.8125 62.3125 \r\nL 9.8125 71.09375 \r\nQ 15.4375 72.65625 20.34375 73.4375 \r\nQ 25.25 74.21875 29.59375 74.21875 \r\nQ 40.828125 74.21875 47.359375 69.109375 \r\nQ 53.90625 64.015625 53.90625 55.328125 \r\nQ 53.90625 49.265625 50.4375 45.09375 \r\nQ 46.96875 40.921875 40.578125 39.3125 \r\nz\r\n\" id=\"DejaVuSans-51\"/>\r\n      </defs>\r\n      <use xlink:href=\"#DejaVuSans-112\"/>\r\n      <use x=\"63.476562\" xlink:href=\"#DejaVuSans-51\"/>\r\n     </g>\r\n    </g>\r\n   </g>\r\n   <g id=\"text_4\">\r\n    <g clip-path=\"url(#p9c621e8f83)\">\r\n     <!-- p4 -->\r\n     <g transform=\"translate(14.791619 154.562056)scale(0.12 -0.12)\">\r\n      <defs>\r\n       <path d=\"M 37.796875 64.3125 \r\nL 12.890625 25.390625 \r\nL 37.796875 25.390625 \r\nz\r\nM 35.203125 72.90625 \r\nL 47.609375 72.90625 \r\nL 47.609375 25.390625 \r\nL 58.015625 25.390625 \r\nL 58.015625 17.1875 \r\nL 47.609375 17.1875 \r\nL 47.609375 0 \r\nL 37.796875 0 \r\nL 37.796875 17.1875 \r\nL 4.890625 17.1875 \r\nL 4.890625 26.703125 \r\nz\r\n\" id=\"DejaVuSans-52\"/>\r\n      </defs>\r\n      <use xlink:href=\"#DejaVuSans-112\"/>\r\n      <use x=\"63.476562\" xlink:href=\"#DejaVuSans-52\"/>\r\n     </g>\r\n    </g>\r\n   </g>\r\n   <g id=\"text_5\">\r\n    <g clip-path=\"url(#p9c621e8f83)\">\r\n     <!-- p10 -->\r\n     <g transform=\"translate(315.337756 150.560037)scale(0.12 -0.12)\">\r\n      <defs>\r\n       <path d=\"M 31.78125 66.40625 \r\nQ 24.171875 66.40625 20.328125 58.90625 \r\nQ 16.5 51.421875 16.5 36.375 \r\nQ 16.5 21.390625 20.328125 13.890625 \r\nQ 24.171875 6.390625 31.78125 6.390625 \r\nQ 39.453125 6.390625 43.28125 13.890625 \r\nQ 47.125 21.390625 47.125 36.375 \r\nQ 47.125 51.421875 43.28125 58.90625 \r\nQ 39.453125 66.40625 31.78125 66.40625 \r\nz\r\nM 31.78125 74.21875 \r\nQ 44.046875 74.21875 50.515625 64.515625 \r\nQ 56.984375 54.828125 56.984375 36.375 \r\nQ 56.984375 17.96875 50.515625 8.265625 \r\nQ 44.046875 -1.421875 31.78125 -1.421875 \r\nQ 19.53125 -1.421875 13.0625 8.265625 \r\nQ 6.59375 17.96875 6.59375 36.375 \r\nQ 6.59375 54.828125 13.0625 64.515625 \r\nQ 19.53125 74.21875 31.78125 74.21875 \r\nz\r\n\" id=\"DejaVuSans-48\"/>\r\n      </defs>\r\n      <use xlink:href=\"#DejaVuSans-112\"/>\r\n      <use x=\"63.476562\" xlink:href=\"#DejaVuSans-49\"/>\r\n      <use x=\"127.099609\" xlink:href=\"#DejaVuSans-48\"/>\r\n     </g>\r\n    </g>\r\n   </g>\r\n   <g id=\"text_6\">\r\n    <g clip-path=\"url(#p9c621e8f83)\">\r\n     <!-- p15 -->\r\n     <g transform=\"translate(63.469461 321.845795)scale(0.12 -0.12)\">\r\n      <defs>\r\n       <path d=\"M 10.796875 72.90625 \r\nL 49.515625 72.90625 \r\nL 49.515625 64.59375 \r\nL 19.828125 64.59375 \r\nL 19.828125 46.734375 \r\nQ 21.96875 47.46875 24.109375 47.828125 \r\nQ 26.265625 48.1875 28.421875 48.1875 \r\nQ 40.625 48.1875 47.75 41.5 \r\nQ 54.890625 34.8125 54.890625 23.390625 \r\nQ 54.890625 11.625 47.5625 5.09375 \r\nQ 40.234375 -1.421875 26.90625 -1.421875 \r\nQ 22.3125 -1.421875 17.546875 -0.640625 \r\nQ 12.796875 0.140625 7.71875 1.703125 \r\nL 7.71875 11.625 \r\nQ 12.109375 9.234375 16.796875 8.0625 \r\nQ 21.484375 6.890625 26.703125 6.890625 \r\nQ 35.15625 6.890625 40.078125 11.328125 \r\nQ 45.015625 15.765625 45.015625 23.390625 \r\nQ 45.015625 31 40.078125 35.4375 \r\nQ 35.15625 39.890625 26.703125 39.890625 \r\nQ 22.75 39.890625 18.8125 39.015625 \r\nQ 14.890625 38.140625 10.796875 36.28125 \r\nz\r\n\" id=\"DejaVuSans-53\"/>\r\n      </defs>\r\n      <use xlink:href=\"#DejaVuSans-112\"/>\r\n      <use x=\"63.476562\" xlink:href=\"#DejaVuSans-49\"/>\r\n      <use x=\"127.099609\" xlink:href=\"#DejaVuSans-53\"/>\r\n     </g>\r\n    </g>\r\n   </g>\r\n  </g>\r\n </g>\r\n <defs>\r\n  <clipPath id=\"p9c621e8f83\">\r\n   <rect height=\"326.16\" width=\"334.8\" x=\"7.2\" y=\"7.2\"/>\r\n  </clipPath>\r\n </defs>\r\n</svg>\r\n",
      "image/png": "[encoded data removed]"
     },
     "metadata": {},
     "execution_count": 14
    },
    {
     "output_type": "display_data",
     "data": {
      "text/plain": "<Figure size 432x432 with 1 Axes>",
      "image/svg+xml": "<?xml version=\"1.0\" encoding=\"utf-8\" standalone=\"no\"?>\r\n<!DOCTYPE svg PUBLIC \"-//W3C//DTD SVG 1.1//EN\"\r\n  \"http://www.w3.org/Graphics/SVG/1.1/DTD/svg11.dtd\">\r\n<!-- Created with matplotlib (https://matplotlib.org/) -->\r\n<svg height=\"340.56pt\" version=\"1.1\" viewBox=\"0 0 349.2 340.56\" width=\"349.2pt\" xmlns=\"http://www.w3.org/2000/svg\" xmlns:xlink=\"http://www.w3.org/1999/xlink\">\r\n <metadata>\r\n  <rdf:RDF xmlns:cc=\"http://creativecommons.org/ns#\" xmlns:dc=\"http://purl.org/dc/elements/1.1/\" xmlns:rdf=\"http://www.w3.org/1999/02/22-rdf-syntax-ns#\">\r\n   <cc:Work>\r\n    <dc:type rdf:resource=\"http://purl.org/dc/dcmitype/StillImage\"/>\r\n    <dc:date>2021-03-02T22:53:19.702972</dc:date>\r\n    <dc:format>image/svg+xml</dc:format>\r\n    <dc:creator>\r\n     <cc:Agent>\r\n      <dc:title>Matplotlib v3.3.1, https://matplotlib.org/</dc:title>\r\n     </cc:Agent>\r\n    </dc:creator>\r\n   </cc:Work>\r\n  </rdf:RDF>\r\n </metadata>\r\n <defs>\r\n  <style type=\"text/css\">*{stroke-linecap:butt;stroke-linejoin:round;}</style>\r\n </defs>\r\n <g id=\"figure_1\">\r\n  <g id=\"patch_1\">\r\n   <path d=\"M 0 340.56 \r\nL 349.2 340.56 \r\nL 349.2 0 \r\nL 0 0 \r\nz\r\n\" style=\"fill:none;\"/>\r\n  </g>\r\n  <g id=\"axes_1\">\r\n   <g id=\"patch_2\">\r\n    <path d=\"M 7.2 333.36 \r\nL 342 333.36 \r\nL 342 7.2 \r\nL 7.2 7.2 \r\nz\r\n\" style=\"fill:#ffffff;\"/>\r\n   </g>\r\n   <g id=\"LineCollection_1\">\r\n    <path clip-path=\"url(#p6bca48d062)\" d=\"M 145.11836 197.8245 \r\nL 149.059662 22.025455 \r\n\" style=\"fill:none;stroke:#000000;stroke-width:1.5;\"/>\r\n    <path clip-path=\"url(#p6bca48d062)\" d=\"M 145.11836 197.8245 \r\nL 208.643902 283.387777 \r\n\" style=\"fill:none;stroke:#000000;stroke-width:4;\"/>\r\n    <path clip-path=\"url(#p6bca48d062)\" d=\"M 145.11836 197.8245 \r\nL 22.418182 151.250806 \r\n\" style=\"fill:none;stroke:#000000;stroke-width:2.25;\"/>\r\n    <path clip-path=\"url(#p6bca48d062)\" d=\"M 145.11836 197.8245 \r\nL 326.781818 147.248787 \r\n\" style=\"fill:none;stroke:#000000;\"/>\r\n    <path clip-path=\"url(#p6bca48d062)\" d=\"M 145.11836 197.8245 \r\nL 74.913523 318.534545 \r\n\" style=\"fill:none;stroke:#000000;stroke-width:2.5;\"/>\r\n   </g>\r\n   <g id=\"matplotlib.axis_1\">\r\n    <g id=\"xtick_1\"/>\r\n    <g id=\"xtick_2\"/>\r\n    <g id=\"xtick_3\"/>\r\n    <g id=\"xtick_4\"/>\r\n    <g id=\"xtick_5\"/>\r\n    <g id=\"xtick_6\"/>\r\n    <g id=\"xtick_7\"/>\r\n    <g id=\"xtick_8\"/>\r\n   </g>\r\n   <g id=\"matplotlib.axis_2\">\r\n    <g id=\"ytick_1\"/>\r\n    <g id=\"ytick_2\"/>\r\n    <g id=\"ytick_3\"/>\r\n    <g id=\"ytick_4\"/>\r\n    <g id=\"ytick_5\"/>\r\n    <g id=\"ytick_6\"/>\r\n    <g id=\"ytick_7\"/>\r\n    <g id=\"ytick_8\"/>\r\n   </g>\r\n   <g id=\"PathCollection_1\">\r\n    <defs>\r\n     <path d=\"M 0 8.660254 \r\nC 2.296726 8.660254 4.499694 7.747755 6.123724 6.123724 \r\nC 7.747755 4.499694 8.660254 2.296726 8.660254 -0 \r\nC 8.660254 -2.296726 7.747755 -4.499694 6.123724 -6.123724 \r\nC 4.499694 -7.747755 2.296726 -8.660254 0 -8.660254 \r\nC -2.296726 -8.660254 -4.499694 -7.747755 -6.123724 -6.123724 \r\nC -7.747755 -4.499694 -8.660254 -2.296726 -8.660254 0 \r\nC -8.660254 2.296726 -7.747755 4.499694 -6.123724 6.123724 \r\nC -4.499694 7.747755 -2.296726 8.660254 0 8.660254 \r\nz\r\n\" id=\"C0_0_b20380e6f7\"/>\r\n    </defs>\r\n    <g clip-path=\"url(#p6bca48d062)\">\r\n     <use style=\"fill:#ff00ff;stroke:#ff00ff;\" x=\"145.11836\" xlink:href=\"#C0_0_b20380e6f7\" y=\"197.8245\"/>\r\n    </g>\r\n    <g clip-path=\"url(#p6bca48d062)\">\r\n     <use style=\"fill:#ffff00;stroke:#ffff00;\" x=\"149.059662\" xlink:href=\"#C0_0_b20380e6f7\" y=\"22.025455\"/>\r\n    </g>\r\n    <g clip-path=\"url(#p6bca48d062)\">\r\n     <use style=\"fill:#ff4000;stroke:#ff4000;\" x=\"208.643902\" xlink:href=\"#C0_0_b20380e6f7\" y=\"283.387777\"/>\r\n    </g>\r\n    <g clip-path=\"url(#p6bca48d062)\">\r\n     <use style=\"fill:#ff8000;stroke:#ff8000;\" x=\"22.418182\" xlink:href=\"#C0_0_b20380e6f7\" y=\"151.250806\"/>\r\n    </g>\r\n    <g clip-path=\"url(#p6bca48d062)\">\r\n     <use style=\"fill:#ffff00;stroke:#ffff00;\" x=\"326.781818\" xlink:href=\"#C0_0_b20380e6f7\" y=\"147.248787\"/>\r\n    </g>\r\n    <g clip-path=\"url(#p6bca48d062)\">\r\n     <use style=\"fill:#ff8000;stroke:#ff8000;\" x=\"74.913523\" xlink:href=\"#C0_0_b20380e6f7\" y=\"318.534545\"/>\r\n    </g>\r\n   </g>\r\n   <g id=\"patch_3\">\r\n    <path d=\"M 7.2 333.36 \r\nL 7.2 7.2 \r\n\" style=\"fill:none;stroke:#000000;stroke-linecap:square;stroke-linejoin:miter;stroke-width:0.8;\"/>\r\n   </g>\r\n   <g id=\"patch_4\">\r\n    <path d=\"M 342 333.36 \r\nL 342 7.2 \r\n\" style=\"fill:none;stroke:#000000;stroke-linecap:square;stroke-linejoin:miter;stroke-width:0.8;\"/>\r\n   </g>\r\n   <g id=\"patch_5\">\r\n    <path d=\"M 7.2 333.36 \r\nL 342 333.36 \r\n\" style=\"fill:none;stroke:#000000;stroke-linecap:square;stroke-linejoin:miter;stroke-width:0.8;\"/>\r\n   </g>\r\n   <g id=\"patch_6\">\r\n    <path d=\"M 7.2 7.2 \r\nL 342 7.2 \r\n\" style=\"fill:none;stroke:#000000;stroke-linecap:square;stroke-linejoin:miter;stroke-width:0.8;\"/>\r\n   </g>\r\n   <g id=\"text_1\">\r\n    <g clip-path=\"url(#p6bca48d062)\">\r\n     <!-- p1 -->\r\n     <g transform=\"translate(137.491798 201.13575)scale(0.12 -0.12)\">\r\n      <defs>\r\n       <path d=\"M 18.109375 8.203125 \r\nL 18.109375 -20.796875 \r\nL 9.078125 -20.796875 \r\nL 9.078125 54.6875 \r\nL 18.109375 54.6875 \r\nL 18.109375 46.390625 \r\nQ 20.953125 51.265625 25.265625 53.625 \r\nQ 29.59375 56 35.59375 56 \r\nQ 45.5625 56 51.78125 48.09375 \r\nQ 58.015625 40.1875 58.015625 27.296875 \r\nQ 58.015625 14.40625 51.78125 6.484375 \r\nQ 45.5625 -1.421875 35.59375 -1.421875 \r\nQ 29.59375 -1.421875 25.265625 0.953125 \r\nQ 20.953125 3.328125 18.109375 8.203125 \r\nz\r\nM 48.6875 27.296875 \r\nQ 48.6875 37.203125 44.609375 42.84375 \r\nQ 40.53125 48.484375 33.40625 48.484375 \r\nQ 26.265625 48.484375 22.1875 42.84375 \r\nQ 18.109375 37.203125 18.109375 27.296875 \r\nQ 18.109375 17.390625 22.1875 11.75 \r\nQ 26.265625 6.109375 33.40625 6.109375 \r\nQ 40.53125 6.109375 44.609375 11.75 \r\nQ 48.6875 17.390625 48.6875 27.296875 \r\nz\r\n\" id=\"DejaVuSans-112\"/>\r\n       <path d=\"M 12.40625 8.296875 \r\nL 28.515625 8.296875 \r\nL 28.515625 63.921875 \r\nL 10.984375 60.40625 \r\nL 10.984375 69.390625 \r\nL 28.421875 72.90625 \r\nL 38.28125 72.90625 \r\nL 38.28125 8.296875 \r\nL 54.390625 8.296875 \r\nL 54.390625 0 \r\nL 12.40625 0 \r\nz\r\n\" id=\"DejaVuSans-49\"/>\r\n      </defs>\r\n      <use xlink:href=\"#DejaVuSans-112\"/>\r\n      <use x=\"63.476562\" xlink:href=\"#DejaVuSans-49\"/>\r\n     </g>\r\n    </g>\r\n   </g>\r\n   <g id=\"text_2\">\r\n    <g clip-path=\"url(#p6bca48d062)\">\r\n     <!-- p2 -->\r\n     <g transform=\"translate(141.4331 25.336705)scale(0.12 -0.12)\">\r\n      <defs>\r\n       <path d=\"M 19.1875 8.296875 \r\nL 53.609375 8.296875 \r\nL 53.609375 0 \r\nL 7.328125 0 \r\nL 7.328125 8.296875 \r\nQ 12.9375 14.109375 22.625 23.890625 \r\nQ 32.328125 33.6875 34.8125 36.53125 \r\nQ 39.546875 41.84375 41.421875 45.53125 \r\nQ 43.3125 49.21875 43.3125 52.78125 \r\nQ 43.3125 58.59375 39.234375 62.25 \r\nQ 35.15625 65.921875 28.609375 65.921875 \r\nQ 23.96875 65.921875 18.8125 64.3125 \r\nQ 13.671875 62.703125 7.8125 59.421875 \r\nL 7.8125 69.390625 \r\nQ 13.765625 71.78125 18.9375 73 \r\nQ 24.125 74.21875 28.421875 74.21875 \r\nQ 39.75 74.21875 46.484375 68.546875 \r\nQ 53.21875 62.890625 53.21875 53.421875 \r\nQ 53.21875 48.921875 51.53125 44.890625 \r\nQ 49.859375 40.875 45.40625 35.40625 \r\nQ 44.1875 33.984375 37.640625 27.21875 \r\nQ 31.109375 20.453125 19.1875 8.296875 \r\nz\r\n\" id=\"DejaVuSans-50\"/>\r\n      </defs>\r\n      <use xlink:href=\"#DejaVuSans-112\"/>\r\n      <use x=\"63.476562\" xlink:href=\"#DejaVuSans-50\"/>\r\n     </g>\r\n    </g>\r\n   </g>\r\n   <g id=\"text_3\">\r\n    <g clip-path=\"url(#p6bca48d062)\">\r\n     <!-- p3 -->\r\n     <g transform=\"translate(201.017339 286.699027)scale(0.12 -0.12)\">\r\n      <defs>\r\n       <path d=\"M 40.578125 39.3125 \r\nQ 47.65625 37.796875 51.625 33 \r\nQ 55.609375 28.21875 55.609375 21.1875 \r\nQ 55.609375 10.40625 48.1875 4.484375 \r\nQ 40.765625 -1.421875 27.09375 -1.421875 \r\nQ 22.515625 -1.421875 17.65625 -0.515625 \r\nQ 12.796875 0.390625 7.625 2.203125 \r\nL 7.625 11.71875 \r\nQ 11.71875 9.328125 16.59375 8.109375 \r\nQ 21.484375 6.890625 26.8125 6.890625 \r\nQ 36.078125 6.890625 40.9375 10.546875 \r\nQ 45.796875 14.203125 45.796875 21.1875 \r\nQ 45.796875 27.640625 41.28125 31.265625 \r\nQ 36.765625 34.90625 28.71875 34.90625 \r\nL 20.21875 34.90625 \r\nL 20.21875 43.015625 \r\nL 29.109375 43.015625 \r\nQ 36.375 43.015625 40.234375 45.921875 \r\nQ 44.09375 48.828125 44.09375 54.296875 \r\nQ 44.09375 59.90625 40.109375 62.90625 \r\nQ 36.140625 65.921875 28.71875 65.921875 \r\nQ 24.65625 65.921875 20.015625 65.03125 \r\nQ 15.375 64.15625 9.8125 62.3125 \r\nL 9.8125 71.09375 \r\nQ 15.4375 72.65625 20.34375 73.4375 \r\nQ 25.25 74.21875 29.59375 74.21875 \r\nQ 40.828125 74.21875 47.359375 69.109375 \r\nQ 53.90625 64.015625 53.90625 55.328125 \r\nQ 53.90625 49.265625 50.4375 45.09375 \r\nQ 46.96875 40.921875 40.578125 39.3125 \r\nz\r\n\" id=\"DejaVuSans-51\"/>\r\n      </defs>\r\n      <use xlink:href=\"#DejaVuSans-112\"/>\r\n      <use x=\"63.476562\" xlink:href=\"#DejaVuSans-51\"/>\r\n     </g>\r\n    </g>\r\n   </g>\r\n   <g id=\"text_4\">\r\n    <g clip-path=\"url(#p6bca48d062)\">\r\n     <!-- p4 -->\r\n     <g transform=\"translate(14.791619 154.562056)scale(0.12 -0.12)\">\r\n      <defs>\r\n       <path d=\"M 37.796875 64.3125 \r\nL 12.890625 25.390625 \r\nL 37.796875 25.390625 \r\nz\r\nM 35.203125 72.90625 \r\nL 47.609375 72.90625 \r\nL 47.609375 25.390625 \r\nL 58.015625 25.390625 \r\nL 58.015625 17.1875 \r\nL 47.609375 17.1875 \r\nL 47.609375 0 \r\nL 37.796875 0 \r\nL 37.796875 17.1875 \r\nL 4.890625 17.1875 \r\nL 4.890625 26.703125 \r\nz\r\n\" id=\"DejaVuSans-52\"/>\r\n      </defs>\r\n      <use xlink:href=\"#DejaVuSans-112\"/>\r\n      <use x=\"63.476562\" xlink:href=\"#DejaVuSans-52\"/>\r\n     </g>\r\n    </g>\r\n   </g>\r\n   <g id=\"text_5\">\r\n    <g clip-path=\"url(#p6bca48d062)\">\r\n     <!-- p10 -->\r\n     <g transform=\"translate(315.337756 150.560037)scale(0.12 -0.12)\">\r\n      <defs>\r\n       <path d=\"M 31.78125 66.40625 \r\nQ 24.171875 66.40625 20.328125 58.90625 \r\nQ 16.5 51.421875 16.5 36.375 \r\nQ 16.5 21.390625 20.328125 13.890625 \r\nQ 24.171875 6.390625 31.78125 6.390625 \r\nQ 39.453125 6.390625 43.28125 13.890625 \r\nQ 47.125 21.390625 47.125 36.375 \r\nQ 47.125 51.421875 43.28125 58.90625 \r\nQ 39.453125 66.40625 31.78125 66.40625 \r\nz\r\nM 31.78125 74.21875 \r\nQ 44.046875 74.21875 50.515625 64.515625 \r\nQ 56.984375 54.828125 56.984375 36.375 \r\nQ 56.984375 17.96875 50.515625 8.265625 \r\nQ 44.046875 -1.421875 31.78125 -1.421875 \r\nQ 19.53125 -1.421875 13.0625 8.265625 \r\nQ 6.59375 17.96875 6.59375 36.375 \r\nQ 6.59375 54.828125 13.0625 64.515625 \r\nQ 19.53125 74.21875 31.78125 74.21875 \r\nz\r\n\" id=\"DejaVuSans-48\"/>\r\n      </defs>\r\n      <use xlink:href=\"#DejaVuSans-112\"/>\r\n      <use x=\"63.476562\" xlink:href=\"#DejaVuSans-49\"/>\r\n      <use x=\"127.099609\" xlink:href=\"#DejaVuSans-48\"/>\r\n     </g>\r\n    </g>\r\n   </g>\r\n   <g id=\"text_6\">\r\n    <g clip-path=\"url(#p6bca48d062)\">\r\n     <!-- p15 -->\r\n     <g transform=\"translate(63.469461 321.845795)scale(0.12 -0.12)\">\r\n      <defs>\r\n       <path d=\"M 10.796875 72.90625 \r\nL 49.515625 72.90625 \r\nL 49.515625 64.59375 \r\nL 19.828125 64.59375 \r\nL 19.828125 46.734375 \r\nQ 21.96875 47.46875 24.109375 47.828125 \r\nQ 26.265625 48.1875 28.421875 48.1875 \r\nQ 40.625 48.1875 47.75 41.5 \r\nQ 54.890625 34.8125 54.890625 23.390625 \r\nQ 54.890625 11.625 47.5625 5.09375 \r\nQ 40.234375 -1.421875 26.90625 -1.421875 \r\nQ 22.3125 -1.421875 17.546875 -0.640625 \r\nQ 12.796875 0.140625 7.71875 1.703125 \r\nL 7.71875 11.625 \r\nQ 12.109375 9.234375 16.796875 8.0625 \r\nQ 21.484375 6.890625 26.703125 6.890625 \r\nQ 35.15625 6.890625 40.078125 11.328125 \r\nQ 45.015625 15.765625 45.015625 23.390625 \r\nQ 45.015625 31 40.078125 35.4375 \r\nQ 35.15625 39.890625 26.703125 39.890625 \r\nQ 22.75 39.890625 18.8125 39.015625 \r\nQ 14.890625 38.140625 10.796875 36.28125 \r\nz\r\n\" id=\"DejaVuSans-53\"/>\r\n      </defs>\r\n      <use xlink:href=\"#DejaVuSans-112\"/>\r\n      <use x=\"63.476562\" xlink:href=\"#DejaVuSans-49\"/>\r\n      <use x=\"127.099609\" xlink:href=\"#DejaVuSans-53\"/>\r\n     </g>\r\n    </g>\r\n   </g>\r\n  </g>\r\n </g>\r\n <defs>\r\n  <clipPath id=\"p6bca48d062\">\r\n   <rect height=\"326.16\" width=\"334.8\" x=\"7.2\" y=\"7.2\"/>\r\n  </clipPath>\r\n </defs>\r\n</svg>\r\n",
      "image/png": "[encoded data removed]"
     },
     "metadata": {}
    }
   ],
   "source": [
    "def contact_network_vis(data, target):\n",
    "    # get only the target data\n",
    "    test_patient_df= raw_test_data.loc[raw_test_data[\"person\"] == target]\n",
    "    \n",
    "    # get only the contacts with no covid\n",
    "    no_covid = []\n",
    "    for i in test_patient_df.contact.values:\n",
    "        # find the covid positive persons\n",
    "        has_covid = person_data['confirmed_covid'].loc[person_data['person'] == i]\n",
    "        # list non covid positive\n",
    "        if not has_covid.bool():\n",
    "            no_covid.append(i)\n",
    "    test_patient_df= test_patient_df.loc[test_patient_df[\"contact\"].isin(no_covid)]\n",
    "\n",
    "    # normalize weights\n",
    "    test_patient_df['weight'] = MinMaxScaler(\n",
    "        feature_range=(1,4)).fit_transform(test_patient_df[['weight']])\n",
    "\n",
    "    # network graph\n",
    "    p2p_net = nx.from_pandas_edgelist(test_patient_df,'person','contact', edge_attr='weight')\n",
    "\n",
    "    # viasualization\n",
    "    durations = [x['weight'] for x in dict(p2p_net.edges).values()]\n",
    "    labels = [x for x in dict(p2p_net.nodes).keys()]\n",
    "    labels = {x:x for x in dict(p2p_net.nodes).keys()}\n",
    "\n",
    "    fig, ax = plt.subplots(figsize=(6,6))\n",
    "    pos = nx.spring_layout(p2p_net)\n",
    "\n",
    "    # node color\n",
    "    nc = [(1,0,1)]\n",
    "    for i in p2p_net:\n",
    "        if i != target:\n",
    "            nc_w = int(test_patient_df['weight'].loc[test_patient_df['contact'] == i])\n",
    "            nc_color = 1/nc_w\n",
    "            nc.append((1,nc_color,0))\n",
    "    \n",
    "\n",
    "\n",
    "    nx.draw_networkx_nodes(p2p_net, pos, ax = ax, node_color=nc, label=True)\n",
    "    nx.draw_networkx_edges(p2p_net, pos, width=durations, ax=ax)\n",
    "    _ = nx.draw_networkx_labels(p2p_net, pos, labels, ax=ax)\n",
    "    return fig\n",
    "\n",
    "contact_network_vis(raw_test_data, 'p1')"
   ]
  },
  {
   "source": [
    "# INTERACTIVE PRIORITY LIST PER CONTACT PERSON"
   ],
   "cell_type": "markdown",
   "metadata": {}
  },
  {
   "cell_type": "code",
   "execution_count": 15,
   "metadata": {},
   "outputs": [],
   "source": [
    "import ipywidgets as widgets"
   ]
  },
  {
   "cell_type": "code",
   "execution_count": 17,
   "metadata": {},
   "outputs": [],
   "source": [
    "# for text area\n",
    "l = widgets.Layout()\n",
    "\n",
    "\n",
    "# for button\n",
    "button = widgets.Button(description=\"Get Data\")\n",
    "patient_input = widgets.Text(\n",
    "    value='p1',\n",
    "    placeholder='Type something (p1,p2,...)',\n",
    "    description='Patient: ',\n",
    "    layout = l\n",
    ")\n",
    "output = widgets.Output()\n",
    "\n",
    "def on_get_data_patient(b):\n",
    "    output.clear_output()\n",
    "    with output:\n",
    "        output.layout={'border': '1px solid black'}\n",
    "        out_patient = get_patient_contact_test_priority(\n",
    "            raw_test_data,rank_priority_df, patient_input.value)\n",
    "        out_patient.reset_index(drop=True, inplace=True)\n",
    "        fig = contact_network_vis(raw_test_data, patient_input.value)\n",
    "        print(out_patient)\n",
    "        plt.show(fig)"
   ]
  },
  {
   "cell_type": "code",
   "execution_count": 18,
   "metadata": {},
   "outputs": [
    {
     "output_type": "display_data",
     "data": {
      "text/plain": "Text(value='p1', description='Patient: ', placeholder='Type something (p1,p2,...)')",
      "application/vnd.jupyter.widget-view+json": {
       "version_major": 2,
       "version_minor": 0,
       "model_id": "c8e62124b89d4b779d7cb5ab0a22731a"
      }
     },
     "metadata": {}
    },
    {
     "output_type": "display_data",
     "data": {
      "text/plain": "Button(description='Get Data', style=ButtonStyle())",
      "application/vnd.jupyter.widget-view+json": {
       "version_major": 2,
       "version_minor": 0,
       "model_id": "373db46c14c64be481239d3f8348e339"
      }
     },
     "metadata": {}
    },
    {
     "output_type": "display_data",
     "data": {
      "text/plain": "Output()",
      "application/vnd.jupyter.widget-view+json": {
       "version_major": 2,
       "version_minor": 0,
       "model_id": "9df9e92fe8974da693bdf7ad5cd2b124"
      }
     },
     "metadata": {}
    }
   ],
   "source": [
    "# type post below\n",
    "display(patient_input,button, output)\n",
    "button.on_click(on_get_data_patient)"
   ]
  },
  {
   "source": [
    "### Network Node Color\n",
    "- <b>magenta</b> = inputted patient\n",
    "- <b>more red</b> = higher priority\n",
    "- <b>more yellow</b> = lower priority\n",
    "\n",
    "**edge weight based on eigenvector\n"
   ],
   "cell_type": "markdown",
   "metadata": {}
  },
  {
   "cell_type": "code",
   "execution_count": null,
   "metadata": {},
   "outputs": [],
   "source": []
  }
 ],
 "metadata": {
  "kernelspec": {
   "display_name": "Python 3",
   "language": "python",
   "name": "python3"
  },
  "language_info": {
   "codemirror_mode": {
    "name": "ipython",
    "version": 3
   },
   "file_extension": ".py",
   "mimetype": "text/x-python",
   "name": "python",
   "nbconvert_exporter": "python",
   "pygments_lexer": "ipython3",
   "version": "3.7.9-final"
  }
 },
 "nbformat": 4,
 "nbformat_minor": 4
}