{
 "cells": [
  {
   "cell_type": "markdown",
   "metadata": {},
   "source": [
    "# Contact Tracing with Networks and Factors\n",
    "- testing priority with networkx and covid-19 risk factors\n",
    "- ian : assignment : AI4"
   ]
  },
  {
   "cell_type": "markdown",
   "metadata": {},
   "source": [
    "## vulnerability\n",
    "https://www.who.int/westernpacific/emergencies/covid-19/information/high-risk-groups\n",
    "- age\n",
    "    - 60+ age\n",
    "- underlying health condition\n",
    "    - lung\n",
    "    - heart\n",
    "    - diabetes \n",
    "    - immunocompromised\n",
    "\n",
    "#### age factor\n",
    "https://idpjournal.biomedcentral.com/articles/10.1186/s40249-020-00785-1\n",
    "https://bmcpublichealth.biomedcentral.com/articles/10.1186/s12889-020-09826-8\n",
    "- should we consider gender as external factors?\n",
    "\n",
    "#### occupation factor?\n",
    "https://www.michigan.gov/frontliners/0,9886,7-412-101948_100634_102083-532640--,00.html\n",
    "- medical \n",
    "- non-medical frontliners\n",
    "- others\n",
    "\n",
    "#### symptoms\n",
    "https://www.who.int/emergencies/diseases/novel-coronavirus-2019/question-and-answers-hub/q-a-detail/coronavirus-disease-covid-19#:~:text=symptoms"
   ]
  },
  {
   "cell_type": "markdown",
   "metadata": {},
   "source": [
    "### Packages"
   ]
  },
  {
   "cell_type": "code",
   "execution_count": 1,
   "metadata": {},
   "outputs": [],
   "source": [
    "import networkx as nx\n",
    "import matplotlib.pyplot as plt\n",
    "import pandas as pd\n",
    "import numpy as np"
   ]
  },
  {
   "cell_type": "markdown",
   "metadata": {},
   "source": [
    "## Data Preparation"
   ]
  },
  {
   "cell_type": "markdown",
   "metadata": {},
   "source": [
    "### Factor Scoring\n",
    "- custom made dataset for contact tracing with some factors\n",
    "    - person\n",
    "        - name\n",
    "    - confirmed_covid\n",
    "        - 10 points\n",
    "        - to explode the value, and increase node importance and prioritize the contacts    \n",
    "    - age\n",
    "        - considered by WHO as high risk\n",
    "        - age 60+\n",
    "            - 5 points        \n",
    "    - health_condition\n",
    "        - considered by WHO as high risk\n",
    "            - 5 points\n",
    "                - lung\n",
    "                - heart\n",
    "                - diabetes\n",
    "                - immunocompromised\n",
    "    - symptoms\n",
    "        - Current Metric\n",
    "            - Choose highest point only    \n",
    "            - if person has covid then disregard this score    \n",
    "        - Most common symptoms: 3 points\n",
    "            - fever\n",
    "            - dry cough\n",
    "            - tiredness\n",
    "        - Less common symptoms: 1 points\n",
    "            - aches and pains\n",
    "            - sore throat\n",
    "            - diarrhoea\n",
    "            - conjunctivitis\n",
    "            - headache\n",
    "            - loss of taste or smell\n",
    "            - a rash on skin, or discolouration of fingers or toes\n",
    "        - Serious symptoms: 5 points\n",
    "            - difficulty breathing or shortness of breath\n",
    "            - chest pain or pressure\n",
    "            - loss of speech or movement- immunocompromised           \n",
    "    - contact\n",
    "        - name of contact person\n",
    "    - contact_type\n",
    "        - layer of contact\n",
    "        - 1st layer : Family / People living with\n",
    "            - 3 points\n",
    "        - 2nd layer : Colleagues / People you see daily\n",
    "            - 2 points\n",
    "        - 3rd layer : Others / People you see a few times or less\n",
    "            - 1 points  \n",
    "    - num of co-occupants\n",
    "        - to be used for num_of_room metric\n",
    "        - Npl value\n",
    "    - num_of_room\n",
    "        - current metric\n",
    "            - 1 room is 3 points\n",
    "            - 2 rooms is 2 points\n",
    "            - 3+ rooms is 1 point\n",
    "        - later, we should consider how many people living in a house compared to the room\n",
    "            - Npl : num of person living together\n",
    "            - Nrh : num of rooms in the house\n",
    "            - Nr = Npl / Nrh\n",
    "    - num_of_elderly\n",
    "        - 2 point\n",
    "        - we add one point for each people who is living with 60+ age people\n",
    "        - if person is 60+ age then we also point here, to increase the importance of the person\n",
    "    - occupation\n",
    "        - medical frontliner : 3 points\n",
    "        - other frontliner : 1 points\n",
    "    - living density\n",
    "        - 'num_of_co-occupant' + 1, since we add the person to the total room occupant\n",
    "        - ( 'num_of_co-occupant' + 1)/ num of room\n",
    "            - if value <= 1 then point = 0\n",
    "            - if value <= 1.5 then point = 1\n",
    "            - if value > 1.5 then point = 3"
   ]
  },
  {
   "cell_type": "markdown",
   "metadata": {},
   "source": [
    "### Dataset\n",
    "- custom made dataset\n",
    "- change later"
   ]
  },
  {
   "cell_type": "code",
   "execution_count": 2,
   "metadata": {
    "scrolled": true
   },
   "outputs": [
    {
     "output_type": "execute_result",
     "data": {
      "text/plain": [
       "   person  confirmed_covid with_symptoms  age   health_condition  \\\n",
       "0      p1             True        common   55           diabetes   \n",
       "1      p2            False          none   19               none   \n",
       "2      p3            False          none   67       lung_disease   \n",
       "3      p4            False          none   24               none   \n",
       "4      p5             True        common   38       lung_disease   \n",
       "5      p6             True        common   45           diabetes   \n",
       "6      p7            False        common   35               none   \n",
       "7      p8            False          none   34           diabetes   \n",
       "8      p9            False          none    8  immunocompromised   \n",
       "9     p10            False          none   28               none   \n",
       "10    p11             True          none   42       lung_disease   \n",
       "11    p12            False        common   22               none   \n",
       "12    p13            False          none   49               none   \n",
       "13    p14            False       serious   18       lung_disease   \n",
       "14    p15            False   less_common   52      heart_disease   \n",
       "15    p16            False   less_common   20               none   \n",
       "16    p17            False          none   21      heart_disease   \n",
       "17    p18            False          none    9               none   \n",
       "18    p19            False        common   62               none   \n",
       "19    p20            False          none   68       lung_disease   \n",
       "\n",
       "                        contact  \\\n",
       "0   p2;p3;p4;p5;p6;p10;p11;p15;   \n",
       "1                 p1;p3;p4;p14;   \n",
       "2                     p1;p2;p4;   \n",
       "3                 p1;p2;p3;p12;   \n",
       "4                        p1;p7;   \n",
       "5               p1;p10;p11;p15;   \n",
       "6                     p5;p8;p9;   \n",
       "7                        p7;p9;   \n",
       "8                    p7;p8;p18;   \n",
       "9                p1;p6;p11;p15;   \n",
       "10               p1;p6;p10;p15;   \n",
       "11                  p4;p16;p17;   \n",
       "12                     p14;p15;   \n",
       "13                  p2;p13;p15;   \n",
       "14              p1;p10;p13;p14;   \n",
       "15                     p12;p17;   \n",
       "16                     p12;p16;   \n",
       "17                  p9;p19;p20;   \n",
       "18                     p18;p20;   \n",
       "19                     p18;p19;   \n",
       "\n",
       "                                         contact_type  num_of_elderly  \\\n",
       "0   family;family;family;colleague;colleague;colle...               1   \n",
       "1                    family;family;family;schoolmate;               1   \n",
       "2                               family;family;family;               1   \n",
       "3                     family;family;family;colleague;               1   \n",
       "4                                colleague;colleague;               0   \n",
       "5            colleague;colleague;colleague;colleague;               0   \n",
       "6                            colleague;family;family;               0   \n",
       "7                                      family;family;               0   \n",
       "8                           family;family;schoolmate;               0   \n",
       "9            colleague;colleague;colleague;colleague;               0   \n",
       "10           colleague;colleague;colleague;colleague;               0   \n",
       "11                   colleague;schoolmate;schoolmate;               0   \n",
       "12                                     family;family;               0   \n",
       "13                          schoolmate;family;family;               0   \n",
       "14                 colleague;colleague;family;family;               0   \n",
       "15                             schoolmate;schoolmate;               0   \n",
       "16                             schoolmate;schoolmate;               0   \n",
       "17                          schoolmate;family;family;               2   \n",
       "18                                     family;family;               2   \n",
       "19                                     family;family;               2   \n",
       "\n",
       "    num_of_room  num_of_co-occupant  occupation  \n",
       "0             3                   3       other  \n",
       "1             3                   3        none  \n",
       "2             3                   3        none  \n",
       "3             3                   3     medical  \n",
       "4             1                   0       other  \n",
       "5             1                   0  frontliner  \n",
       "6             1                   2       other  \n",
       "7             1                   2       other  \n",
       "8             1                   2        none  \n",
       "9             2                   0     medical  \n",
       "10            3                   0       other  \n",
       "11            2                   0       other  \n",
       "12            1                   2  frontliner  \n",
       "13            1                   2        none  \n",
       "14            1                   2       other  \n",
       "15            2                   1        none  \n",
       "16            3                   1        none  \n",
       "17            2                   2        none  \n",
       "18            2                   2     medical  \n",
       "19            2                   2        none  "
      ],
      "text/html": "<div>\n<style scoped>\n    .dataframe tbody tr th:only-of-type {\n        vertical-align: middle;\n    }\n\n    .dataframe tbody tr th {\n        vertical-align: top;\n    }\n\n    .dataframe thead th {\n        text-align: right;\n    }\n</style>\n<table border=\"1\" class=\"dataframe\">\n  <thead>\n    <tr style=\"text-align: right;\">\n      <th></th>\n      <th>person</th>\n      <th>confirmed_covid</th>\n      <th>with_symptoms</th>\n      <th>age</th>\n      <th>health_condition</th>\n      <th>contact</th>\n      <th>contact_type</th>\n      <th>num_of_elderly</th>\n      <th>num_of_room</th>\n      <th>num_of_co-occupant</th>\n      <th>occupation</th>\n    </tr>\n  </thead>\n  <tbody>\n    <tr>\n      <th>0</th>\n      <td>p1</td>\n      <td>True</td>\n      <td>common</td>\n      <td>55</td>\n      <td>diabetes</td>\n      <td>p2;p3;p4;p5;p6;p10;p11;p15;</td>\n      <td>family;family;family;colleague;colleague;colle...</td>\n      <td>1</td>\n      <td>3</td>\n      <td>3</td>\n      <td>other</td>\n    </tr>\n    <tr>\n      <th>1</th>\n      <td>p2</td>\n      <td>False</td>\n      <td>none</td>\n      <td>19</td>\n      <td>none</td>\n      <td>p1;p3;p4;p14;</td>\n      <td>family;family;family;schoolmate;</td>\n      <td>1</td>\n      <td>3</td>\n      <td>3</td>\n      <td>none</td>\n    </tr>\n    <tr>\n      <th>2</th>\n      <td>p3</td>\n      <td>False</td>\n      <td>none</td>\n      <td>67</td>\n      <td>lung_disease</td>\n      <td>p1;p2;p4;</td>\n      <td>family;family;family;</td>\n      <td>1</td>\n      <td>3</td>\n      <td>3</td>\n      <td>none</td>\n    </tr>\n    <tr>\n      <th>3</th>\n      <td>p4</td>\n      <td>False</td>\n      <td>none</td>\n      <td>24</td>\n      <td>none</td>\n      <td>p1;p2;p3;p12;</td>\n      <td>family;family;family;colleague;</td>\n      <td>1</td>\n      <td>3</td>\n      <td>3</td>\n      <td>medical</td>\n    </tr>\n    <tr>\n      <th>4</th>\n      <td>p5</td>\n      <td>True</td>\n      <td>common</td>\n      <td>38</td>\n      <td>lung_disease</td>\n      <td>p1;p7;</td>\n      <td>colleague;colleague;</td>\n      <td>0</td>\n      <td>1</td>\n      <td>0</td>\n      <td>other</td>\n    </tr>\n    <tr>\n      <th>5</th>\n      <td>p6</td>\n      <td>True</td>\n      <td>common</td>\n      <td>45</td>\n      <td>diabetes</td>\n      <td>p1;p10;p11;p15;</td>\n      <td>colleague;colleague;colleague;colleague;</td>\n      <td>0</td>\n      <td>1</td>\n      <td>0</td>\n      <td>frontliner</td>\n    </tr>\n    <tr>\n      <th>6</th>\n      <td>p7</td>\n      <td>False</td>\n      <td>common</td>\n      <td>35</td>\n      <td>none</td>\n      <td>p5;p8;p9;</td>\n      <td>colleague;family;family;</td>\n      <td>0</td>\n      <td>1</td>\n      <td>2</td>\n      <td>other</td>\n    </tr>\n    <tr>\n      <th>7</th>\n      <td>p8</td>\n      <td>False</td>\n      <td>none</td>\n      <td>34</td>\n      <td>diabetes</td>\n      <td>p7;p9;</td>\n      <td>family;family;</td>\n      <td>0</td>\n      <td>1</td>\n      <td>2</td>\n      <td>other</td>\n    </tr>\n    <tr>\n      <th>8</th>\n      <td>p9</td>\n      <td>False</td>\n      <td>none</td>\n      <td>8</td>\n      <td>immunocompromised</td>\n      <td>p7;p8;p18;</td>\n      <td>family;family;schoolmate;</td>\n      <td>0</td>\n      <td>1</td>\n      <td>2</td>\n      <td>none</td>\n    </tr>\n    <tr>\n      <th>9</th>\n      <td>p10</td>\n      <td>False</td>\n      <td>none</td>\n      <td>28</td>\n      <td>none</td>\n      <td>p1;p6;p11;p15;</td>\n      <td>colleague;colleague;colleague;colleague;</td>\n      <td>0</td>\n      <td>2</td>\n      <td>0</td>\n      <td>medical</td>\n    </tr>\n    <tr>\n      <th>10</th>\n      <td>p11</td>\n      <td>True</td>\n      <td>none</td>\n      <td>42</td>\n      <td>lung_disease</td>\n      <td>p1;p6;p10;p15;</td>\n      <td>colleague;colleague;colleague;colleague;</td>\n      <td>0</td>\n      <td>3</td>\n      <td>0</td>\n      <td>other</td>\n    </tr>\n    <tr>\n      <th>11</th>\n      <td>p12</td>\n      <td>False</td>\n      <td>common</td>\n      <td>22</td>\n      <td>none</td>\n      <td>p4;p16;p17;</td>\n      <td>colleague;schoolmate;schoolmate;</td>\n      <td>0</td>\n      <td>2</td>\n      <td>0</td>\n      <td>other</td>\n    </tr>\n    <tr>\n      <th>12</th>\n      <td>p13</td>\n      <td>False</td>\n      <td>none</td>\n      <td>49</td>\n      <td>none</td>\n      <td>p14;p15;</td>\n      <td>family;family;</td>\n      <td>0</td>\n      <td>1</td>\n      <td>2</td>\n      <td>frontliner</td>\n    </tr>\n    <tr>\n      <th>13</th>\n      <td>p14</td>\n      <td>False</td>\n      <td>serious</td>\n      <td>18</td>\n      <td>lung_disease</td>\n      <td>p2;p13;p15;</td>\n      <td>schoolmate;family;family;</td>\n      <td>0</td>\n      <td>1</td>\n      <td>2</td>\n      <td>none</td>\n    </tr>\n    <tr>\n      <th>14</th>\n      <td>p15</td>\n      <td>False</td>\n      <td>less_common</td>\n      <td>52</td>\n      <td>heart_disease</td>\n      <td>p1;p10;p13;p14;</td>\n      <td>colleague;colleague;family;family;</td>\n      <td>0</td>\n      <td>1</td>\n      <td>2</td>\n      <td>other</td>\n    </tr>\n    <tr>\n      <th>15</th>\n      <td>p16</td>\n      <td>False</td>\n      <td>less_common</td>\n      <td>20</td>\n      <td>none</td>\n      <td>p12;p17;</td>\n      <td>schoolmate;schoolmate;</td>\n      <td>0</td>\n      <td>2</td>\n      <td>1</td>\n      <td>none</td>\n    </tr>\n    <tr>\n      <th>16</th>\n      <td>p17</td>\n      <td>False</td>\n      <td>none</td>\n      <td>21</td>\n      <td>heart_disease</td>\n      <td>p12;p16;</td>\n      <td>schoolmate;schoolmate;</td>\n      <td>0</td>\n      <td>3</td>\n      <td>1</td>\n      <td>none</td>\n    </tr>\n    <tr>\n      <th>17</th>\n      <td>p18</td>\n      <td>False</td>\n      <td>none</td>\n      <td>9</td>\n      <td>none</td>\n      <td>p9;p19;p20;</td>\n      <td>schoolmate;family;family;</td>\n      <td>2</td>\n      <td>2</td>\n      <td>2</td>\n      <td>none</td>\n    </tr>\n    <tr>\n      <th>18</th>\n      <td>p19</td>\n      <td>False</td>\n      <td>common</td>\n      <td>62</td>\n      <td>none</td>\n      <td>p18;p20;</td>\n      <td>family;family;</td>\n      <td>2</td>\n      <td>2</td>\n      <td>2</td>\n      <td>medical</td>\n    </tr>\n    <tr>\n      <th>19</th>\n      <td>p20</td>\n      <td>False</td>\n      <td>none</td>\n      <td>68</td>\n      <td>lung_disease</td>\n      <td>p18;p19;</td>\n      <td>family;family;</td>\n      <td>2</td>\n      <td>2</td>\n      <td>2</td>\n      <td>none</td>\n    </tr>\n  </tbody>\n</table>\n</div>"
     },
     "metadata": {},
     "execution_count": 2
    }
   ],
   "source": [
    "# raw data\n",
    "data = pd.read_csv('data/custom_contact_tracing_factor.csv')\n",
    "data"
   ]
  },
  {
   "source": [
    "### PERSONS INDIVIDUAL DATA"
   ],
   "cell_type": "markdown",
   "metadata": {}
  },
  {
   "cell_type": "code",
   "execution_count": 3,
   "metadata": {
    "scrolled": true
   },
   "outputs": [
    {
     "output_type": "execute_result",
     "data": {
      "text/plain": [
       "   person  confirmed_covid with_symptoms  age   health_condition  \\\n",
       "0      p1             True        common   55           diabetes   \n",
       "1      p2            False          none   19               none   \n",
       "2      p3            False          none   67       lung_disease   \n",
       "3      p4            False          none   24               none   \n",
       "4      p5             True        common   38       lung_disease   \n",
       "5      p6             True        common   45           diabetes   \n",
       "6      p7            False        common   35               none   \n",
       "7      p8            False          none   34           diabetes   \n",
       "8      p9            False          none    8  immunocompromised   \n",
       "9     p10            False          none   28               none   \n",
       "10    p11             True          none   42       lung_disease   \n",
       "11    p12            False        common   22               none   \n",
       "12    p13            False          none   49               none   \n",
       "13    p14            False       serious   18       lung_disease   \n",
       "14    p15            False   less_common   52      heart_disease   \n",
       "15    p16            False   less_common   20               none   \n",
       "16    p17            False          none   21      heart_disease   \n",
       "17    p18            False          none    9               none   \n",
       "18    p19            False        common   62               none   \n",
       "19    p20            False          none   68       lung_disease   \n",
       "\n",
       "    num_of_elderly  num_of_room  num_of_co-occupant  occupation  \n",
       "0                1            3                   3       other  \n",
       "1                1            3                   3        none  \n",
       "2                1            3                   3        none  \n",
       "3                1            3                   3     medical  \n",
       "4                0            1                   0       other  \n",
       "5                0            1                   0  frontliner  \n",
       "6                0            1                   2       other  \n",
       "7                0            1                   2       other  \n",
       "8                0            1                   2        none  \n",
       "9                0            2                   0     medical  \n",
       "10               0            3                   0       other  \n",
       "11               0            2                   0       other  \n",
       "12               0            1                   2  frontliner  \n",
       "13               0            1                   2        none  \n",
       "14               0            1                   2       other  \n",
       "15               0            2                   1        none  \n",
       "16               0            3                   1        none  \n",
       "17               2            2                   2        none  \n",
       "18               2            2                   2     medical  \n",
       "19               2            2                   2        none  "
      ],
      "text/html": "<div>\n<style scoped>\n    .dataframe tbody tr th:only-of-type {\n        vertical-align: middle;\n    }\n\n    .dataframe tbody tr th {\n        vertical-align: top;\n    }\n\n    .dataframe thead th {\n        text-align: right;\n    }\n</style>\n<table border=\"1\" class=\"dataframe\">\n  <thead>\n    <tr style=\"text-align: right;\">\n      <th></th>\n      <th>person</th>\n      <th>confirmed_covid</th>\n      <th>with_symptoms</th>\n      <th>age</th>\n      <th>health_condition</th>\n      <th>num_of_elderly</th>\n      <th>num_of_room</th>\n      <th>num_of_co-occupant</th>\n      <th>occupation</th>\n    </tr>\n  </thead>\n  <tbody>\n    <tr>\n      <th>0</th>\n      <td>p1</td>\n      <td>True</td>\n      <td>common</td>\n      <td>55</td>\n      <td>diabetes</td>\n      <td>1</td>\n      <td>3</td>\n      <td>3</td>\n      <td>other</td>\n    </tr>\n    <tr>\n      <th>1</th>\n      <td>p2</td>\n      <td>False</td>\n      <td>none</td>\n      <td>19</td>\n      <td>none</td>\n      <td>1</td>\n      <td>3</td>\n      <td>3</td>\n      <td>none</td>\n    </tr>\n    <tr>\n      <th>2</th>\n      <td>p3</td>\n      <td>False</td>\n      <td>none</td>\n      <td>67</td>\n      <td>lung_disease</td>\n      <td>1</td>\n      <td>3</td>\n      <td>3</td>\n      <td>none</td>\n    </tr>\n    <tr>\n      <th>3</th>\n      <td>p4</td>\n      <td>False</td>\n      <td>none</td>\n      <td>24</td>\n      <td>none</td>\n      <td>1</td>\n      <td>3</td>\n      <td>3</td>\n      <td>medical</td>\n    </tr>\n    <tr>\n      <th>4</th>\n      <td>p5</td>\n      <td>True</td>\n      <td>common</td>\n      <td>38</td>\n      <td>lung_disease</td>\n      <td>0</td>\n      <td>1</td>\n      <td>0</td>\n      <td>other</td>\n    </tr>\n    <tr>\n      <th>5</th>\n      <td>p6</td>\n      <td>True</td>\n      <td>common</td>\n      <td>45</td>\n      <td>diabetes</td>\n      <td>0</td>\n      <td>1</td>\n      <td>0</td>\n      <td>frontliner</td>\n    </tr>\n    <tr>\n      <th>6</th>\n      <td>p7</td>\n      <td>False</td>\n      <td>common</td>\n      <td>35</td>\n      <td>none</td>\n      <td>0</td>\n      <td>1</td>\n      <td>2</td>\n      <td>other</td>\n    </tr>\n    <tr>\n      <th>7</th>\n      <td>p8</td>\n      <td>False</td>\n      <td>none</td>\n      <td>34</td>\n      <td>diabetes</td>\n      <td>0</td>\n      <td>1</td>\n      <td>2</td>\n      <td>other</td>\n    </tr>\n    <tr>\n      <th>8</th>\n      <td>p9</td>\n      <td>False</td>\n      <td>none</td>\n      <td>8</td>\n      <td>immunocompromised</td>\n      <td>0</td>\n      <td>1</td>\n      <td>2</td>\n      <td>none</td>\n    </tr>\n    <tr>\n      <th>9</th>\n      <td>p10</td>\n      <td>False</td>\n      <td>none</td>\n      <td>28</td>\n      <td>none</td>\n      <td>0</td>\n      <td>2</td>\n      <td>0</td>\n      <td>medical</td>\n    </tr>\n    <tr>\n      <th>10</th>\n      <td>p11</td>\n      <td>True</td>\n      <td>none</td>\n      <td>42</td>\n      <td>lung_disease</td>\n      <td>0</td>\n      <td>3</td>\n      <td>0</td>\n      <td>other</td>\n    </tr>\n    <tr>\n      <th>11</th>\n      <td>p12</td>\n      <td>False</td>\n      <td>common</td>\n      <td>22</td>\n      <td>none</td>\n      <td>0</td>\n      <td>2</td>\n      <td>0</td>\n      <td>other</td>\n    </tr>\n    <tr>\n      <th>12</th>\n      <td>p13</td>\n      <td>False</td>\n      <td>none</td>\n      <td>49</td>\n      <td>none</td>\n      <td>0</td>\n      <td>1</td>\n      <td>2</td>\n      <td>frontliner</td>\n    </tr>\n    <tr>\n      <th>13</th>\n      <td>p14</td>\n      <td>False</td>\n      <td>serious</td>\n      <td>18</td>\n      <td>lung_disease</td>\n      <td>0</td>\n      <td>1</td>\n      <td>2</td>\n      <td>none</td>\n    </tr>\n    <tr>\n      <th>14</th>\n      <td>p15</td>\n      <td>False</td>\n      <td>less_common</td>\n      <td>52</td>\n      <td>heart_disease</td>\n      <td>0</td>\n      <td>1</td>\n      <td>2</td>\n      <td>other</td>\n    </tr>\n    <tr>\n      <th>15</th>\n      <td>p16</td>\n      <td>False</td>\n      <td>less_common</td>\n      <td>20</td>\n      <td>none</td>\n      <td>0</td>\n      <td>2</td>\n      <td>1</td>\n      <td>none</td>\n    </tr>\n    <tr>\n      <th>16</th>\n      <td>p17</td>\n      <td>False</td>\n      <td>none</td>\n      <td>21</td>\n      <td>heart_disease</td>\n      <td>0</td>\n      <td>3</td>\n      <td>1</td>\n      <td>none</td>\n    </tr>\n    <tr>\n      <th>17</th>\n      <td>p18</td>\n      <td>False</td>\n      <td>none</td>\n      <td>9</td>\n      <td>none</td>\n      <td>2</td>\n      <td>2</td>\n      <td>2</td>\n      <td>none</td>\n    </tr>\n    <tr>\n      <th>18</th>\n      <td>p19</td>\n      <td>False</td>\n      <td>common</td>\n      <td>62</td>\n      <td>none</td>\n      <td>2</td>\n      <td>2</td>\n      <td>2</td>\n      <td>medical</td>\n    </tr>\n    <tr>\n      <th>19</th>\n      <td>p20</td>\n      <td>False</td>\n      <td>none</td>\n      <td>68</td>\n      <td>lung_disease</td>\n      <td>2</td>\n      <td>2</td>\n      <td>2</td>\n      <td>none</td>\n    </tr>\n  </tbody>\n</table>\n</div>"
     },
     "metadata": {},
     "execution_count": 3
    }
   ],
   "source": [
    "# data for individual\n",
    "person_data = pd.DataFrame(data, columns=['person', 'confirmed_covid', 'with_symptoms', 'age', 'health_condition',\n",
    "                                          'num_of_elderly', 'num_of_room','num_of_co-occupant', 'occupation'])\n",
    "person_data"
   ]
  },
  {
   "source": [
    "### PERSON-to-PERSON CONTACT DATA"
   ],
   "cell_type": "markdown",
   "metadata": {}
  },
  {
   "cell_type": "code",
   "execution_count": 4,
   "metadata": {},
   "outputs": [
    {
     "output_type": "execute_result",
     "data": {
      "text/plain": [
       "   person                      contact  \\\n",
       "0      p1  p2;p3;p4;p5;p6;p10;p11;p15;   \n",
       "1      p2                p1;p3;p4;p14;   \n",
       "2      p3                    p1;p2;p4;   \n",
       "3      p4                p1;p2;p3;p12;   \n",
       "4      p5                       p1;p7;   \n",
       "5      p6              p1;p10;p11;p15;   \n",
       "6      p7                    p5;p8;p9;   \n",
       "7      p8                       p7;p9;   \n",
       "8      p9                   p7;p8;p18;   \n",
       "9     p10               p1;p6;p11;p15;   \n",
       "10    p11               p1;p6;p10;p15;   \n",
       "11    p12                  p4;p16;p17;   \n",
       "12    p13                     p14;p15;   \n",
       "13    p14                  p2;p13;p15;   \n",
       "14    p15              p1;p10;p13;p14;   \n",
       "15    p16                     p12;p17;   \n",
       "16    p17                     p12;p16;   \n",
       "17    p18                  p9;p19;p20;   \n",
       "18    p19                     p18;p20;   \n",
       "19    p20                     p18;p19;   \n",
       "\n",
       "                                         contact_type  \n",
       "0   family;family;family;colleague;colleague;colle...  \n",
       "1                    family;family;family;schoolmate;  \n",
       "2                               family;family;family;  \n",
       "3                     family;family;family;colleague;  \n",
       "4                                colleague;colleague;  \n",
       "5            colleague;colleague;colleague;colleague;  \n",
       "6                            colleague;family;family;  \n",
       "7                                      family;family;  \n",
       "8                           family;family;schoolmate;  \n",
       "9            colleague;colleague;colleague;colleague;  \n",
       "10           colleague;colleague;colleague;colleague;  \n",
       "11                   colleague;schoolmate;schoolmate;  \n",
       "12                                     family;family;  \n",
       "13                          schoolmate;family;family;  \n",
       "14                 colleague;colleague;family;family;  \n",
       "15                             schoolmate;schoolmate;  \n",
       "16                             schoolmate;schoolmate;  \n",
       "17                          schoolmate;family;family;  \n",
       "18                                     family;family;  \n",
       "19                                     family;family;  "
      ],
      "text/html": "<div>\n<style scoped>\n    .dataframe tbody tr th:only-of-type {\n        vertical-align: middle;\n    }\n\n    .dataframe tbody tr th {\n        vertical-align: top;\n    }\n\n    .dataframe thead th {\n        text-align: right;\n    }\n</style>\n<table border=\"1\" class=\"dataframe\">\n  <thead>\n    <tr style=\"text-align: right;\">\n      <th></th>\n      <th>person</th>\n      <th>contact</th>\n      <th>contact_type</th>\n    </tr>\n  </thead>\n  <tbody>\n    <tr>\n      <th>0</th>\n      <td>p1</td>\n      <td>p2;p3;p4;p5;p6;p10;p11;p15;</td>\n      <td>family;family;family;colleague;colleague;colle...</td>\n    </tr>\n    <tr>\n      <th>1</th>\n      <td>p2</td>\n      <td>p1;p3;p4;p14;</td>\n      <td>family;family;family;schoolmate;</td>\n    </tr>\n    <tr>\n      <th>2</th>\n      <td>p3</td>\n      <td>p1;p2;p4;</td>\n      <td>family;family;family;</td>\n    </tr>\n    <tr>\n      <th>3</th>\n      <td>p4</td>\n      <td>p1;p2;p3;p12;</td>\n      <td>family;family;family;colleague;</td>\n    </tr>\n    <tr>\n      <th>4</th>\n      <td>p5</td>\n      <td>p1;p7;</td>\n      <td>colleague;colleague;</td>\n    </tr>\n    <tr>\n      <th>5</th>\n      <td>p6</td>\n      <td>p1;p10;p11;p15;</td>\n      <td>colleague;colleague;colleague;colleague;</td>\n    </tr>\n    <tr>\n      <th>6</th>\n      <td>p7</td>\n      <td>p5;p8;p9;</td>\n      <td>colleague;family;family;</td>\n    </tr>\n    <tr>\n      <th>7</th>\n      <td>p8</td>\n      <td>p7;p9;</td>\n      <td>family;family;</td>\n    </tr>\n    <tr>\n      <th>8</th>\n      <td>p9</td>\n      <td>p7;p8;p18;</td>\n      <td>family;family;schoolmate;</td>\n    </tr>\n    <tr>\n      <th>9</th>\n      <td>p10</td>\n      <td>p1;p6;p11;p15;</td>\n      <td>colleague;colleague;colleague;colleague;</td>\n    </tr>\n    <tr>\n      <th>10</th>\n      <td>p11</td>\n      <td>p1;p6;p10;p15;</td>\n      <td>colleague;colleague;colleague;colleague;</td>\n    </tr>\n    <tr>\n      <th>11</th>\n      <td>p12</td>\n      <td>p4;p16;p17;</td>\n      <td>colleague;schoolmate;schoolmate;</td>\n    </tr>\n    <tr>\n      <th>12</th>\n      <td>p13</td>\n      <td>p14;p15;</td>\n      <td>family;family;</td>\n    </tr>\n    <tr>\n      <th>13</th>\n      <td>p14</td>\n      <td>p2;p13;p15;</td>\n      <td>schoolmate;family;family;</td>\n    </tr>\n    <tr>\n      <th>14</th>\n      <td>p15</td>\n      <td>p1;p10;p13;p14;</td>\n      <td>colleague;colleague;family;family;</td>\n    </tr>\n    <tr>\n      <th>15</th>\n      <td>p16</td>\n      <td>p12;p17;</td>\n      <td>schoolmate;schoolmate;</td>\n    </tr>\n    <tr>\n      <th>16</th>\n      <td>p17</td>\n      <td>p12;p16;</td>\n      <td>schoolmate;schoolmate;</td>\n    </tr>\n    <tr>\n      <th>17</th>\n      <td>p18</td>\n      <td>p9;p19;p20;</td>\n      <td>schoolmate;family;family;</td>\n    </tr>\n    <tr>\n      <th>18</th>\n      <td>p19</td>\n      <td>p18;p20;</td>\n      <td>family;family;</td>\n    </tr>\n    <tr>\n      <th>19</th>\n      <td>p20</td>\n      <td>p18;p19;</td>\n      <td>family;family;</td>\n    </tr>\n  </tbody>\n</table>\n</div>"
     },
     "metadata": {},
     "execution_count": 4
    }
   ],
   "source": [
    "# data for person-to-person data\n",
    "p2p_data = pd.DataFrame(data, columns=['person', 'contact', 'contact_type'])\n",
    "p2p_data"
   ]
  },
  {
   "cell_type": "markdown",
   "metadata": {},
   "source": [
    "### Preprocessing\n",
    "- turn data into numerical values based from the factor scoring"
   ]
  },
  {
   "cell_type": "markdown",
   "metadata": {},
   "source": [
    "#### Individual Score\n",
    "get the total factor for each individual\n",
    "- confirmed_covid\n",
    "- age\n",
    "- health_condition\n",
    "- num_of_room\n",
    "- num_of_elderly\n",
    "- with_symptoms\n",
    "- occupation\n",
    "- num_of_co-occupant\n",
    "    - doesn't include the person in the data\n",
    "- living density\n",
    "    - 'num_of_co-occupant' + 1, since we add the person to the total room occupant\n",
    "    - ( 'num_of_co-occupant' + 1)/ num of room\n",
    "        - if value <= 1 then point = 0\n",
    "        - if value <= 1.5 then point = 1\n",
    "        - if value > 1.5 then point = 3"
   ]
  },
  {
   "cell_type": "code",
   "execution_count": 5,
   "metadata": {
    "scrolled": true
   },
   "outputs": [
    {
     "output_type": "execute_result",
     "data": {
      "text/plain": [
       "   person  confirmed_covid with_symptoms  age   health_condition  \\\n",
       "0      p1             True        common   55           diabetes   \n",
       "1      p2            False          none   19               none   \n",
       "2      p3            False          none   67       lung_disease   \n",
       "3      p4            False          none   24               none   \n",
       "4      p5             True        common   38       lung_disease   \n",
       "5      p6             True        common   45           diabetes   \n",
       "6      p7            False        common   35               none   \n",
       "7      p8            False          none   34           diabetes   \n",
       "8      p9            False          none    8  immunocompromised   \n",
       "9     p10            False          none   28               none   \n",
       "10    p11             True          none   42       lung_disease   \n",
       "11    p12            False        common   22               none   \n",
       "12    p13            False          none   49               none   \n",
       "13    p14            False       serious   18       lung_disease   \n",
       "14    p15            False   less_common   52      heart_disease   \n",
       "15    p16            False   less_common   20               none   \n",
       "16    p17            False          none   21      heart_disease   \n",
       "17    p18            False          none    9               none   \n",
       "18    p19            False        common   62               none   \n",
       "19    p20            False          none   68       lung_disease   \n",
       "\n",
       "    num_of_elderly  num_of_room  num_of_co-occupant  occupation  \n",
       "0                1            3                   3       other  \n",
       "1                1            3                   3        none  \n",
       "2                1            3                   3        none  \n",
       "3                1            3                   3     medical  \n",
       "4                0            1                   0       other  \n",
       "5                0            1                   0  frontliner  \n",
       "6                0            1                   2       other  \n",
       "7                0            1                   2       other  \n",
       "8                0            1                   2        none  \n",
       "9                0            2                   0     medical  \n",
       "10               0            3                   0       other  \n",
       "11               0            2                   0       other  \n",
       "12               0            1                   2  frontliner  \n",
       "13               0            1                   2        none  \n",
       "14               0            1                   2       other  \n",
       "15               0            2                   1        none  \n",
       "16               0            3                   1        none  \n",
       "17               2            2                   2        none  \n",
       "18               2            2                   2     medical  \n",
       "19               2            2                   2        none  "
      ],
      "text/html": "<div>\n<style scoped>\n    .dataframe tbody tr th:only-of-type {\n        vertical-align: middle;\n    }\n\n    .dataframe tbody tr th {\n        vertical-align: top;\n    }\n\n    .dataframe thead th {\n        text-align: right;\n    }\n</style>\n<table border=\"1\" class=\"dataframe\">\n  <thead>\n    <tr style=\"text-align: right;\">\n      <th></th>\n      <th>person</th>\n      <th>confirmed_covid</th>\n      <th>with_symptoms</th>\n      <th>age</th>\n      <th>health_condition</th>\n      <th>num_of_elderly</th>\n      <th>num_of_room</th>\n      <th>num_of_co-occupant</th>\n      <th>occupation</th>\n    </tr>\n  </thead>\n  <tbody>\n    <tr>\n      <th>0</th>\n      <td>p1</td>\n      <td>True</td>\n      <td>common</td>\n      <td>55</td>\n      <td>diabetes</td>\n      <td>1</td>\n      <td>3</td>\n      <td>3</td>\n      <td>other</td>\n    </tr>\n    <tr>\n      <th>1</th>\n      <td>p2</td>\n      <td>False</td>\n      <td>none</td>\n      <td>19</td>\n      <td>none</td>\n      <td>1</td>\n      <td>3</td>\n      <td>3</td>\n      <td>none</td>\n    </tr>\n    <tr>\n      <th>2</th>\n      <td>p3</td>\n      <td>False</td>\n      <td>none</td>\n      <td>67</td>\n      <td>lung_disease</td>\n      <td>1</td>\n      <td>3</td>\n      <td>3</td>\n      <td>none</td>\n    </tr>\n    <tr>\n      <th>3</th>\n      <td>p4</td>\n      <td>False</td>\n      <td>none</td>\n      <td>24</td>\n      <td>none</td>\n      <td>1</td>\n      <td>3</td>\n      <td>3</td>\n      <td>medical</td>\n    </tr>\n    <tr>\n      <th>4</th>\n      <td>p5</td>\n      <td>True</td>\n      <td>common</td>\n      <td>38</td>\n      <td>lung_disease</td>\n      <td>0</td>\n      <td>1</td>\n      <td>0</td>\n      <td>other</td>\n    </tr>\n    <tr>\n      <th>5</th>\n      <td>p6</td>\n      <td>True</td>\n      <td>common</td>\n      <td>45</td>\n      <td>diabetes</td>\n      <td>0</td>\n      <td>1</td>\n      <td>0</td>\n      <td>frontliner</td>\n    </tr>\n    <tr>\n      <th>6</th>\n      <td>p7</td>\n      <td>False</td>\n      <td>common</td>\n      <td>35</td>\n      <td>none</td>\n      <td>0</td>\n      <td>1</td>\n      <td>2</td>\n      <td>other</td>\n    </tr>\n    <tr>\n      <th>7</th>\n      <td>p8</td>\n      <td>False</td>\n      <td>none</td>\n      <td>34</td>\n      <td>diabetes</td>\n      <td>0</td>\n      <td>1</td>\n      <td>2</td>\n      <td>other</td>\n    </tr>\n    <tr>\n      <th>8</th>\n      <td>p9</td>\n      <td>False</td>\n      <td>none</td>\n      <td>8</td>\n      <td>immunocompromised</td>\n      <td>0</td>\n      <td>1</td>\n      <td>2</td>\n      <td>none</td>\n    </tr>\n    <tr>\n      <th>9</th>\n      <td>p10</td>\n      <td>False</td>\n      <td>none</td>\n      <td>28</td>\n      <td>none</td>\n      <td>0</td>\n      <td>2</td>\n      <td>0</td>\n      <td>medical</td>\n    </tr>\n    <tr>\n      <th>10</th>\n      <td>p11</td>\n      <td>True</td>\n      <td>none</td>\n      <td>42</td>\n      <td>lung_disease</td>\n      <td>0</td>\n      <td>3</td>\n      <td>0</td>\n      <td>other</td>\n    </tr>\n    <tr>\n      <th>11</th>\n      <td>p12</td>\n      <td>False</td>\n      <td>common</td>\n      <td>22</td>\n      <td>none</td>\n      <td>0</td>\n      <td>2</td>\n      <td>0</td>\n      <td>other</td>\n    </tr>\n    <tr>\n      <th>12</th>\n      <td>p13</td>\n      <td>False</td>\n      <td>none</td>\n      <td>49</td>\n      <td>none</td>\n      <td>0</td>\n      <td>1</td>\n      <td>2</td>\n      <td>frontliner</td>\n    </tr>\n    <tr>\n      <th>13</th>\n      <td>p14</td>\n      <td>False</td>\n      <td>serious</td>\n      <td>18</td>\n      <td>lung_disease</td>\n      <td>0</td>\n      <td>1</td>\n      <td>2</td>\n      <td>none</td>\n    </tr>\n    <tr>\n      <th>14</th>\n      <td>p15</td>\n      <td>False</td>\n      <td>less_common</td>\n      <td>52</td>\n      <td>heart_disease</td>\n      <td>0</td>\n      <td>1</td>\n      <td>2</td>\n      <td>other</td>\n    </tr>\n    <tr>\n      <th>15</th>\n      <td>p16</td>\n      <td>False</td>\n      <td>less_common</td>\n      <td>20</td>\n      <td>none</td>\n      <td>0</td>\n      <td>2</td>\n      <td>1</td>\n      <td>none</td>\n    </tr>\n    <tr>\n      <th>16</th>\n      <td>p17</td>\n      <td>False</td>\n      <td>none</td>\n      <td>21</td>\n      <td>heart_disease</td>\n      <td>0</td>\n      <td>3</td>\n      <td>1</td>\n      <td>none</td>\n    </tr>\n    <tr>\n      <th>17</th>\n      <td>p18</td>\n      <td>False</td>\n      <td>none</td>\n      <td>9</td>\n      <td>none</td>\n      <td>2</td>\n      <td>2</td>\n      <td>2</td>\n      <td>none</td>\n    </tr>\n    <tr>\n      <th>18</th>\n      <td>p19</td>\n      <td>False</td>\n      <td>common</td>\n      <td>62</td>\n      <td>none</td>\n      <td>2</td>\n      <td>2</td>\n      <td>2</td>\n      <td>medical</td>\n    </tr>\n    <tr>\n      <th>19</th>\n      <td>p20</td>\n      <td>False</td>\n      <td>none</td>\n      <td>68</td>\n      <td>lung_disease</td>\n      <td>2</td>\n      <td>2</td>\n      <td>2</td>\n      <td>none</td>\n    </tr>\n  </tbody>\n</table>\n</div>"
     },
     "metadata": {},
     "execution_count": 5
    }
   ],
   "source": [
    "num_person_data = person_data.copy()\n",
    "num_person_data"
   ]
  },
  {
   "cell_type": "code",
   "execution_count": 6,
   "metadata": {},
   "outputs": [
    {
     "output_type": "execute_result",
     "data": {
      "text/plain": [
       "  person has_covid symptom_risk age_risk health_risk occupation_risk  \\\n",
       "0     p1        10            3        0           5               0   \n",
       "0     p2         0            0        0           0               0   \n",
       "0     p3         0            0        5           5               0   \n",
       "0     p4         0            0        0           0               3   \n",
       "0     p5        10            3        0           5               0   \n",
       "0     p6        10            3        0           5               1   \n",
       "0     p7         0            3        0           0               0   \n",
       "0     p8         0            0        0           5               0   \n",
       "0     p9         0            0        0           5               0   \n",
       "0    p10         0            0        0           0               3   \n",
       "0    p11        10            0        0           5               0   \n",
       "0    p12         0            3        0           0               0   \n",
       "0    p13         0            0        0           0               1   \n",
       "0    p14         0            5        0           5               0   \n",
       "0    p15         0            1        0           5               0   \n",
       "0    p16         0            1        0           0               0   \n",
       "0    p17         0            0        0           5               0   \n",
       "0    p18         0            0        0           0               0   \n",
       "0    p19         0            3        5           0               3   \n",
       "0    p20         0            0        5           5               0   \n",
       "\n",
       "  elderly_risk living_density_risk total_individual_risk  \n",
       "0            2                   1                    21  \n",
       "0            2                   1                     3  \n",
       "0            2                   1                    13  \n",
       "0            2                   1                     6  \n",
       "0            0                   0                    18  \n",
       "0            0                   0                    19  \n",
       "0            0                   3                     6  \n",
       "0            0                   3                     8  \n",
       "0            0                   3                     8  \n",
       "0            0                   0                     3  \n",
       "0            0                   0                    15  \n",
       "0            0                   0                     3  \n",
       "0            0                   3                     4  \n",
       "0            0                   3                    13  \n",
       "0            0                   3                     9  \n",
       "0            0                   0                     1  \n",
       "0            0                   0                     5  \n",
       "0            4                   1                     5  \n",
       "0            4                   1                    16  \n",
       "0            4                   1                    15  "
      ],
      "text/html": "<div>\n<style scoped>\n    .dataframe tbody tr th:only-of-type {\n        vertical-align: middle;\n    }\n\n    .dataframe tbody tr th {\n        vertical-align: top;\n    }\n\n    .dataframe thead th {\n        text-align: right;\n    }\n</style>\n<table border=\"1\" class=\"dataframe\">\n  <thead>\n    <tr style=\"text-align: right;\">\n      <th></th>\n      <th>person</th>\n      <th>has_covid</th>\n      <th>symptom_risk</th>\n      <th>age_risk</th>\n      <th>health_risk</th>\n      <th>occupation_risk</th>\n      <th>elderly_risk</th>\n      <th>living_density_risk</th>\n      <th>total_individual_risk</th>\n    </tr>\n  </thead>\n  <tbody>\n    <tr>\n      <th>0</th>\n      <td>p1</td>\n      <td>10</td>\n      <td>3</td>\n      <td>0</td>\n      <td>5</td>\n      <td>0</td>\n      <td>2</td>\n      <td>1</td>\n      <td>21</td>\n    </tr>\n    <tr>\n      <th>0</th>\n      <td>p2</td>\n      <td>0</td>\n      <td>0</td>\n      <td>0</td>\n      <td>0</td>\n      <td>0</td>\n      <td>2</td>\n      <td>1</td>\n      <td>3</td>\n    </tr>\n    <tr>\n      <th>0</th>\n      <td>p3</td>\n      <td>0</td>\n      <td>0</td>\n      <td>5</td>\n      <td>5</td>\n      <td>0</td>\n      <td>2</td>\n      <td>1</td>\n      <td>13</td>\n    </tr>\n    <tr>\n      <th>0</th>\n      <td>p4</td>\n      <td>0</td>\n      <td>0</td>\n      <td>0</td>\n      <td>0</td>\n      <td>3</td>\n      <td>2</td>\n      <td>1</td>\n      <td>6</td>\n    </tr>\n    <tr>\n      <th>0</th>\n      <td>p5</td>\n      <td>10</td>\n      <td>3</td>\n      <td>0</td>\n      <td>5</td>\n      <td>0</td>\n      <td>0</td>\n      <td>0</td>\n      <td>18</td>\n    </tr>\n    <tr>\n      <th>0</th>\n      <td>p6</td>\n      <td>10</td>\n      <td>3</td>\n      <td>0</td>\n      <td>5</td>\n      <td>1</td>\n      <td>0</td>\n      <td>0</td>\n      <td>19</td>\n    </tr>\n    <tr>\n      <th>0</th>\n      <td>p7</td>\n      <td>0</td>\n      <td>3</td>\n      <td>0</td>\n      <td>0</td>\n      <td>0</td>\n      <td>0</td>\n      <td>3</td>\n      <td>6</td>\n    </tr>\n    <tr>\n      <th>0</th>\n      <td>p8</td>\n      <td>0</td>\n      <td>0</td>\n      <td>0</td>\n      <td>5</td>\n      <td>0</td>\n      <td>0</td>\n      <td>3</td>\n      <td>8</td>\n    </tr>\n    <tr>\n      <th>0</th>\n      <td>p9</td>\n      <td>0</td>\n      <td>0</td>\n      <td>0</td>\n      <td>5</td>\n      <td>0</td>\n      <td>0</td>\n      <td>3</td>\n      <td>8</td>\n    </tr>\n    <tr>\n      <th>0</th>\n      <td>p10</td>\n      <td>0</td>\n      <td>0</td>\n      <td>0</td>\n      <td>0</td>\n      <td>3</td>\n      <td>0</td>\n      <td>0</td>\n      <td>3</td>\n    </tr>\n    <tr>\n      <th>0</th>\n      <td>p11</td>\n      <td>10</td>\n      <td>0</td>\n      <td>0</td>\n      <td>5</td>\n      <td>0</td>\n      <td>0</td>\n      <td>0</td>\n      <td>15</td>\n    </tr>\n    <tr>\n      <th>0</th>\n      <td>p12</td>\n      <td>0</td>\n      <td>3</td>\n      <td>0</td>\n      <td>0</td>\n      <td>0</td>\n      <td>0</td>\n      <td>0</td>\n      <td>3</td>\n    </tr>\n    <tr>\n      <th>0</th>\n      <td>p13</td>\n      <td>0</td>\n      <td>0</td>\n      <td>0</td>\n      <td>0</td>\n      <td>1</td>\n      <td>0</td>\n      <td>3</td>\n      <td>4</td>\n    </tr>\n    <tr>\n      <th>0</th>\n      <td>p14</td>\n      <td>0</td>\n      <td>5</td>\n      <td>0</td>\n      <td>5</td>\n      <td>0</td>\n      <td>0</td>\n      <td>3</td>\n      <td>13</td>\n    </tr>\n    <tr>\n      <th>0</th>\n      <td>p15</td>\n      <td>0</td>\n      <td>1</td>\n      <td>0</td>\n      <td>5</td>\n      <td>0</td>\n      <td>0</td>\n      <td>3</td>\n      <td>9</td>\n    </tr>\n    <tr>\n      <th>0</th>\n      <td>p16</td>\n      <td>0</td>\n      <td>1</td>\n      <td>0</td>\n      <td>0</td>\n      <td>0</td>\n      <td>0</td>\n      <td>0</td>\n      <td>1</td>\n    </tr>\n    <tr>\n      <th>0</th>\n      <td>p17</td>\n      <td>0</td>\n      <td>0</td>\n      <td>0</td>\n      <td>5</td>\n      <td>0</td>\n      <td>0</td>\n      <td>0</td>\n      <td>5</td>\n    </tr>\n    <tr>\n      <th>0</th>\n      <td>p18</td>\n      <td>0</td>\n      <td>0</td>\n      <td>0</td>\n      <td>0</td>\n      <td>0</td>\n      <td>4</td>\n      <td>1</td>\n      <td>5</td>\n    </tr>\n    <tr>\n      <th>0</th>\n      <td>p19</td>\n      <td>0</td>\n      <td>3</td>\n      <td>5</td>\n      <td>0</td>\n      <td>3</td>\n      <td>4</td>\n      <td>1</td>\n      <td>16</td>\n    </tr>\n    <tr>\n      <th>0</th>\n      <td>p20</td>\n      <td>0</td>\n      <td>0</td>\n      <td>5</td>\n      <td>5</td>\n      <td>0</td>\n      <td>4</td>\n      <td>1</td>\n      <td>15</td>\n    </tr>\n  </tbody>\n</table>\n</div>"
     },
     "metadata": {},
     "execution_count": 6
    }
   ],
   "source": [
    "# INDIVIDUAL FACTORS\n",
    "risk_col=['person', 'has_covid', 'symptom_risk','age_risk', 'health_risk', 'occupation_risk',\n",
    "          'elderly_risk', 'living_density_risk', 'total_individual_risk']\n",
    "person_risk_data = pd.DataFrame(columns = risk_col)\n",
    "# convert confirmed_covid to numeric\n",
    "num_person_data['confirmed_covid'] = num_person_data['confirmed_covid'].astype(int)\n",
    "\n",
    "# iterate data\n",
    "for idx, row in num_person_data.iterrows():\n",
    "    # confirmed covid\n",
    "    has_covid = 10 if row['confirmed_covid'] == 1 else 0\n",
    "    \n",
    "    # age\n",
    "    age = 5 if row['age'] >= 60 else 0\n",
    "    \n",
    "    # health condition\n",
    "    health_risk = ['lung_disease', 'heart_disease', 'immunocompromised', 'diabetes']\n",
    "    health = 5 if row['health_condition'] in health_risk else 0\n",
    "    \n",
    "    # occupation\n",
    "    occupation_risk = ['medical', 'frontliner']\n",
    "    if row['occupation'] in occupation_risk:\n",
    "        occupation = 3 if row['occupation'] == 'medical' else 1\n",
    "    else:\n",
    "        occupation = 0\n",
    "    \n",
    "    # num of elderly\n",
    "    elder = row['num_of_elderly'] * 2\n",
    "    \n",
    "    # living density\n",
    "    # num of co-occupant / num of room\n",
    "    # num of co-occupant + 1 because we add the person itself to the house occupant\n",
    "    ttl_occupant = row['num_of_co-occupant'] + 1\n",
    "    living_density = ttl_occupant / row['num_of_room']\n",
    "    # print(living_density)\n",
    "    if living_density <= 1:\n",
    "        living_density = 0\n",
    "    elif living_density <= 1.5:\n",
    "        living_density = 1\n",
    "    else:\n",
    "        living_density = 3\n",
    "    \n",
    "    # symptoms : NOTE: FORGOTTED VALUE\n",
    "    if row['with_symptoms'] == \"serious\":\n",
    "        symptom = 5\n",
    "    elif row['with_symptoms'] == \"common\":\n",
    "        symptom = 3\n",
    "    elif row['with_symptoms'] == \"less_common\":\n",
    "        symptom = 1\n",
    "    else:\n",
    "        symptom = 0\n",
    "    \n",
    "    \n",
    "    # total individual risk\n",
    "    risk_scores = [has_covid, symptom, age, health, occupation, elder, living_density]\n",
    "    sum_risk = sum(risk_scores)\n",
    "    risk_scores.append(sum_risk)\n",
    "    risk_scores.insert(0, row['person'])\n",
    "    \n",
    "    # dataframe building\n",
    "    curr_risk_data = pd.DataFrame([risk_scores], columns = risk_col)\n",
    "    person_risk_data = person_risk_data.append(curr_risk_data)      \n",
    "    \n",
    "person_risk_data    "
   ]
  },
  {
   "cell_type": "markdown",
   "metadata": {},
   "source": [
    "#### Contact Score\n",
    "get edge score for two persons (node-to-node)\n",
    "- contact\n",
    "- contact_type"
   ]
  },
  {
   "cell_type": "code",
   "execution_count": 7,
   "metadata": {},
   "outputs": [
    {
     "output_type": "execute_result",
     "data": {
      "text/plain": [
       "   person                      contact  \\\n",
       "0      p1  p2;p3;p4;p5;p6;p10;p11;p15;   \n",
       "1      p2                p1;p3;p4;p14;   \n",
       "2      p3                    p1;p2;p4;   \n",
       "3      p4                p1;p2;p3;p12;   \n",
       "4      p5                       p1;p7;   \n",
       "5      p6              p1;p10;p11;p15;   \n",
       "6      p7                    p5;p8;p9;   \n",
       "7      p8                       p7;p9;   \n",
       "8      p9                   p7;p8;p18;   \n",
       "9     p10               p1;p6;p11;p15;   \n",
       "10    p11               p1;p6;p10;p15;   \n",
       "11    p12                  p4;p16;p17;   \n",
       "12    p13                     p14;p15;   \n",
       "13    p14                  p2;p13;p15;   \n",
       "14    p15              p1;p10;p13;p14;   \n",
       "15    p16                     p12;p17;   \n",
       "16    p17                     p12;p16;   \n",
       "17    p18                  p9;p19;p20;   \n",
       "18    p19                     p18;p20;   \n",
       "19    p20                     p18;p19;   \n",
       "\n",
       "                                         contact_type  \n",
       "0   family;family;family;colleague;colleague;colle...  \n",
       "1                    family;family;family;schoolmate;  \n",
       "2                               family;family;family;  \n",
       "3                     family;family;family;colleague;  \n",
       "4                                colleague;colleague;  \n",
       "5            colleague;colleague;colleague;colleague;  \n",
       "6                            colleague;family;family;  \n",
       "7                                      family;family;  \n",
       "8                           family;family;schoolmate;  \n",
       "9            colleague;colleague;colleague;colleague;  \n",
       "10           colleague;colleague;colleague;colleague;  \n",
       "11                   colleague;schoolmate;schoolmate;  \n",
       "12                                     family;family;  \n",
       "13                          schoolmate;family;family;  \n",
       "14                 colleague;colleague;family;family;  \n",
       "15                             schoolmate;schoolmate;  \n",
       "16                             schoolmate;schoolmate;  \n",
       "17                          schoolmate;family;family;  \n",
       "18                                     family;family;  \n",
       "19                                     family;family;  "
      ],
      "text/html": "<div>\n<style scoped>\n    .dataframe tbody tr th:only-of-type {\n        vertical-align: middle;\n    }\n\n    .dataframe tbody tr th {\n        vertical-align: top;\n    }\n\n    .dataframe thead th {\n        text-align: right;\n    }\n</style>\n<table border=\"1\" class=\"dataframe\">\n  <thead>\n    <tr style=\"text-align: right;\">\n      <th></th>\n      <th>person</th>\n      <th>contact</th>\n      <th>contact_type</th>\n    </tr>\n  </thead>\n  <tbody>\n    <tr>\n      <th>0</th>\n      <td>p1</td>\n      <td>p2;p3;p4;p5;p6;p10;p11;p15;</td>\n      <td>family;family;family;colleague;colleague;colle...</td>\n    </tr>\n    <tr>\n      <th>1</th>\n      <td>p2</td>\n      <td>p1;p3;p4;p14;</td>\n      <td>family;family;family;schoolmate;</td>\n    </tr>\n    <tr>\n      <th>2</th>\n      <td>p3</td>\n      <td>p1;p2;p4;</td>\n      <td>family;family;family;</td>\n    </tr>\n    <tr>\n      <th>3</th>\n      <td>p4</td>\n      <td>p1;p2;p3;p12;</td>\n      <td>family;family;family;colleague;</td>\n    </tr>\n    <tr>\n      <th>4</th>\n      <td>p5</td>\n      <td>p1;p7;</td>\n      <td>colleague;colleague;</td>\n    </tr>\n    <tr>\n      <th>5</th>\n      <td>p6</td>\n      <td>p1;p10;p11;p15;</td>\n      <td>colleague;colleague;colleague;colleague;</td>\n    </tr>\n    <tr>\n      <th>6</th>\n      <td>p7</td>\n      <td>p5;p8;p9;</td>\n      <td>colleague;family;family;</td>\n    </tr>\n    <tr>\n      <th>7</th>\n      <td>p8</td>\n      <td>p7;p9;</td>\n      <td>family;family;</td>\n    </tr>\n    <tr>\n      <th>8</th>\n      <td>p9</td>\n      <td>p7;p8;p18;</td>\n      <td>family;family;schoolmate;</td>\n    </tr>\n    <tr>\n      <th>9</th>\n      <td>p10</td>\n      <td>p1;p6;p11;p15;</td>\n      <td>colleague;colleague;colleague;colleague;</td>\n    </tr>\n    <tr>\n      <th>10</th>\n      <td>p11</td>\n      <td>p1;p6;p10;p15;</td>\n      <td>colleague;colleague;colleague;colleague;</td>\n    </tr>\n    <tr>\n      <th>11</th>\n      <td>p12</td>\n      <td>p4;p16;p17;</td>\n      <td>colleague;schoolmate;schoolmate;</td>\n    </tr>\n    <tr>\n      <th>12</th>\n      <td>p13</td>\n      <td>p14;p15;</td>\n      <td>family;family;</td>\n    </tr>\n    <tr>\n      <th>13</th>\n      <td>p14</td>\n      <td>p2;p13;p15;</td>\n      <td>schoolmate;family;family;</td>\n    </tr>\n    <tr>\n      <th>14</th>\n      <td>p15</td>\n      <td>p1;p10;p13;p14;</td>\n      <td>colleague;colleague;family;family;</td>\n    </tr>\n    <tr>\n      <th>15</th>\n      <td>p16</td>\n      <td>p12;p17;</td>\n      <td>schoolmate;schoolmate;</td>\n    </tr>\n    <tr>\n      <th>16</th>\n      <td>p17</td>\n      <td>p12;p16;</td>\n      <td>schoolmate;schoolmate;</td>\n    </tr>\n    <tr>\n      <th>17</th>\n      <td>p18</td>\n      <td>p9;p19;p20;</td>\n      <td>schoolmate;family;family;</td>\n    </tr>\n    <tr>\n      <th>18</th>\n      <td>p19</td>\n      <td>p18;p20;</td>\n      <td>family;family;</td>\n    </tr>\n    <tr>\n      <th>19</th>\n      <td>p20</td>\n      <td>p18;p19;</td>\n      <td>family;family;</td>\n    </tr>\n  </tbody>\n</table>\n</div>"
     },
     "metadata": {},
     "execution_count": 7
    }
   ],
   "source": [
    "num_p2p_data = p2p_data.copy()\n",
    "num_p2p_data"
   ]
  },
  {
   "cell_type": "code",
   "execution_count": 8,
   "metadata": {},
   "outputs": [
    {
     "output_type": "execute_result",
     "data": {
      "text/plain": [
       "   person contact contact_type contact_weight\n",
       "0      p1      p2       family              3\n",
       "1      p1      p3       family              3\n",
       "2      p1      p4       family              3\n",
       "3      p1      p5    colleague              1\n",
       "4      p1      p6    colleague              1\n",
       "..    ...     ...          ...            ...\n",
       "2     p18     p20       family              3\n",
       "0     p19     p18       family              3\n",
       "1     p19     p20       family              3\n",
       "0     p20     p18       family              3\n",
       "1     p20     p19       family              3\n",
       "\n",
       "[64 rows x 4 columns]"
      ],
      "text/html": "<div>\n<style scoped>\n    .dataframe tbody tr th:only-of-type {\n        vertical-align: middle;\n    }\n\n    .dataframe tbody tr th {\n        vertical-align: top;\n    }\n\n    .dataframe thead th {\n        text-align: right;\n    }\n</style>\n<table border=\"1\" class=\"dataframe\">\n  <thead>\n    <tr style=\"text-align: right;\">\n      <th></th>\n      <th>person</th>\n      <th>contact</th>\n      <th>contact_type</th>\n      <th>contact_weight</th>\n    </tr>\n  </thead>\n  <tbody>\n    <tr>\n      <th>0</th>\n      <td>p1</td>\n      <td>p2</td>\n      <td>family</td>\n      <td>3</td>\n    </tr>\n    <tr>\n      <th>1</th>\n      <td>p1</td>\n      <td>p3</td>\n      <td>family</td>\n      <td>3</td>\n    </tr>\n    <tr>\n      <th>2</th>\n      <td>p1</td>\n      <td>p4</td>\n      <td>family</td>\n      <td>3</td>\n    </tr>\n    <tr>\n      <th>3</th>\n      <td>p1</td>\n      <td>p5</td>\n      <td>colleague</td>\n      <td>1</td>\n    </tr>\n    <tr>\n      <th>4</th>\n      <td>p1</td>\n      <td>p6</td>\n      <td>colleague</td>\n      <td>1</td>\n    </tr>\n    <tr>\n      <th>...</th>\n      <td>...</td>\n      <td>...</td>\n      <td>...</td>\n      <td>...</td>\n    </tr>\n    <tr>\n      <th>2</th>\n      <td>p18</td>\n      <td>p20</td>\n      <td>family</td>\n      <td>3</td>\n    </tr>\n    <tr>\n      <th>0</th>\n      <td>p19</td>\n      <td>p18</td>\n      <td>family</td>\n      <td>3</td>\n    </tr>\n    <tr>\n      <th>1</th>\n      <td>p19</td>\n      <td>p20</td>\n      <td>family</td>\n      <td>3</td>\n    </tr>\n    <tr>\n      <th>0</th>\n      <td>p20</td>\n      <td>p18</td>\n      <td>family</td>\n      <td>3</td>\n    </tr>\n    <tr>\n      <th>1</th>\n      <td>p20</td>\n      <td>p19</td>\n      <td>family</td>\n      <td>3</td>\n    </tr>\n  </tbody>\n</table>\n<p>64 rows × 4 columns</p>\n</div>"
     },
     "metadata": {},
     "execution_count": 8
    }
   ],
   "source": [
    "net_col = ['person', 'contact', 'contact_type', 'contact_weight']\n",
    "person_network_data = pd.DataFrame(columns = net_col)\n",
    "\n",
    "for idx, row in num_p2p_data.iterrows():\n",
    "    # extract contact\n",
    "    contact = [x for x in row['contact'].split(';') if x != '']\n",
    "    # print(contact)\n",
    "    \n",
    "    # extract contacy type\n",
    "    contact_type = [x for x in row['contact_type'].split(';') if x != '']\n",
    "    # print(contact_type)\n",
    "    \n",
    "    # only two contact type used here: family = 3, others = 1\n",
    "    # expand contact type later\n",
    "    contact_score = [3 if x == 'family' else 1 for x in contact_type]\n",
    "    # print(contact_score)   \n",
    "    \n",
    "    # build data frame\n",
    "    person_list = [row['person'] for x in range(len(contact))] # duplicate person for listing\n",
    "    curr_net_data = pd.DataFrame(columns = net_col)\n",
    "    curr_net_data['person'] = person_list\n",
    "    curr_net_data['contact'] = contact\n",
    "    curr_net_data['contact_type'] = contact_type\n",
    "    curr_net_data['contact_weight'] = contact_score\n",
    "    \n",
    "    person_network_data = person_network_data.append(curr_net_data)\n",
    "    \n",
    "person_network_data\n"
   ]
  },
  {
   "cell_type": "markdown",
   "metadata": {},
   "source": [
    "#### Person-to-person total contact weight"
   ]
  },
  {
   "cell_type": "code",
   "execution_count": 9,
   "metadata": {
    "scrolled": true
   },
   "outputs": [
    {
     "output_type": "execute_result",
     "data": {
      "text/plain": [
       "   person contact  weight\n",
       "0      p1      p2      27\n",
       "1      p1      p3      37\n",
       "2      p1      p4      30\n",
       "3      p1      p5      40\n",
       "4      p1      p6      41\n",
       "..    ...     ...     ...\n",
       "59    p18     p20      23\n",
       "60    p19     p18      24\n",
       "61    p19     p20      34\n",
       "62    p20     p18      23\n",
       "63    p20     p19      34\n",
       "\n",
       "[64 rows x 3 columns]"
      ],
      "text/html": "<div>\n<style scoped>\n    .dataframe tbody tr th:only-of-type {\n        vertical-align: middle;\n    }\n\n    .dataframe tbody tr th {\n        vertical-align: top;\n    }\n\n    .dataframe thead th {\n        text-align: right;\n    }\n</style>\n<table border=\"1\" class=\"dataframe\">\n  <thead>\n    <tr style=\"text-align: right;\">\n      <th></th>\n      <th>person</th>\n      <th>contact</th>\n      <th>weight</th>\n    </tr>\n  </thead>\n  <tbody>\n    <tr>\n      <th>0</th>\n      <td>p1</td>\n      <td>p2</td>\n      <td>27</td>\n    </tr>\n    <tr>\n      <th>1</th>\n      <td>p1</td>\n      <td>p3</td>\n      <td>37</td>\n    </tr>\n    <tr>\n      <th>2</th>\n      <td>p1</td>\n      <td>p4</td>\n      <td>30</td>\n    </tr>\n    <tr>\n      <th>3</th>\n      <td>p1</td>\n      <td>p5</td>\n      <td>40</td>\n    </tr>\n    <tr>\n      <th>4</th>\n      <td>p1</td>\n      <td>p6</td>\n      <td>41</td>\n    </tr>\n    <tr>\n      <th>...</th>\n      <td>...</td>\n      <td>...</td>\n      <td>...</td>\n    </tr>\n    <tr>\n      <th>59</th>\n      <td>p18</td>\n      <td>p20</td>\n      <td>23</td>\n    </tr>\n    <tr>\n      <th>60</th>\n      <td>p19</td>\n      <td>p18</td>\n      <td>24</td>\n    </tr>\n    <tr>\n      <th>61</th>\n      <td>p19</td>\n      <td>p20</td>\n      <td>34</td>\n    </tr>\n    <tr>\n      <th>62</th>\n      <td>p20</td>\n      <td>p18</td>\n      <td>23</td>\n    </tr>\n    <tr>\n      <th>63</th>\n      <td>p20</td>\n      <td>p19</td>\n      <td>34</td>\n    </tr>\n  </tbody>\n</table>\n<p>64 rows × 3 columns</p>\n</div>"
     },
     "metadata": {},
     "execution_count": 9
    }
   ],
   "source": [
    "p2p_netw_list = []\n",
    "for idx, row in person_network_data.iterrows():\n",
    "    # person_risk_data = rosk score of each individual\n",
    "    \n",
    "    # find the value of individual risk of the two contact person\n",
    "    p1 = int(person_risk_data['total_individual_risk'].loc[\n",
    "        person_risk_data['person'] == row['person']])\n",
    "    p2 = int(person_risk_data['total_individual_risk'].loc[\n",
    "        person_risk_data['person'] == row['contact']])\n",
    "    \n",
    "    # add the risk score of p1, p2, and contact weight\n",
    "    ttl_weight = p1 + p2 + row['contact_weight']\n",
    "    \n",
    "    # print(f\"{p1}, {p2}, {row['contact_weight']}, = {ttl_weight}\")\n",
    "    p2p_netw_list.append((row['person'],row['contact'],ttl_weight))\n",
    "\n",
    "\n",
    "p2p_netw_col = ['person', 'contact', 'weight']\n",
    "p2p_netw_data = pd.DataFrame(p2p_netw_list, columns=p2p_netw_col) \n",
    "p2p_netw_data.to_csv('data/weighted_person_contact.csv', index=False)\n",
    "p2p_netw_data"
   ]
  },
  {
   "cell_type": "markdown",
   "metadata": {},
   "source": [
    "## Network"
   ]
  },
  {
   "cell_type": "markdown",
   "metadata": {},
   "source": [
    "#### visualized contact weights"
   ]
  },
  {
   "cell_type": "code",
   "execution_count": 10,
   "metadata": {},
   "outputs": [
    {
     "output_type": "execute_result",
     "data": {
      "text/plain": [
       "   person contact    weight\n",
       "0      p1      p2  1.222222\n",
       "1      p1      p3  1.798883\n",
       "2      p1      p4  1.446927\n",
       "3      p1      p5  1.949721\n",
       "4      p1      p6  2.000000\n",
       "..    ...     ...       ...\n",
       "59    p18     p20  1.347755\n",
       "60    p19     p18  1.407050\n",
       "61    p19     p20  2.000000\n",
       "62    p20     p18  1.347755\n",
       "63    p20     p19  2.000000\n",
       "\n",
       "[64 rows x 3 columns]"
      ],
      "text/html": "<div>\n<style scoped>\n    .dataframe tbody tr th:only-of-type {\n        vertical-align: middle;\n    }\n\n    .dataframe tbody tr th {\n        vertical-align: top;\n    }\n\n    .dataframe thead th {\n        text-align: right;\n    }\n</style>\n<table border=\"1\" class=\"dataframe\">\n  <thead>\n    <tr style=\"text-align: right;\">\n      <th></th>\n      <th>person</th>\n      <th>contact</th>\n      <th>weight</th>\n    </tr>\n  </thead>\n  <tbody>\n    <tr>\n      <th>0</th>\n      <td>p1</td>\n      <td>p2</td>\n      <td>1.222222</td>\n    </tr>\n    <tr>\n      <th>1</th>\n      <td>p1</td>\n      <td>p3</td>\n      <td>1.798883</td>\n    </tr>\n    <tr>\n      <th>2</th>\n      <td>p1</td>\n      <td>p4</td>\n      <td>1.446927</td>\n    </tr>\n    <tr>\n      <th>3</th>\n      <td>p1</td>\n      <td>p5</td>\n      <td>1.949721</td>\n    </tr>\n    <tr>\n      <th>4</th>\n      <td>p1</td>\n      <td>p6</td>\n      <td>2.000000</td>\n    </tr>\n    <tr>\n      <th>...</th>\n      <td>...</td>\n      <td>...</td>\n      <td>...</td>\n    </tr>\n    <tr>\n      <th>59</th>\n      <td>p18</td>\n      <td>p20</td>\n      <td>1.347755</td>\n    </tr>\n    <tr>\n      <th>60</th>\n      <td>p19</td>\n      <td>p18</td>\n      <td>1.407050</td>\n    </tr>\n    <tr>\n      <th>61</th>\n      <td>p19</td>\n      <td>p20</td>\n      <td>2.000000</td>\n    </tr>\n    <tr>\n      <th>62</th>\n      <td>p20</td>\n      <td>p18</td>\n      <td>1.347755</td>\n    </tr>\n    <tr>\n      <th>63</th>\n      <td>p20</td>\n      <td>p19</td>\n      <td>2.000000</td>\n    </tr>\n  </tbody>\n</table>\n<p>64 rows × 3 columns</p>\n</div>"
     },
     "metadata": {},
     "execution_count": 10
    }
   ],
   "source": [
    "# normalize weight for visualization\n",
    "norm_data = p2p_netw_data.copy()\n",
    "norm_data['weight'] = pd.to_numeric(norm_data[\"weight\"], downcast=\"float\")\n",
    "\n",
    "for idx, row in norm_data.iterrows():\n",
    "    x_min = (row['weight'] - norm_data['weight'].min())\n",
    "    max_min = (norm_data['weight'].max() - norm_data['weight'].min())\n",
    "    norm = (x_min / max_min) * 2 # normalized by 0 to 2\n",
    "    norm_data['weight'][idx] = norm\n",
    "norm_data"
   ]
  },
  {
   "cell_type": "code",
   "execution_count": 11,
   "metadata": {},
   "outputs": [],
   "source": [
    "# graph\n",
    "p2p_norm_graph = nx.from_pandas_edgelist(norm_data,'person','contact', edge_attr='weight')"
   ]
  },
  {
   "cell_type": "code",
   "execution_count": 12,
   "metadata": {},
   "outputs": [
    {
     "output_type": "display_data",
     "data": {
      "text/plain": "<Figure size 720x720 with 1 Axes>",
      "image/svg+xml": "<?xml version=\"1.0\" encoding=\"utf-8\" standalone=\"no\"?>\r\n<!DOCTYPE svg PUBLIC \"-//W3C//DTD SVG 1.1//EN\"\r\n  \"http://www.w3.org/Graphics/SVG/1.1/DTD/svg11.dtd\">\r\n<!-- Created with matplotlib (https://matplotlib.org/) -->\r\n<svg height=\"558pt\" version=\"1.1\" viewBox=\"0 0 572.4 558\" width=\"572.4pt\" xmlns=\"http://www.w3.org/2000/svg\" xmlns:xlink=\"http://www.w3.org/1999/xlink\">\r\n <metadata>\r\n  <rdf:RDF xmlns:cc=\"http://creativecommons.org/ns#\" xmlns:dc=\"http://purl.org/dc/elements/1.1/\" xmlns:rdf=\"http://www.w3.org/1999/02/22-rdf-syntax-ns#\">\r\n   <cc:Work>\r\n    <dc:type rdf:resource=\"http://purl.org/dc/dcmitype/StillImage\"/>\r\n    <dc:date>2021-03-02T13:40:45.361228</dc:date>\r\n    <dc:format>image/svg+xml</dc:format>\r\n    <dc:creator>\r\n     <cc:Agent>\r\n      <dc:title>Matplotlib v3.3.1, https://matplotlib.org/</dc:title>\r\n     </cc:Agent>\r\n    </dc:creator>\r\n   </cc:Work>\r\n  </rdf:RDF>\r\n </metadata>\r\n <defs>\r\n  <style type=\"text/css\">*{stroke-linecap:butt;stroke-linejoin:round;}</style>\r\n </defs>\r\n <g id=\"figure_1\">\r\n  <g id=\"patch_1\">\r\n   <path d=\"M 0 558 \r\nL 572.4 558 \r\nL 572.4 0 \r\nL 0 0 \r\nz\r\n\" style=\"fill:none;\"/>\r\n  </g>\r\n  <g id=\"axes_1\">\r\n   <g id=\"patch_2\">\r\n    <path d=\"M 7.2 550.8 \r\nL 565.2 550.8 \r\nL 565.2 7.2 \r\nL 7.2 7.2 \r\nz\r\n\" style=\"fill:#ffffff;\"/>\r\n   </g>\r\n   <g id=\"LineCollection_1\">\r\n    <path clip-path=\"url(#pf9731fbb16)\" d=\"M 423.60993 255.482676 \r\nL 332.653308 230.599927 \r\n\" style=\"fill:none;stroke:#000000;stroke-width:1.296561;\"/>\r\n    <path clip-path=\"url(#pf9731fbb16)\" d=\"M 423.60993 255.482676 \r\nL 402.752919 210.259747 \r\n\" style=\"fill:none;stroke:#000000;stroke-width:1.802206;\"/>\r\n    <path clip-path=\"url(#pf9731fbb16)\" d=\"M 423.60993 255.482676 \r\nL 325.010484 192.218687 \r\n\" style=\"fill:none;stroke:#000000;stroke-width:1.456067;\"/>\r\n    <path clip-path=\"url(#pf9731fbb16)\" d=\"M 423.60993 255.482676 \r\nL 433.622219 330.536449 \r\n\" style=\"fill:none;stroke:#000000;stroke-width:1.950657;\"/>\r\n    <path clip-path=\"url(#pf9731fbb16)\" d=\"M 423.60993 255.482676 \r\nL 489.718498 255.812413 \r\n\" style=\"fill:none;stroke:#000000;stroke-width:2;\"/>\r\n    <path clip-path=\"url(#pf9731fbb16)\" d=\"M 423.60993 255.482676 \r\nL 539.836364 255.055966 \r\n\" style=\"fill:none;stroke:#000000;stroke-width:1.343058;\"/>\r\n    <path clip-path=\"url(#pf9731fbb16)\" d=\"M 423.60993 255.482676 \r\nL 499.586267 276.742024 \r\n\" style=\"fill:none;stroke:#000000;stroke-width:2;\"/>\r\n    <path clip-path=\"url(#pf9731fbb16)\" d=\"M 423.60993 255.482676 \r\nL 411.741492 277.577215 \r\n\" style=\"fill:none;stroke:#000000;stroke-width:1.822115;\"/>\r\n    <path clip-path=\"url(#pf9731fbb16)\" d=\"M 332.653308 230.599927 \r\nL 402.752919 210.259747 \r\n\" style=\"fill:none;stroke:#000000;stroke-width:0.912135;\"/>\r\n    <path clip-path=\"url(#pf9731fbb16)\" d=\"M 332.653308 230.599927 \r\nL 325.010484 192.218687 \r\n\" style=\"fill:none;stroke:#000000;stroke-width:0.565996;\"/>\r\n    <path clip-path=\"url(#pf9731fbb16)\" d=\"M 332.653308 230.599927 \r\nL 302.863459 270.834323 \r\n\" style=\"fill:none;stroke:#000000;stroke-width:0.991985;\"/>\r\n    <path clip-path=\"url(#pf9731fbb16)\" d=\"M 402.752919 210.259747 \r\nL 325.010484 192.218687 \r\n\" style=\"fill:none;stroke:#000000;stroke-width:1.06048;\"/>\r\n    <path clip-path=\"url(#pf9731fbb16)\" d=\"M 325.010484 192.218687 \r\nL 160.016622 111.775442 \r\n\" style=\"fill:none;stroke:#000000;stroke-width:0.56857;\"/>\r\n    <path clip-path=\"url(#pf9731fbb16)\" d=\"M 433.622219 330.536449 \r\nL 417.12923 408.021123 \r\n\" style=\"fill:none;stroke:#000000;stroke-width:1.343058;\"/>\r\n    <path clip-path=\"url(#pf9731fbb16)\" d=\"M 489.718498 255.812413 \r\nL 539.836364 255.055966 \r\n\" style=\"fill:none;stroke:#000000;stroke-width:1.233568;\"/>\r\n    <path clip-path=\"url(#pf9731fbb16)\" d=\"M 489.718498 255.812413 \r\nL 499.586267 276.742024 \r\n\" style=\"fill:none;stroke:#000000;stroke-width:2;\"/>\r\n    <path clip-path=\"url(#pf9731fbb16)\" d=\"M 489.718498 255.812413 \r\nL 411.741492 277.577215 \r\n\" style=\"fill:none;stroke:#000000;stroke-width:1.562039;\"/>\r\n    <path clip-path=\"url(#pf9731fbb16)\" d=\"M 539.836364 255.055966 \r\nL 499.586267 276.742024 \r\n\" style=\"fill:none;stroke:#000000;stroke-width:1.105356;\"/>\r\n    <path clip-path=\"url(#pf9731fbb16)\" d=\"M 539.836364 255.055966 \r\nL 411.741492 277.577215 \r\n\" style=\"fill:none;stroke:#000000;stroke-width:0.754805;\"/>\r\n    <path clip-path=\"url(#pf9731fbb16)\" d=\"M 499.586267 276.742024 \r\nL 411.741492 277.577215 \r\n\" style=\"fill:none;stroke:#000000;stroke-width:1.463214;\"/>\r\n    <path clip-path=\"url(#pf9731fbb16)\" d=\"M 411.741492 277.577215 \r\nL 286.208854 301.379113 \r\n\" style=\"fill:none;stroke:#000000;stroke-width:0.93269;\"/>\r\n    <path clip-path=\"url(#pf9731fbb16)\" d=\"M 411.741492 277.577215 \r\nL 302.863459 270.834323 \r\n\" style=\"fill:none;stroke:#000000;stroke-width:1.466345;\"/>\r\n    <path clip-path=\"url(#pf9731fbb16)\" d=\"M 302.863459 270.834323 \r\nL 286.208854 301.379113 \r\n\" style=\"fill:none;stroke:#000000;stroke-width:1.16987;\"/>\r\n    <path clip-path=\"url(#pf9731fbb16)\" d=\"M 160.016622 111.775442 \r\nL 46.724031 31.909091 \r\n\" style=\"fill:none;stroke:#000000;stroke-width:0.280444;\"/>\r\n    <path clip-path=\"url(#pf9731fbb16)\" d=\"M 160.016622 111.775442 \r\nL 32.563636 69.479913 \r\n\" style=\"fill:none;stroke:#000000;stroke-width:0.517624;\"/>\r\n    <path clip-path=\"url(#pf9731fbb16)\" d=\"M 417.12923 408.021123 \r\nL 433.517403 461.968307 \r\n\" style=\"fill:none;stroke:#000000;stroke-width:0.905097;\"/>\r\n    <path clip-path=\"url(#pf9731fbb16)\" d=\"M 417.12923 408.021123 \r\nL 334.070039 470.549108 \r\n\" style=\"fill:none;stroke:#000000;stroke-width:0.905097;\"/>\r\n    <path clip-path=\"url(#pf9731fbb16)\" d=\"M 433.517403 461.968307 \r\nL 334.070039 470.549108 \r\n\" style=\"fill:none;stroke:#000000;stroke-width:1.014587;\"/>\r\n    <path clip-path=\"url(#pf9731fbb16)\" d=\"M 334.070039 470.549108 \r\nL 181.633093 508.950671 \r\n\" style=\"fill:none;stroke:#000000;stroke-width:0.8141;\"/>\r\n    <path clip-path=\"url(#pf9731fbb16)\" d=\"M 181.633093 508.950671 \r\nL 83.235052 504.44984 \r\n\" style=\"fill:none;stroke:#000000;stroke-width:1.40705;\"/>\r\n    <path clip-path=\"url(#pf9731fbb16)\" d=\"M 181.633093 508.950671 \r\nL 95.631008 526.090909 \r\n\" style=\"fill:none;stroke:#000000;stroke-width:1.347755;\"/>\r\n    <path clip-path=\"url(#pf9731fbb16)\" d=\"M 46.724031 31.909091 \r\nL 32.563636 69.479913 \r\n\" style=\"fill:none;stroke:#000000;stroke-width:0.399034;\"/>\r\n    <path clip-path=\"url(#pf9731fbb16)\" d=\"M 83.235052 504.44984 \r\nL 95.631008 526.090909 \r\n\" style=\"fill:none;stroke:#000000;stroke-width:2;\"/>\r\n   </g>\r\n   <g id=\"matplotlib.axis_1\">\r\n    <g id=\"xtick_1\"/>\r\n    <g id=\"xtick_2\"/>\r\n    <g id=\"xtick_3\"/>\r\n    <g id=\"xtick_4\"/>\r\n    <g id=\"xtick_5\"/>\r\n    <g id=\"xtick_6\"/>\r\n    <g id=\"xtick_7\"/>\r\n    <g id=\"xtick_8\"/>\r\n   </g>\r\n   <g id=\"matplotlib.axis_2\">\r\n    <g id=\"ytick_1\"/>\r\n    <g id=\"ytick_2\"/>\r\n    <g id=\"ytick_3\"/>\r\n    <g id=\"ytick_4\"/>\r\n    <g id=\"ytick_5\"/>\r\n    <g id=\"ytick_6\"/>\r\n    <g id=\"ytick_7\"/>\r\n    <g id=\"ytick_8\"/>\r\n   </g>\r\n   <g id=\"PathCollection_1\">\r\n    <defs>\r\n     <path d=\"M 0 8.660254 \r\nC 2.296726 8.660254 4.499694 7.747755 6.123724 6.123724 \r\nC 7.747755 4.499694 8.660254 2.296726 8.660254 0 \r\nC 8.660254 -2.296726 7.747755 -4.499694 6.123724 -6.123724 \r\nC 4.499694 -7.747755 2.296726 -8.660254 0 -8.660254 \r\nC -2.296726 -8.660254 -4.499694 -7.747755 -6.123724 -6.123724 \r\nC -7.747755 -4.499694 -8.660254 -2.296726 -8.660254 0 \r\nC -8.660254 2.296726 -7.747755 4.499694 -6.123724 6.123724 \r\nC -4.499694 7.747755 -2.296726 8.660254 0 8.660254 \r\nz\r\n\" id=\"md1b3391bc5\" style=\"stroke:#1f78b4;\"/>\r\n    </defs>\r\n    <g clip-path=\"url(#pf9731fbb16)\">\r\n     <use style=\"fill:#1f78b4;stroke:#1f78b4;\" x=\"423.60993\" xlink:href=\"#md1b3391bc5\" y=\"255.482676\"/>\r\n     <use style=\"fill:#1f78b4;stroke:#1f78b4;\" x=\"332.653308\" xlink:href=\"#md1b3391bc5\" y=\"230.599927\"/>\r\n     <use style=\"fill:#1f78b4;stroke:#1f78b4;\" x=\"402.752919\" xlink:href=\"#md1b3391bc5\" y=\"210.259747\"/>\r\n     <use style=\"fill:#1f78b4;stroke:#1f78b4;\" x=\"325.010484\" xlink:href=\"#md1b3391bc5\" y=\"192.218687\"/>\r\n     <use style=\"fill:#1f78b4;stroke:#1f78b4;\" x=\"433.622219\" xlink:href=\"#md1b3391bc5\" y=\"330.536449\"/>\r\n     <use style=\"fill:#1f78b4;stroke:#1f78b4;\" x=\"489.718498\" xlink:href=\"#md1b3391bc5\" y=\"255.812413\"/>\r\n     <use style=\"fill:#1f78b4;stroke:#1f78b4;\" x=\"539.836364\" xlink:href=\"#md1b3391bc5\" y=\"255.055966\"/>\r\n     <use style=\"fill:#1f78b4;stroke:#1f78b4;\" x=\"499.586267\" xlink:href=\"#md1b3391bc5\" y=\"276.742024\"/>\r\n     <use style=\"fill:#1f78b4;stroke:#1f78b4;\" x=\"411.741492\" xlink:href=\"#md1b3391bc5\" y=\"277.577215\"/>\r\n     <use style=\"fill:#1f78b4;stroke:#1f78b4;\" x=\"302.863459\" xlink:href=\"#md1b3391bc5\" y=\"270.834323\"/>\r\n     <use style=\"fill:#1f78b4;stroke:#1f78b4;\" x=\"160.016622\" xlink:href=\"#md1b3391bc5\" y=\"111.775442\"/>\r\n     <use style=\"fill:#1f78b4;stroke:#1f78b4;\" x=\"417.12923\" xlink:href=\"#md1b3391bc5\" y=\"408.021123\"/>\r\n     <use style=\"fill:#1f78b4;stroke:#1f78b4;\" x=\"433.517403\" xlink:href=\"#md1b3391bc5\" y=\"461.968307\"/>\r\n     <use style=\"fill:#1f78b4;stroke:#1f78b4;\" x=\"334.070039\" xlink:href=\"#md1b3391bc5\" y=\"470.549108\"/>\r\n     <use style=\"fill:#1f78b4;stroke:#1f78b4;\" x=\"181.633093\" xlink:href=\"#md1b3391bc5\" y=\"508.950671\"/>\r\n     <use style=\"fill:#1f78b4;stroke:#1f78b4;\" x=\"46.724031\" xlink:href=\"#md1b3391bc5\" y=\"31.909091\"/>\r\n     <use style=\"fill:#1f78b4;stroke:#1f78b4;\" x=\"32.563636\" xlink:href=\"#md1b3391bc5\" y=\"69.479913\"/>\r\n     <use style=\"fill:#1f78b4;stroke:#1f78b4;\" x=\"286.208854\" xlink:href=\"#md1b3391bc5\" y=\"301.379113\"/>\r\n     <use style=\"fill:#1f78b4;stroke:#1f78b4;\" x=\"83.235052\" xlink:href=\"#md1b3391bc5\" y=\"504.44984\"/>\r\n     <use style=\"fill:#1f78b4;stroke:#1f78b4;\" x=\"95.631008\" xlink:href=\"#md1b3391bc5\" y=\"526.090909\"/>\r\n    </g>\r\n   </g>\r\n   <g id=\"patch_3\">\r\n    <path d=\"M 7.2 550.8 \r\nL 7.2 7.2 \r\n\" style=\"fill:none;stroke:#000000;stroke-linecap:square;stroke-linejoin:miter;stroke-width:0.8;\"/>\r\n   </g>\r\n   <g id=\"patch_4\">\r\n    <path d=\"M 565.2 550.8 \r\nL 565.2 7.2 \r\n\" style=\"fill:none;stroke:#000000;stroke-linecap:square;stroke-linejoin:miter;stroke-width:0.8;\"/>\r\n   </g>\r\n   <g id=\"patch_5\">\r\n    <path d=\"M 7.2 550.8 \r\nL 565.2 550.8 \r\n\" style=\"fill:none;stroke:#000000;stroke-linecap:square;stroke-linejoin:miter;stroke-width:0.8;\"/>\r\n   </g>\r\n   <g id=\"patch_6\">\r\n    <path d=\"M 7.2 7.2 \r\nL 565.2 7.2 \r\n\" style=\"fill:none;stroke:#000000;stroke-linecap:square;stroke-linejoin:miter;stroke-width:0.8;\"/>\r\n   </g>\r\n   <g id=\"text_1\">\r\n    <g clip-path=\"url(#pf9731fbb16)\">\r\n     <!-- p1 -->\r\n     <g transform=\"translate(415.983367 258.793926)scale(0.12 -0.12)\">\r\n      <defs>\r\n       <path d=\"M 18.109375 8.203125 \r\nL 18.109375 -20.796875 \r\nL 9.078125 -20.796875 \r\nL 9.078125 54.6875 \r\nL 18.109375 54.6875 \r\nL 18.109375 46.390625 \r\nQ 20.953125 51.265625 25.265625 53.625 \r\nQ 29.59375 56 35.59375 56 \r\nQ 45.5625 56 51.78125 48.09375 \r\nQ 58.015625 40.1875 58.015625 27.296875 \r\nQ 58.015625 14.40625 51.78125 6.484375 \r\nQ 45.5625 -1.421875 35.59375 -1.421875 \r\nQ 29.59375 -1.421875 25.265625 0.953125 \r\nQ 20.953125 3.328125 18.109375 8.203125 \r\nz\r\nM 48.6875 27.296875 \r\nQ 48.6875 37.203125 44.609375 42.84375 \r\nQ 40.53125 48.484375 33.40625 48.484375 \r\nQ 26.265625 48.484375 22.1875 42.84375 \r\nQ 18.109375 37.203125 18.109375 27.296875 \r\nQ 18.109375 17.390625 22.1875 11.75 \r\nQ 26.265625 6.109375 33.40625 6.109375 \r\nQ 40.53125 6.109375 44.609375 11.75 \r\nQ 48.6875 17.390625 48.6875 27.296875 \r\nz\r\n\" id=\"DejaVuSans-112\"/>\r\n       <path d=\"M 12.40625 8.296875 \r\nL 28.515625 8.296875 \r\nL 28.515625 63.921875 \r\nL 10.984375 60.40625 \r\nL 10.984375 69.390625 \r\nL 28.421875 72.90625 \r\nL 38.28125 72.90625 \r\nL 38.28125 8.296875 \r\nL 54.390625 8.296875 \r\nL 54.390625 0 \r\nL 12.40625 0 \r\nz\r\n\" id=\"DejaVuSans-49\"/>\r\n      </defs>\r\n      <use xlink:href=\"#DejaVuSans-112\"/>\r\n      <use x=\"63.476562\" xlink:href=\"#DejaVuSans-49\"/>\r\n     </g>\r\n    </g>\r\n   </g>\r\n   <g id=\"text_2\">\r\n    <g clip-path=\"url(#pf9731fbb16)\">\r\n     <!-- p2 -->\r\n     <g transform=\"translate(325.026746 233.911177)scale(0.12 -0.12)\">\r\n      <defs>\r\n       <path d=\"M 19.1875 8.296875 \r\nL 53.609375 8.296875 \r\nL 53.609375 0 \r\nL 7.328125 0 \r\nL 7.328125 8.296875 \r\nQ 12.9375 14.109375 22.625 23.890625 \r\nQ 32.328125 33.6875 34.8125 36.53125 \r\nQ 39.546875 41.84375 41.421875 45.53125 \r\nQ 43.3125 49.21875 43.3125 52.78125 \r\nQ 43.3125 58.59375 39.234375 62.25 \r\nQ 35.15625 65.921875 28.609375 65.921875 \r\nQ 23.96875 65.921875 18.8125 64.3125 \r\nQ 13.671875 62.703125 7.8125 59.421875 \r\nL 7.8125 69.390625 \r\nQ 13.765625 71.78125 18.9375 73 \r\nQ 24.125 74.21875 28.421875 74.21875 \r\nQ 39.75 74.21875 46.484375 68.546875 \r\nQ 53.21875 62.890625 53.21875 53.421875 \r\nQ 53.21875 48.921875 51.53125 44.890625 \r\nQ 49.859375 40.875 45.40625 35.40625 \r\nQ 44.1875 33.984375 37.640625 27.21875 \r\nQ 31.109375 20.453125 19.1875 8.296875 \r\nz\r\n\" id=\"DejaVuSans-50\"/>\r\n      </defs>\r\n      <use xlink:href=\"#DejaVuSans-112\"/>\r\n      <use x=\"63.476562\" xlink:href=\"#DejaVuSans-50\"/>\r\n     </g>\r\n    </g>\r\n   </g>\r\n   <g id=\"text_3\">\r\n    <g clip-path=\"url(#pf9731fbb16)\">\r\n     <!-- p3 -->\r\n     <g transform=\"translate(395.126356 213.570997)scale(0.12 -0.12)\">\r\n      <defs>\r\n       <path d=\"M 40.578125 39.3125 \r\nQ 47.65625 37.796875 51.625 33 \r\nQ 55.609375 28.21875 55.609375 21.1875 \r\nQ 55.609375 10.40625 48.1875 4.484375 \r\nQ 40.765625 -1.421875 27.09375 -1.421875 \r\nQ 22.515625 -1.421875 17.65625 -0.515625 \r\nQ 12.796875 0.390625 7.625 2.203125 \r\nL 7.625 11.71875 \r\nQ 11.71875 9.328125 16.59375 8.109375 \r\nQ 21.484375 6.890625 26.8125 6.890625 \r\nQ 36.078125 6.890625 40.9375 10.546875 \r\nQ 45.796875 14.203125 45.796875 21.1875 \r\nQ 45.796875 27.640625 41.28125 31.265625 \r\nQ 36.765625 34.90625 28.71875 34.90625 \r\nL 20.21875 34.90625 \r\nL 20.21875 43.015625 \r\nL 29.109375 43.015625 \r\nQ 36.375 43.015625 40.234375 45.921875 \r\nQ 44.09375 48.828125 44.09375 54.296875 \r\nQ 44.09375 59.90625 40.109375 62.90625 \r\nQ 36.140625 65.921875 28.71875 65.921875 \r\nQ 24.65625 65.921875 20.015625 65.03125 \r\nQ 15.375 64.15625 9.8125 62.3125 \r\nL 9.8125 71.09375 \r\nQ 15.4375 72.65625 20.34375 73.4375 \r\nQ 25.25 74.21875 29.59375 74.21875 \r\nQ 40.828125 74.21875 47.359375 69.109375 \r\nQ 53.90625 64.015625 53.90625 55.328125 \r\nQ 53.90625 49.265625 50.4375 45.09375 \r\nQ 46.96875 40.921875 40.578125 39.3125 \r\nz\r\n\" id=\"DejaVuSans-51\"/>\r\n      </defs>\r\n      <use xlink:href=\"#DejaVuSans-112\"/>\r\n      <use x=\"63.476562\" xlink:href=\"#DejaVuSans-51\"/>\r\n     </g>\r\n    </g>\r\n   </g>\r\n   <g id=\"text_4\">\r\n    <g clip-path=\"url(#pf9731fbb16)\">\r\n     <!-- p4 -->\r\n     <g transform=\"translate(317.383921 195.529937)scale(0.12 -0.12)\">\r\n      <defs>\r\n       <path d=\"M 37.796875 64.3125 \r\nL 12.890625 25.390625 \r\nL 37.796875 25.390625 \r\nz\r\nM 35.203125 72.90625 \r\nL 47.609375 72.90625 \r\nL 47.609375 25.390625 \r\nL 58.015625 25.390625 \r\nL 58.015625 17.1875 \r\nL 47.609375 17.1875 \r\nL 47.609375 0 \r\nL 37.796875 0 \r\nL 37.796875 17.1875 \r\nL 4.890625 17.1875 \r\nL 4.890625 26.703125 \r\nz\r\n\" id=\"DejaVuSans-52\"/>\r\n      </defs>\r\n      <use xlink:href=\"#DejaVuSans-112\"/>\r\n      <use x=\"63.476562\" xlink:href=\"#DejaVuSans-52\"/>\r\n     </g>\r\n    </g>\r\n   </g>\r\n   <g id=\"text_5\">\r\n    <g clip-path=\"url(#pf9731fbb16)\">\r\n     <!-- p5 -->\r\n     <g transform=\"translate(425.995657 333.847699)scale(0.12 -0.12)\">\r\n      <defs>\r\n       <path d=\"M 10.796875 72.90625 \r\nL 49.515625 72.90625 \r\nL 49.515625 64.59375 \r\nL 19.828125 64.59375 \r\nL 19.828125 46.734375 \r\nQ 21.96875 47.46875 24.109375 47.828125 \r\nQ 26.265625 48.1875 28.421875 48.1875 \r\nQ 40.625 48.1875 47.75 41.5 \r\nQ 54.890625 34.8125 54.890625 23.390625 \r\nQ 54.890625 11.625 47.5625 5.09375 \r\nQ 40.234375 -1.421875 26.90625 -1.421875 \r\nQ 22.3125 -1.421875 17.546875 -0.640625 \r\nQ 12.796875 0.140625 7.71875 1.703125 \r\nL 7.71875 11.625 \r\nQ 12.109375 9.234375 16.796875 8.0625 \r\nQ 21.484375 6.890625 26.703125 6.890625 \r\nQ 35.15625 6.890625 40.078125 11.328125 \r\nQ 45.015625 15.765625 45.015625 23.390625 \r\nQ 45.015625 31 40.078125 35.4375 \r\nQ 35.15625 39.890625 26.703125 39.890625 \r\nQ 22.75 39.890625 18.8125 39.015625 \r\nQ 14.890625 38.140625 10.796875 36.28125 \r\nz\r\n\" id=\"DejaVuSans-53\"/>\r\n      </defs>\r\n      <use xlink:href=\"#DejaVuSans-112\"/>\r\n      <use x=\"63.476562\" xlink:href=\"#DejaVuSans-53\"/>\r\n     </g>\r\n    </g>\r\n   </g>\r\n   <g id=\"text_6\">\r\n    <g clip-path=\"url(#pf9731fbb16)\">\r\n     <!-- p6 -->\r\n     <g transform=\"translate(482.091936 259.123663)scale(0.12 -0.12)\">\r\n      <defs>\r\n       <path d=\"M 33.015625 40.375 \r\nQ 26.375 40.375 22.484375 35.828125 \r\nQ 18.609375 31.296875 18.609375 23.390625 \r\nQ 18.609375 15.53125 22.484375 10.953125 \r\nQ 26.375 6.390625 33.015625 6.390625 \r\nQ 39.65625 6.390625 43.53125 10.953125 \r\nQ 47.40625 15.53125 47.40625 23.390625 \r\nQ 47.40625 31.296875 43.53125 35.828125 \r\nQ 39.65625 40.375 33.015625 40.375 \r\nz\r\nM 52.59375 71.296875 \r\nL 52.59375 62.3125 \r\nQ 48.875 64.0625 45.09375 64.984375 \r\nQ 41.3125 65.921875 37.59375 65.921875 \r\nQ 27.828125 65.921875 22.671875 59.328125 \r\nQ 17.53125 52.734375 16.796875 39.40625 \r\nQ 19.671875 43.65625 24.015625 45.921875 \r\nQ 28.375 48.1875 33.59375 48.1875 \r\nQ 44.578125 48.1875 50.953125 41.515625 \r\nQ 57.328125 34.859375 57.328125 23.390625 \r\nQ 57.328125 12.15625 50.6875 5.359375 \r\nQ 44.046875 -1.421875 33.015625 -1.421875 \r\nQ 20.359375 -1.421875 13.671875 8.265625 \r\nQ 6.984375 17.96875 6.984375 36.375 \r\nQ 6.984375 53.65625 15.1875 63.9375 \r\nQ 23.390625 74.21875 37.203125 74.21875 \r\nQ 40.921875 74.21875 44.703125 73.484375 \r\nQ 48.484375 72.75 52.59375 71.296875 \r\nz\r\n\" id=\"DejaVuSans-54\"/>\r\n      </defs>\r\n      <use xlink:href=\"#DejaVuSans-112\"/>\r\n      <use x=\"63.476562\" xlink:href=\"#DejaVuSans-54\"/>\r\n     </g>\r\n    </g>\r\n   </g>\r\n   <g id=\"text_7\">\r\n    <g clip-path=\"url(#pf9731fbb16)\">\r\n     <!-- p10 -->\r\n     <g transform=\"translate(528.392301 258.367216)scale(0.12 -0.12)\">\r\n      <defs>\r\n       <path d=\"M 31.78125 66.40625 \r\nQ 24.171875 66.40625 20.328125 58.90625 \r\nQ 16.5 51.421875 16.5 36.375 \r\nQ 16.5 21.390625 20.328125 13.890625 \r\nQ 24.171875 6.390625 31.78125 6.390625 \r\nQ 39.453125 6.390625 43.28125 13.890625 \r\nQ 47.125 21.390625 47.125 36.375 \r\nQ 47.125 51.421875 43.28125 58.90625 \r\nQ 39.453125 66.40625 31.78125 66.40625 \r\nz\r\nM 31.78125 74.21875 \r\nQ 44.046875 74.21875 50.515625 64.515625 \r\nQ 56.984375 54.828125 56.984375 36.375 \r\nQ 56.984375 17.96875 50.515625 8.265625 \r\nQ 44.046875 -1.421875 31.78125 -1.421875 \r\nQ 19.53125 -1.421875 13.0625 8.265625 \r\nQ 6.59375 17.96875 6.59375 36.375 \r\nQ 6.59375 54.828125 13.0625 64.515625 \r\nQ 19.53125 74.21875 31.78125 74.21875 \r\nz\r\n\" id=\"DejaVuSans-48\"/>\r\n      </defs>\r\n      <use xlink:href=\"#DejaVuSans-112\"/>\r\n      <use x=\"63.476562\" xlink:href=\"#DejaVuSans-49\"/>\r\n      <use x=\"127.099609\" xlink:href=\"#DejaVuSans-48\"/>\r\n     </g>\r\n    </g>\r\n   </g>\r\n   <g id=\"text_8\">\r\n    <g clip-path=\"url(#pf9731fbb16)\">\r\n     <!-- p11 -->\r\n     <g transform=\"translate(488.142204 280.053274)scale(0.12 -0.12)\">\r\n      <use xlink:href=\"#DejaVuSans-112\"/>\r\n      <use x=\"63.476562\" xlink:href=\"#DejaVuSans-49\"/>\r\n      <use x=\"127.099609\" xlink:href=\"#DejaVuSans-49\"/>\r\n     </g>\r\n    </g>\r\n   </g>\r\n   <g id=\"text_9\">\r\n    <g clip-path=\"url(#pf9731fbb16)\">\r\n     <!-- p15 -->\r\n     <g transform=\"translate(400.297429 280.888465)scale(0.12 -0.12)\">\r\n      <use xlink:href=\"#DejaVuSans-112\"/>\r\n      <use x=\"63.476562\" xlink:href=\"#DejaVuSans-49\"/>\r\n      <use x=\"127.099609\" xlink:href=\"#DejaVuSans-53\"/>\r\n     </g>\r\n    </g>\r\n   </g>\r\n   <g id=\"text_10\">\r\n    <g clip-path=\"url(#pf9731fbb16)\">\r\n     <!-- p14 -->\r\n     <g transform=\"translate(291.419397 274.145573)scale(0.12 -0.12)\">\r\n      <use xlink:href=\"#DejaVuSans-112\"/>\r\n      <use x=\"63.476562\" xlink:href=\"#DejaVuSans-49\"/>\r\n      <use x=\"127.099609\" xlink:href=\"#DejaVuSans-52\"/>\r\n     </g>\r\n    </g>\r\n   </g>\r\n   <g id=\"text_11\">\r\n    <g clip-path=\"url(#pf9731fbb16)\">\r\n     <!-- p12 -->\r\n     <g transform=\"translate(148.57256 115.086692)scale(0.12 -0.12)\">\r\n      <use xlink:href=\"#DejaVuSans-112\"/>\r\n      <use x=\"63.476562\" xlink:href=\"#DejaVuSans-49\"/>\r\n      <use x=\"127.099609\" xlink:href=\"#DejaVuSans-50\"/>\r\n     </g>\r\n    </g>\r\n   </g>\r\n   <g id=\"text_12\">\r\n    <g clip-path=\"url(#pf9731fbb16)\">\r\n     <!-- p7 -->\r\n     <g transform=\"translate(409.502667 411.332373)scale(0.12 -0.12)\">\r\n      <defs>\r\n       <path d=\"M 8.203125 72.90625 \r\nL 55.078125 72.90625 \r\nL 55.078125 68.703125 \r\nL 28.609375 0 \r\nL 18.3125 0 \r\nL 43.21875 64.59375 \r\nL 8.203125 64.59375 \r\nz\r\n\" id=\"DejaVuSans-55\"/>\r\n      </defs>\r\n      <use xlink:href=\"#DejaVuSans-112\"/>\r\n      <use x=\"63.476562\" xlink:href=\"#DejaVuSans-55\"/>\r\n     </g>\r\n    </g>\r\n   </g>\r\n   <g id=\"text_13\">\r\n    <g clip-path=\"url(#pf9731fbb16)\">\r\n     <!-- p8 -->\r\n     <g transform=\"translate(425.89084 465.279557)scale(0.12 -0.12)\">\r\n      <defs>\r\n       <path d=\"M 31.78125 34.625 \r\nQ 24.75 34.625 20.71875 30.859375 \r\nQ 16.703125 27.09375 16.703125 20.515625 \r\nQ 16.703125 13.921875 20.71875 10.15625 \r\nQ 24.75 6.390625 31.78125 6.390625 \r\nQ 38.8125 6.390625 42.859375 10.171875 \r\nQ 46.921875 13.96875 46.921875 20.515625 \r\nQ 46.921875 27.09375 42.890625 30.859375 \r\nQ 38.875 34.625 31.78125 34.625 \r\nz\r\nM 21.921875 38.8125 \r\nQ 15.578125 40.375 12.03125 44.71875 \r\nQ 8.5 49.078125 8.5 55.328125 \r\nQ 8.5 64.0625 14.71875 69.140625 \r\nQ 20.953125 74.21875 31.78125 74.21875 \r\nQ 42.671875 74.21875 48.875 69.140625 \r\nQ 55.078125 64.0625 55.078125 55.328125 \r\nQ 55.078125 49.078125 51.53125 44.71875 \r\nQ 48 40.375 41.703125 38.8125 \r\nQ 48.828125 37.15625 52.796875 32.3125 \r\nQ 56.78125 27.484375 56.78125 20.515625 \r\nQ 56.78125 9.90625 50.3125 4.234375 \r\nQ 43.84375 -1.421875 31.78125 -1.421875 \r\nQ 19.734375 -1.421875 13.25 4.234375 \r\nQ 6.78125 9.90625 6.78125 20.515625 \r\nQ 6.78125 27.484375 10.78125 32.3125 \r\nQ 14.796875 37.15625 21.921875 38.8125 \r\nz\r\nM 18.3125 54.390625 \r\nQ 18.3125 48.734375 21.84375 45.5625 \r\nQ 25.390625 42.390625 31.78125 42.390625 \r\nQ 38.140625 42.390625 41.71875 45.5625 \r\nQ 45.3125 48.734375 45.3125 54.390625 \r\nQ 45.3125 60.0625 41.71875 63.234375 \r\nQ 38.140625 66.40625 31.78125 66.40625 \r\nQ 25.390625 66.40625 21.84375 63.234375 \r\nQ 18.3125 60.0625 18.3125 54.390625 \r\nz\r\n\" id=\"DejaVuSans-56\"/>\r\n      </defs>\r\n      <use xlink:href=\"#DejaVuSans-112\"/>\r\n      <use x=\"63.476562\" xlink:href=\"#DejaVuSans-56\"/>\r\n     </g>\r\n    </g>\r\n   </g>\r\n   <g id=\"text_14\">\r\n    <g clip-path=\"url(#pf9731fbb16)\">\r\n     <!-- p9 -->\r\n     <g transform=\"translate(326.443476 473.860358)scale(0.12 -0.12)\">\r\n      <defs>\r\n       <path d=\"M 10.984375 1.515625 \r\nL 10.984375 10.5 \r\nQ 14.703125 8.734375 18.5 7.8125 \r\nQ 22.3125 6.890625 25.984375 6.890625 \r\nQ 35.75 6.890625 40.890625 13.453125 \r\nQ 46.046875 20.015625 46.78125 33.40625 \r\nQ 43.953125 29.203125 39.59375 26.953125 \r\nQ 35.25 24.703125 29.984375 24.703125 \r\nQ 19.046875 24.703125 12.671875 31.3125 \r\nQ 6.296875 37.9375 6.296875 49.421875 \r\nQ 6.296875 60.640625 12.9375 67.421875 \r\nQ 19.578125 74.21875 30.609375 74.21875 \r\nQ 43.265625 74.21875 49.921875 64.515625 \r\nQ 56.59375 54.828125 56.59375 36.375 \r\nQ 56.59375 19.140625 48.40625 8.859375 \r\nQ 40.234375 -1.421875 26.421875 -1.421875 \r\nQ 22.703125 -1.421875 18.890625 -0.6875 \r\nQ 15.09375 0.046875 10.984375 1.515625 \r\nz\r\nM 30.609375 32.421875 \r\nQ 37.25 32.421875 41.125 36.953125 \r\nQ 45.015625 41.5 45.015625 49.421875 \r\nQ 45.015625 57.28125 41.125 61.84375 \r\nQ 37.25 66.40625 30.609375 66.40625 \r\nQ 23.96875 66.40625 20.09375 61.84375 \r\nQ 16.21875 57.28125 16.21875 49.421875 \r\nQ 16.21875 41.5 20.09375 36.953125 \r\nQ 23.96875 32.421875 30.609375 32.421875 \r\nz\r\n\" id=\"DejaVuSans-57\"/>\r\n      </defs>\r\n      <use xlink:href=\"#DejaVuSans-112\"/>\r\n      <use x=\"63.476562\" xlink:href=\"#DejaVuSans-57\"/>\r\n     </g>\r\n    </g>\r\n   </g>\r\n   <g id=\"text_15\">\r\n    <g clip-path=\"url(#pf9731fbb16)\">\r\n     <!-- p18 -->\r\n     <g transform=\"translate(170.189031 512.261921)scale(0.12 -0.12)\">\r\n      <use xlink:href=\"#DejaVuSans-112\"/>\r\n      <use x=\"63.476562\" xlink:href=\"#DejaVuSans-49\"/>\r\n      <use x=\"127.099609\" xlink:href=\"#DejaVuSans-56\"/>\r\n     </g>\r\n    </g>\r\n   </g>\r\n   <g id=\"text_16\">\r\n    <g clip-path=\"url(#pf9731fbb16)\">\r\n     <!-- p16 -->\r\n     <g transform=\"translate(35.279968 35.220341)scale(0.12 -0.12)\">\r\n      <use xlink:href=\"#DejaVuSans-112\"/>\r\n      <use x=\"63.476562\" xlink:href=\"#DejaVuSans-49\"/>\r\n      <use x=\"127.099609\" xlink:href=\"#DejaVuSans-54\"/>\r\n     </g>\r\n    </g>\r\n   </g>\r\n   <g id=\"text_17\">\r\n    <g clip-path=\"url(#pf9731fbb16)\">\r\n     <!-- p17 -->\r\n     <g transform=\"translate(21.119574 72.791163)scale(0.12 -0.12)\">\r\n      <use xlink:href=\"#DejaVuSans-112\"/>\r\n      <use x=\"63.476562\" xlink:href=\"#DejaVuSans-49\"/>\r\n      <use x=\"127.099609\" xlink:href=\"#DejaVuSans-55\"/>\r\n     </g>\r\n    </g>\r\n   </g>\r\n   <g id=\"text_18\">\r\n    <g clip-path=\"url(#pf9731fbb16)\">\r\n     <!-- p13 -->\r\n     <g transform=\"translate(274.764791 304.690363)scale(0.12 -0.12)\">\r\n      <use xlink:href=\"#DejaVuSans-112\"/>\r\n      <use x=\"63.476562\" xlink:href=\"#DejaVuSans-49\"/>\r\n      <use x=\"127.099609\" xlink:href=\"#DejaVuSans-51\"/>\r\n     </g>\r\n    </g>\r\n   </g>\r\n   <g id=\"text_19\">\r\n    <g clip-path=\"url(#pf9731fbb16)\">\r\n     <!-- p19 -->\r\n     <g transform=\"translate(71.79099 507.76109)scale(0.12 -0.12)\">\r\n      <use xlink:href=\"#DejaVuSans-112\"/>\r\n      <use x=\"63.476562\" xlink:href=\"#DejaVuSans-49\"/>\r\n      <use x=\"127.099609\" xlink:href=\"#DejaVuSans-57\"/>\r\n     </g>\r\n    </g>\r\n   </g>\r\n   <g id=\"text_20\">\r\n    <g clip-path=\"url(#pf9731fbb16)\">\r\n     <!-- p20 -->\r\n     <g transform=\"translate(84.186945 529.402159)scale(0.12 -0.12)\">\r\n      <use xlink:href=\"#DejaVuSans-112\"/>\r\n      <use x=\"63.476562\" xlink:href=\"#DejaVuSans-50\"/>\r\n      <use x=\"127.099609\" xlink:href=\"#DejaVuSans-48\"/>\r\n     </g>\r\n    </g>\r\n   </g>\r\n  </g>\r\n </g>\r\n <defs>\r\n  <clipPath id=\"pf9731fbb16\">\r\n   <rect height=\"543.6\" width=\"558\" x=\"7.2\" y=\"7.2\"/>\r\n  </clipPath>\r\n </defs>\r\n</svg>\r\n",
      "image/png": "[encoded data removed]"
     },
     "metadata": {}
    }
   ],
   "source": [
    "# visualization\n",
    "durations = [x['weight'] for x in dict(p2p_norm_graph.edges).values()]\n",
    "labels = [x for x in dict(p2p_norm_graph.nodes).keys()]\n",
    "labels = {x:x for x in dict(p2p_norm_graph.nodes).keys()}\n",
    "\n",
    "fig, ax = plt.subplots(figsize=(10,10))\n",
    "pos = nx.spring_layout(p2p_norm_graph)\n",
    "nx.draw_networkx_nodes(p2p_norm_graph, pos, ax = ax, label=True)\n",
    "nx.draw_networkx_edges(p2p_norm_graph, pos, width=durations, ax=ax)\n",
    "_ = nx.draw_networkx_labels(p2p_norm_graph, pos, labels, ax=ax)"
   ]
  },
  {
   "cell_type": "markdown",
   "metadata": {},
   "source": [
    "## Analysis of Contact Tracing\n",
    "- degree of nodes\n",
    "    - most important person\n",
    "    - most influential person\n",
    "    - most connected person"
   ]
  },
  {
   "cell_type": "code",
   "execution_count": 13,
   "metadata": {},
   "outputs": [],
   "source": [
    "# graph\n",
    "p2p_graph = nx.from_pandas_edgelist(p2p_netw_data,'person','contact', edge_attr='weight')"
   ]
  },
  {
   "cell_type": "code",
   "execution_count": 14,
   "metadata": {},
   "outputs": [],
   "source": [
    "# list the nodes and their analysis\n",
    "def sort_network_degree(net_data):\n",
    "    temp = []\n",
    "    for w in sorted(net_data, key=net_data.get, reverse=True):\n",
    "        # print(f'{w} :: {net_data[w]}')\n",
    "        temp.append((w, net_data[w]))\n",
    "    return temp"
   ]
  },
  {
   "cell_type": "markdown",
   "metadata": {},
   "source": [
    "#### Most Influential Person\n",
    "- no weights\n",
    "- influential in terms of most connection nodes"
   ]
  },
  {
   "cell_type": "code",
   "execution_count": 15,
   "metadata": {
    "scrolled": true
   },
   "outputs": [
    {
     "output_type": "execute_result",
     "data": {
      "text/plain": [
       "[('p1', 0.42105263157894735),\n",
       " ('p15', 0.3157894736842105),\n",
       " ('p2', 0.21052631578947367),\n",
       " ('p4', 0.21052631578947367),\n",
       " ('p6', 0.21052631578947367),\n",
       " ('p10', 0.21052631578947367),\n",
       " ('p11', 0.21052631578947367),\n",
       " ('p3', 0.15789473684210525),\n",
       " ('p14', 0.15789473684210525),\n",
       " ('p12', 0.15789473684210525),\n",
       " ('p7', 0.15789473684210525),\n",
       " ('p9', 0.15789473684210525),\n",
       " ('p18', 0.15789473684210525),\n",
       " ('p5', 0.10526315789473684),\n",
       " ('p8', 0.10526315789473684),\n",
       " ('p16', 0.10526315789473684),\n",
       " ('p17', 0.10526315789473684),\n",
       " ('p13', 0.10526315789473684),\n",
       " ('p19', 0.10526315789473684),\n",
       " ('p20', 0.10526315789473684)]"
      ]
     },
     "metadata": {},
     "execution_count": 15
    }
   ],
   "source": [
    "# most influential\n",
    "sort_network_degree(nx.degree_centrality(p2p_graph))"
   ]
  },
  {
   "cell_type": "markdown",
   "metadata": {},
   "source": [
    "#### Most Connected Person (Wide Spreader)\n",
    "- person who are more likely to spread to more people\n",
    "- after p1 is p5, see list above. from the figure from network visualization we see that if p5 does not exist then p7, p8, p9, p18, p19, p20 will not be included in the list, additional total of 6 person in the contact network."
   ]
  },
  {
   "cell_type": "code",
   "execution_count": 16,
   "metadata": {
    "scrolled": true
   },
   "outputs": [
    {
     "output_type": "execute_result",
     "data": {
      "text/plain": [
       "[('p1', 0.5964912280701754),\n",
       " ('p5', 0.45614035087719296),\n",
       " ('p7', 0.4093567251461988),\n",
       " ('p4', 0.2807017543859649),\n",
       " ('p9', 0.2807017543859649),\n",
       " ('p12', 0.19883040935672514),\n",
       " ('p18', 0.19883040935672514),\n",
       " ('p2', 0.13450292397660818),\n",
       " ('p15', 0.08187134502923976),\n",
       " ('p14', 0.07017543859649122),\n",
       " ('p3', 0.0),\n",
       " ('p6', 0.0),\n",
       " ('p10', 0.0),\n",
       " ('p11', 0.0),\n",
       " ('p8', 0.0),\n",
       " ('p16', 0.0),\n",
       " ('p17', 0.0),\n",
       " ('p13', 0.0),\n",
       " ('p19', 0.0),\n",
       " ('p20', 0.0)]"
      ]
     },
     "metadata": {},
     "execution_count": 16
    }
   ],
   "source": [
    "# most used bridge or connection\n",
    "bridge_list = sort_network_degree(nx.betweenness_centrality(p2p_graph, weight='weight'))\n",
    "bridge_list"
   ]
  },
  {
   "cell_type": "markdown",
   "metadata": {},
   "source": [
    "#### Most Important Person (Infection Vulnerability)\n",
    "- returns list of person's risk value in descending\n",
    "- higher value = more vulnerable to covid\n",
    "- this must be the metric to find who to test first"
   ]
  },
  {
   "cell_type": "code",
   "execution_count": 17,
   "metadata": {
    "scrolled": false
   },
   "outputs": [
    {
     "output_type": "execute_result",
     "data": {
      "text/plain": [
       "[('p1', 0.5712658816018152),\n",
       " ('p6', 0.4082942906679761),\n",
       " ('p11', 0.37933737922840527),\n",
       " ('p15', 0.3531865507533995),\n",
       " ('p10', 0.27222032229537124),\n",
       " ('p3', 0.22003758832219247),\n",
       " ('p4', 0.18642150072170463),\n",
       " ('p5', 0.18235711956774078),\n",
       " ('p2', 0.1807168677575178),\n",
       " ('p14', 0.10036070253081737),\n",
       " ('p13', 0.05877213823784436),\n",
       " ('p7', 0.036451084043660036),\n",
       " ('p12', 0.01440109182492027),\n",
       " ('p9', 0.005640238580654925),\n",
       " ('p8', 0.005577930676347361),\n",
       " ('p17', 0.001027320254544509),\n",
       " ('p18', 0.0006645172842694355),\n",
       " ('p16', 0.0006077832590213976),\n",
       " ('p19', 0.00016417489496713328),\n",
       " ('p20', 0.00016013071396296294)]"
      ]
     },
     "metadata": {},
     "execution_count": 17
    }
   ],
   "source": [
    "# most important connection\n",
    "sort_network_degree(nx.eigenvector_centrality(p2p_graph, weight='weight'))"
   ]
  },
  {
   "cell_type": "markdown",
   "metadata": {},
   "source": [
    "### Contact Testing Ordinality\n",
    "- we use most important person as the metric\n",
    "    - eigenvector centrality\n",
    "- we need to remove the covid poisitive person in the list   "
   ]
  },
  {
   "cell_type": "code",
   "execution_count": 18,
   "metadata": {},
   "outputs": [],
   "source": [
    "# remove the covid positive people\n",
    "list_important = sort_network_degree(nx.eigenvector_centrality(p2p_graph, weight='weight'))"
   ]
  },
  {
   "cell_type": "code",
   "execution_count": 19,
   "metadata": {},
   "outputs": [
    {
     "output_type": "execute_result",
     "data": {
      "text/plain": [
       "[('p15', 0.3531865507533995),\n",
       " ('p10', 0.27222032229537124),\n",
       " ('p3', 0.22003758832219247),\n",
       " ('p4', 0.18642150072170463),\n",
       " ('p2', 0.1807168677575178),\n",
       " ('p14', 0.10036070253081737),\n",
       " ('p13', 0.05877213823784436),\n",
       " ('p7', 0.036451084043660036),\n",
       " ('p12', 0.01440109182492027),\n",
       " ('p9', 0.005640238580654925),\n",
       " ('p8', 0.005577930676347361),\n",
       " ('p17', 0.001027320254544509),\n",
       " ('p18', 0.0006645172842694355),\n",
       " ('p16', 0.0006077832590213976),\n",
       " ('p19', 0.00016417489496713328),\n",
       " ('p20', 0.00016013071396296294)]"
      ]
     },
     "metadata": {},
     "execution_count": 19
    }
   ],
   "source": [
    "for_test = []\n",
    "for i in list_important:\n",
    "    # find the covid positive persons\n",
    "    has_covid = person_data['confirmed_covid'].loc[person_data['person'] == i[0]]\n",
    "    # list non covid positive\n",
    "    if not has_covid.bool():\n",
    "        for_test.append(i)\n",
    "for_test"
   ]
  },
  {
   "cell_type": "markdown",
   "metadata": {},
   "source": [
    "# Ranking the Persons"
   ]
  },
  {
   "cell_type": "code",
   "execution_count": 20,
   "metadata": {
    "scrolled": true
   },
   "outputs": [
    {
     "output_type": "execute_result",
     "data": {
      "text/plain": [
       "   person  has_covid  vulnerable_rank  spreader_rank\n",
       "0      p1       True                0              0\n",
       "1      p2      False                0              0\n",
       "2      p3      False                0              0\n",
       "3      p4      False                0              0\n",
       "4      p5       True                0              0\n",
       "5      p6       True                0              0\n",
       "6      p7      False                0              0\n",
       "7      p8      False                0              0\n",
       "8      p9      False                0              0\n",
       "9     p10      False                0              0\n",
       "10    p11       True                0              0\n",
       "11    p12      False                0              0\n",
       "12    p13      False                0              0\n",
       "13    p14      False                0              0\n",
       "14    p15      False                0              0\n",
       "15    p16      False                0              0\n",
       "16    p17      False                0              0\n",
       "17    p18      False                0              0\n",
       "18    p19      False                0              0\n",
       "19    p20      False                0              0"
      ],
      "text/html": "<div>\n<style scoped>\n    .dataframe tbody tr th:only-of-type {\n        vertical-align: middle;\n    }\n\n    .dataframe tbody tr th {\n        vertical-align: top;\n    }\n\n    .dataframe thead th {\n        text-align: right;\n    }\n</style>\n<table border=\"1\" class=\"dataframe\">\n  <thead>\n    <tr style=\"text-align: right;\">\n      <th></th>\n      <th>person</th>\n      <th>has_covid</th>\n      <th>vulnerable_rank</th>\n      <th>spreader_rank</th>\n    </tr>\n  </thead>\n  <tbody>\n    <tr>\n      <th>0</th>\n      <td>p1</td>\n      <td>True</td>\n      <td>0</td>\n      <td>0</td>\n    </tr>\n    <tr>\n      <th>1</th>\n      <td>p2</td>\n      <td>False</td>\n      <td>0</td>\n      <td>0</td>\n    </tr>\n    <tr>\n      <th>2</th>\n      <td>p3</td>\n      <td>False</td>\n      <td>0</td>\n      <td>0</td>\n    </tr>\n    <tr>\n      <th>3</th>\n      <td>p4</td>\n      <td>False</td>\n      <td>0</td>\n      <td>0</td>\n    </tr>\n    <tr>\n      <th>4</th>\n      <td>p5</td>\n      <td>True</td>\n      <td>0</td>\n      <td>0</td>\n    </tr>\n    <tr>\n      <th>5</th>\n      <td>p6</td>\n      <td>True</td>\n      <td>0</td>\n      <td>0</td>\n    </tr>\n    <tr>\n      <th>6</th>\n      <td>p7</td>\n      <td>False</td>\n      <td>0</td>\n      <td>0</td>\n    </tr>\n    <tr>\n      <th>7</th>\n      <td>p8</td>\n      <td>False</td>\n      <td>0</td>\n      <td>0</td>\n    </tr>\n    <tr>\n      <th>8</th>\n      <td>p9</td>\n      <td>False</td>\n      <td>0</td>\n      <td>0</td>\n    </tr>\n    <tr>\n      <th>9</th>\n      <td>p10</td>\n      <td>False</td>\n      <td>0</td>\n      <td>0</td>\n    </tr>\n    <tr>\n      <th>10</th>\n      <td>p11</td>\n      <td>True</td>\n      <td>0</td>\n      <td>0</td>\n    </tr>\n    <tr>\n      <th>11</th>\n      <td>p12</td>\n      <td>False</td>\n      <td>0</td>\n      <td>0</td>\n    </tr>\n    <tr>\n      <th>12</th>\n      <td>p13</td>\n      <td>False</td>\n      <td>0</td>\n      <td>0</td>\n    </tr>\n    <tr>\n      <th>13</th>\n      <td>p14</td>\n      <td>False</td>\n      <td>0</td>\n      <td>0</td>\n    </tr>\n    <tr>\n      <th>14</th>\n      <td>p15</td>\n      <td>False</td>\n      <td>0</td>\n      <td>0</td>\n    </tr>\n    <tr>\n      <th>15</th>\n      <td>p16</td>\n      <td>False</td>\n      <td>0</td>\n      <td>0</td>\n    </tr>\n    <tr>\n      <th>16</th>\n      <td>p17</td>\n      <td>False</td>\n      <td>0</td>\n      <td>0</td>\n    </tr>\n    <tr>\n      <th>17</th>\n      <td>p18</td>\n      <td>False</td>\n      <td>0</td>\n      <td>0</td>\n    </tr>\n    <tr>\n      <th>18</th>\n      <td>p19</td>\n      <td>False</td>\n      <td>0</td>\n      <td>0</td>\n    </tr>\n    <tr>\n      <th>19</th>\n      <td>p20</td>\n      <td>False</td>\n      <td>0</td>\n      <td>0</td>\n    </tr>\n  </tbody>\n</table>\n</div>"
     },
     "metadata": {},
     "execution_count": 20
    }
   ],
   "source": [
    "# build dataframe for ranking\n",
    "ranking_data = pd.DataFrame(columns=['person', 'has_covid', 'vulnerable_rank', 'spreader_rank'])\n",
    "ranking_data['person'] = person_data['person']\n",
    "ranking_data['has_covid'] = person_data['confirmed_covid']\n",
    "ranking_data['vulnerable_rank'] = 0\n",
    "ranking_data['spreader_rank'] = 0\n",
    "ranking_data"
   ]
  },
  {
   "cell_type": "code",
   "execution_count": 21,
   "metadata": {},
   "outputs": [],
   "source": [
    "# ranker function\n",
    "def rank_data(data):\n",
    "    temp = []\n",
    "    for i in range(len(data)):\n",
    "        p, val = data[i]\n",
    "        temp.append((p, i+1))\n",
    "    return temp"
   ]
  },
  {
   "cell_type": "code",
   "execution_count": 22,
   "metadata": {
    "scrolled": true
   },
   "outputs": [
    {
     "output_type": "execute_result",
     "data": {
      "text/plain": [
       "[('p1', 1),\n",
       " ('p5', 2),\n",
       " ('p7', 3),\n",
       " ('p4', 4),\n",
       " ('p9', 5),\n",
       " ('p12', 6),\n",
       " ('p18', 7),\n",
       " ('p2', 8),\n",
       " ('p15', 9),\n",
       " ('p14', 10),\n",
       " ('p3', 11),\n",
       " ('p6', 12),\n",
       " ('p10', 13),\n",
       " ('p11', 14),\n",
       " ('p8', 15),\n",
       " ('p16', 16),\n",
       " ('p17', 17),\n",
       " ('p13', 18),\n",
       " ('p19', 19),\n",
       " ('p20', 20)]"
      ]
     },
     "metadata": {},
     "execution_count": 22
    }
   ],
   "source": [
    "# set ranking for spreader\n",
    "rank_spread = rank_data(bridge_list)\n",
    "rank_spread"
   ]
  },
  {
   "cell_type": "code",
   "execution_count": 23,
   "metadata": {
    "scrolled": true
   },
   "outputs": [
    {
     "output_type": "execute_result",
     "data": {
      "text/plain": [
       "[('p15', 1),\n",
       " ('p10', 2),\n",
       " ('p3', 3),\n",
       " ('p4', 4),\n",
       " ('p2', 5),\n",
       " ('p14', 6),\n",
       " ('p13', 7),\n",
       " ('p7', 8),\n",
       " ('p12', 9),\n",
       " ('p9', 10),\n",
       " ('p8', 11),\n",
       " ('p17', 12),\n",
       " ('p18', 13),\n",
       " ('p16', 14),\n",
       " ('p19', 15),\n",
       " ('p20', 16)]"
      ]
     },
     "metadata": {},
     "execution_count": 23
    }
   ],
   "source": [
    "# set ranking for vulnerable / for test\n",
    "rank_test = rank_data(for_test)\n",
    "rank_test"
   ]
  },
  {
   "cell_type": "markdown",
   "metadata": {},
   "source": [
    "### set the dataframe of ranking"
   ]
  },
  {
   "cell_type": "code",
   "execution_count": 24,
   "metadata": {},
   "outputs": [],
   "source": [
    "def populate_rank_data(data, rank_list, rank_class):\n",
    "    for i in range(len(rank_list)):\n",
    "        data[rank_class].loc[data['person'] == rank_list[i][0]] = rank_list[i][1]"
   ]
  },
  {
   "cell_type": "code",
   "execution_count": 25,
   "metadata": {},
   "outputs": [],
   "source": [
    "populate_rank_data(ranking_data, rank_spread, 'spreader_rank')\n",
    "populate_rank_data(ranking_data, rank_test, 'vulnerable_rank')"
   ]
  },
  {
   "cell_type": "markdown",
   "metadata": {},
   "source": [
    "# CONCLUSION FOR COVID TESTING / CONTACT TESTING\n",
    "- visualized contact network with weights\n",
    "- testing ranking and spreader ranking\n",
    "- vulnerability rank = eigenvector; spreader rank = betweenness centrality"
   ]
  },
  {
   "cell_type": "code",
   "execution_count": 26,
   "metadata": {},
   "outputs": [
    {
     "output_type": "display_data",
     "data": {
      "text/plain": "<Figure size 720x720 with 1 Axes>",
      "image/svg+xml": "<?xml version=\"1.0\" encoding=\"utf-8\" standalone=\"no\"?>\r\n<!DOCTYPE svg PUBLIC \"-//W3C//DTD SVG 1.1//EN\"\r\n  \"http://www.w3.org/Graphics/SVG/1.1/DTD/svg11.dtd\">\r\n<!-- Created with matplotlib (https://matplotlib.org/) -->\r\n<svg height=\"558pt\" version=\"1.1\" viewBox=\"0 0 572.4 558\" width=\"572.4pt\" xmlns=\"http://www.w3.org/2000/svg\" xmlns:xlink=\"http://www.w3.org/1999/xlink\">\r\n <metadata>\r\n  <rdf:RDF xmlns:cc=\"http://creativecommons.org/ns#\" xmlns:dc=\"http://purl.org/dc/elements/1.1/\" xmlns:rdf=\"http://www.w3.org/1999/02/22-rdf-syntax-ns#\">\r\n   <cc:Work>\r\n    <dc:type rdf:resource=\"http://purl.org/dc/dcmitype/StillImage\"/>\r\n    <dc:date>2021-03-02T13:40:46.199076</dc:date>\r\n    <dc:format>image/svg+xml</dc:format>\r\n    <dc:creator>\r\n     <cc:Agent>\r\n      <dc:title>Matplotlib v3.3.1, https://matplotlib.org/</dc:title>\r\n     </cc:Agent>\r\n    </dc:creator>\r\n   </cc:Work>\r\n  </rdf:RDF>\r\n </metadata>\r\n <defs>\r\n  <style type=\"text/css\">*{stroke-linecap:butt;stroke-linejoin:round;}</style>\r\n </defs>\r\n <g id=\"figure_1\">\r\n  <g id=\"patch_1\">\r\n   <path d=\"M 0 558 \r\nL 572.4 558 \r\nL 572.4 0 \r\nL 0 0 \r\nz\r\n\" style=\"fill:none;\"/>\r\n  </g>\r\n  <g id=\"axes_1\">\r\n   <g id=\"patch_2\">\r\n    <path d=\"M 7.2 550.8 \r\nL 565.2 550.8 \r\nL 565.2 7.2 \r\nL 7.2 7.2 \r\nz\r\n\" style=\"fill:#ffffff;\"/>\r\n   </g>\r\n   <g id=\"LineCollection_1\">\r\n    <path clip-path=\"url(#p25e70cf666)\" d=\"M 467.18654 262.423907 \r\nL 430.277615 224.904499 \r\n\" style=\"fill:none;stroke:#000000;stroke-width:1.296561;\"/>\r\n    <path clip-path=\"url(#p25e70cf666)\" d=\"M 467.18654 262.423907 \r\nL 511.989882 226.123464 \r\n\" style=\"fill:none;stroke:#000000;stroke-width:1.802206;\"/>\r\n    <path clip-path=\"url(#p25e70cf666)\" d=\"M 467.18654 262.423907 \r\nL 480.410107 197.185753 \r\n\" style=\"fill:none;stroke:#000000;stroke-width:1.456067;\"/>\r\n    <path clip-path=\"url(#p25e70cf666)\" d=\"M 467.18654 262.423907 \r\nL 417.256195 327.895491 \r\n\" style=\"fill:none;stroke:#000000;stroke-width:1.950657;\"/>\r\n    <path clip-path=\"url(#p25e70cf666)\" d=\"M 467.18654 262.423907 \r\nL 497.967381 284.309772 \r\n\" style=\"fill:none;stroke:#000000;stroke-width:2;\"/>\r\n    <path clip-path=\"url(#p25e70cf666)\" d=\"M 467.18654 262.423907 \r\nL 539.836364 276.594178 \r\n\" style=\"fill:none;stroke:#000000;stroke-width:1.343058;\"/>\r\n    <path clip-path=\"url(#p25e70cf666)\" d=\"M 467.18654 262.423907 \r\nL 462.994228 288.810383 \r\n\" style=\"fill:none;stroke:#000000;stroke-width:2;\"/>\r\n    <path clip-path=\"url(#p25e70cf666)\" d=\"M 467.18654 262.423907 \r\nL 408.044621 269.379023 \r\n\" style=\"fill:none;stroke:#000000;stroke-width:1.822115;\"/>\r\n    <path clip-path=\"url(#p25e70cf666)\" d=\"M 430.277615 224.904499 \r\nL 511.989882 226.123464 \r\n\" style=\"fill:none;stroke:#000000;stroke-width:0.912135;\"/>\r\n    <path clip-path=\"url(#p25e70cf666)\" d=\"M 430.277615 224.904499 \r\nL 480.410107 197.185753 \r\n\" style=\"fill:none;stroke:#000000;stroke-width:0.565996;\"/>\r\n    <path clip-path=\"url(#p25e70cf666)\" d=\"M 430.277615 224.904499 \r\nL 338.99656 241.442211 \r\n\" style=\"fill:none;stroke:#000000;stroke-width:0.991985;\"/>\r\n    <path clip-path=\"url(#p25e70cf666)\" d=\"M 511.989882 226.123464 \r\nL 480.410107 197.185753 \r\n\" style=\"fill:none;stroke:#000000;stroke-width:1.06048;\"/>\r\n    <path clip-path=\"url(#p25e70cf666)\" d=\"M 480.410107 197.185753 \r\nL 457.75532 106.008011 \r\n\" style=\"fill:none;stroke:#000000;stroke-width:0.56857;\"/>\r\n    <path clip-path=\"url(#p25e70cf666)\" d=\"M 417.256195 327.895491 \r\nL 350.136039 393.81958 \r\n\" style=\"fill:none;stroke:#000000;stroke-width:1.343058;\"/>\r\n    <path clip-path=\"url(#p25e70cf666)\" d=\"M 497.967381 284.309772 \r\nL 539.836364 276.594178 \r\n\" style=\"fill:none;stroke:#000000;stroke-width:1.233568;\"/>\r\n    <path clip-path=\"url(#p25e70cf666)\" d=\"M 497.967381 284.309772 \r\nL 462.994228 288.810383 \r\n\" style=\"fill:none;stroke:#000000;stroke-width:2;\"/>\r\n    <path clip-path=\"url(#p25e70cf666)\" d=\"M 497.967381 284.309772 \r\nL 408.044621 269.379023 \r\n\" style=\"fill:none;stroke:#000000;stroke-width:1.562039;\"/>\r\n    <path clip-path=\"url(#p25e70cf666)\" d=\"M 539.836364 276.594178 \r\nL 462.994228 288.810383 \r\n\" style=\"fill:none;stroke:#000000;stroke-width:1.105356;\"/>\r\n    <path clip-path=\"url(#p25e70cf666)\" d=\"M 539.836364 276.594178 \r\nL 408.044621 269.379023 \r\n\" style=\"fill:none;stroke:#000000;stroke-width:0.754805;\"/>\r\n    <path clip-path=\"url(#p25e70cf666)\" d=\"M 462.994228 288.810383 \r\nL 408.044621 269.379023 \r\n\" style=\"fill:none;stroke:#000000;stroke-width:1.463214;\"/>\r\n    <path clip-path=\"url(#p25e70cf666)\" d=\"M 408.044621 269.379023 \r\nL 279.609709 257.909908 \r\n\" style=\"fill:none;stroke:#000000;stroke-width:0.93269;\"/>\r\n    <path clip-path=\"url(#p25e70cf666)\" d=\"M 408.044621 269.379023 \r\nL 338.99656 241.442211 \r\n\" style=\"fill:none;stroke:#000000;stroke-width:1.466345;\"/>\r\n    <path clip-path=\"url(#p25e70cf666)\" d=\"M 338.99656 241.442211 \r\nL 279.609709 257.909908 \r\n\" style=\"fill:none;stroke:#000000;stroke-width:1.16987;\"/>\r\n    <path clip-path=\"url(#p25e70cf666)\" d=\"M 457.75532 106.008011 \r\nL 382.748889 31.909091 \r\n\" style=\"fill:none;stroke:#000000;stroke-width:0.280444;\"/>\r\n    <path clip-path=\"url(#p25e70cf666)\" d=\"M 457.75532 106.008011 \r\nL 465.514798 47.282382 \r\n\" style=\"fill:none;stroke:#000000;stroke-width:0.517624;\"/>\r\n    <path clip-path=\"url(#p25e70cf666)\" d=\"M 350.136039 393.81958 \r\nL 332.998413 439.23674 \r\n\" style=\"fill:none;stroke:#000000;stroke-width:0.905097;\"/>\r\n    <path clip-path=\"url(#p25e70cf666)\" d=\"M 350.136039 393.81958 \r\nL 251.756099 450.668394 \r\n\" style=\"fill:none;stroke:#000000;stroke-width:0.905097;\"/>\r\n    <path clip-path=\"url(#p25e70cf666)\" d=\"M 332.998413 439.23674 \r\nL 251.756099 450.668394 \r\n\" style=\"fill:none;stroke:#000000;stroke-width:1.014587;\"/>\r\n    <path clip-path=\"url(#p25e70cf666)\" d=\"M 251.756099 450.668394 \r\nL 121.554822 497.692875 \r\n\" style=\"fill:none;stroke:#000000;stroke-width:0.8141;\"/>\r\n    <path clip-path=\"url(#p25e70cf666)\" d=\"M 121.554822 497.692875 \r\nL 61.62497 526.090909 \r\n\" style=\"fill:none;stroke:#000000;stroke-width:1.40705;\"/>\r\n    <path clip-path=\"url(#p25e70cf666)\" d=\"M 121.554822 497.692875 \r\nL 32.563636 507.387499 \r\n\" style=\"fill:none;stroke:#000000;stroke-width:1.347755;\"/>\r\n    <path clip-path=\"url(#p25e70cf666)\" d=\"M 382.748889 31.909091 \r\nL 465.514798 47.282382 \r\n\" style=\"fill:none;stroke:#000000;stroke-width:0.399034;\"/>\r\n    <path clip-path=\"url(#p25e70cf666)\" d=\"M 61.62497 526.090909 \r\nL 32.563636 507.387499 \r\n\" style=\"fill:none;stroke:#000000;stroke-width:2;\"/>\r\n   </g>\r\n   <g id=\"matplotlib.axis_1\">\r\n    <g id=\"xtick_1\"/>\r\n    <g id=\"xtick_2\"/>\r\n    <g id=\"xtick_3\"/>\r\n    <g id=\"xtick_4\"/>\r\n    <g id=\"xtick_5\"/>\r\n    <g id=\"xtick_6\"/>\r\n    <g id=\"xtick_7\"/>\r\n    <g id=\"xtick_8\"/>\r\n   </g>\r\n   <g id=\"matplotlib.axis_2\">\r\n    <g id=\"ytick_1\"/>\r\n    <g id=\"ytick_2\"/>\r\n    <g id=\"ytick_3\"/>\r\n    <g id=\"ytick_4\"/>\r\n    <g id=\"ytick_5\"/>\r\n    <g id=\"ytick_6\"/>\r\n    <g id=\"ytick_7\"/>\r\n    <g id=\"ytick_8\"/>\r\n   </g>\r\n   <g id=\"PathCollection_1\">\r\n    <defs>\r\n     <path d=\"M 0 8.660254 \r\nC 2.296726 8.660254 4.499694 7.747755 6.123724 6.123724 \r\nC 7.747755 4.499694 8.660254 2.296726 8.660254 0 \r\nC 8.660254 -2.296726 7.747755 -4.499694 6.123724 -6.123724 \r\nC 4.499694 -7.747755 2.296726 -8.660254 0 -8.660254 \r\nC -2.296726 -8.660254 -4.499694 -7.747755 -6.123724 -6.123724 \r\nC -7.747755 -4.499694 -8.660254 -2.296726 -8.660254 0 \r\nC -8.660254 2.296726 -7.747755 4.499694 -6.123724 6.123724 \r\nC -4.499694 7.747755 -2.296726 8.660254 0 8.660254 \r\nz\r\n\" id=\"mc400d69f6c\" style=\"stroke:#1f78b4;\"/>\r\n    </defs>\r\n    <g clip-path=\"url(#p25e70cf666)\">\r\n     <use style=\"fill:#1f78b4;stroke:#1f78b4;\" x=\"467.18654\" xlink:href=\"#mc400d69f6c\" y=\"262.423907\"/>\r\n     <use style=\"fill:#1f78b4;stroke:#1f78b4;\" x=\"430.277615\" xlink:href=\"#mc400d69f6c\" y=\"224.904499\"/>\r\n     <use style=\"fill:#1f78b4;stroke:#1f78b4;\" x=\"511.989882\" xlink:href=\"#mc400d69f6c\" y=\"226.123464\"/>\r\n     <use style=\"fill:#1f78b4;stroke:#1f78b4;\" x=\"480.410107\" xlink:href=\"#mc400d69f6c\" y=\"197.185753\"/>\r\n     <use style=\"fill:#1f78b4;stroke:#1f78b4;\" x=\"417.256195\" xlink:href=\"#mc400d69f6c\" y=\"327.895491\"/>\r\n     <use style=\"fill:#1f78b4;stroke:#1f78b4;\" x=\"497.967381\" xlink:href=\"#mc400d69f6c\" y=\"284.309772\"/>\r\n     <use style=\"fill:#1f78b4;stroke:#1f78b4;\" x=\"539.836364\" xlink:href=\"#mc400d69f6c\" y=\"276.594178\"/>\r\n     <use style=\"fill:#1f78b4;stroke:#1f78b4;\" x=\"462.994228\" xlink:href=\"#mc400d69f6c\" y=\"288.810383\"/>\r\n     <use style=\"fill:#1f78b4;stroke:#1f78b4;\" x=\"408.044621\" xlink:href=\"#mc400d69f6c\" y=\"269.379023\"/>\r\n     <use style=\"fill:#1f78b4;stroke:#1f78b4;\" x=\"338.99656\" xlink:href=\"#mc400d69f6c\" y=\"241.442211\"/>\r\n     <use style=\"fill:#1f78b4;stroke:#1f78b4;\" x=\"457.75532\" xlink:href=\"#mc400d69f6c\" y=\"106.008011\"/>\r\n     <use style=\"fill:#1f78b4;stroke:#1f78b4;\" x=\"350.136039\" xlink:href=\"#mc400d69f6c\" y=\"393.81958\"/>\r\n     <use style=\"fill:#1f78b4;stroke:#1f78b4;\" x=\"332.998413\" xlink:href=\"#mc400d69f6c\" y=\"439.23674\"/>\r\n     <use style=\"fill:#1f78b4;stroke:#1f78b4;\" x=\"251.756099\" xlink:href=\"#mc400d69f6c\" y=\"450.668394\"/>\r\n     <use style=\"fill:#1f78b4;stroke:#1f78b4;\" x=\"121.554822\" xlink:href=\"#mc400d69f6c\" y=\"497.692875\"/>\r\n     <use style=\"fill:#1f78b4;stroke:#1f78b4;\" x=\"382.748889\" xlink:href=\"#mc400d69f6c\" y=\"31.909091\"/>\r\n     <use style=\"fill:#1f78b4;stroke:#1f78b4;\" x=\"465.514798\" xlink:href=\"#mc400d69f6c\" y=\"47.282382\"/>\r\n     <use style=\"fill:#1f78b4;stroke:#1f78b4;\" x=\"279.609709\" xlink:href=\"#mc400d69f6c\" y=\"257.909908\"/>\r\n     <use style=\"fill:#1f78b4;stroke:#1f78b4;\" x=\"61.62497\" xlink:href=\"#mc400d69f6c\" y=\"526.090909\"/>\r\n     <use style=\"fill:#1f78b4;stroke:#1f78b4;\" x=\"32.563636\" xlink:href=\"#mc400d69f6c\" y=\"507.387499\"/>\r\n    </g>\r\n   </g>\r\n   <g id=\"patch_3\">\r\n    <path d=\"M 7.2 550.8 \r\nL 7.2 7.2 \r\n\" style=\"fill:none;stroke:#000000;stroke-linecap:square;stroke-linejoin:miter;stroke-width:0.8;\"/>\r\n   </g>\r\n   <g id=\"patch_4\">\r\n    <path d=\"M 565.2 550.8 \r\nL 565.2 7.2 \r\n\" style=\"fill:none;stroke:#000000;stroke-linecap:square;stroke-linejoin:miter;stroke-width:0.8;\"/>\r\n   </g>\r\n   <g id=\"patch_5\">\r\n    <path d=\"M 7.2 550.8 \r\nL 565.2 550.8 \r\n\" style=\"fill:none;stroke:#000000;stroke-linecap:square;stroke-linejoin:miter;stroke-width:0.8;\"/>\r\n   </g>\r\n   <g id=\"patch_6\">\r\n    <path d=\"M 7.2 7.2 \r\nL 565.2 7.2 \r\n\" style=\"fill:none;stroke:#000000;stroke-linecap:square;stroke-linejoin:miter;stroke-width:0.8;\"/>\r\n   </g>\r\n   <g id=\"text_1\">\r\n    <g clip-path=\"url(#p25e70cf666)\">\r\n     <!-- p1 -->\r\n     <g transform=\"translate(459.559977 265.735157)scale(0.12 -0.12)\">\r\n      <defs>\r\n       <path d=\"M 18.109375 8.203125 \r\nL 18.109375 -20.796875 \r\nL 9.078125 -20.796875 \r\nL 9.078125 54.6875 \r\nL 18.109375 54.6875 \r\nL 18.109375 46.390625 \r\nQ 20.953125 51.265625 25.265625 53.625 \r\nQ 29.59375 56 35.59375 56 \r\nQ 45.5625 56 51.78125 48.09375 \r\nQ 58.015625 40.1875 58.015625 27.296875 \r\nQ 58.015625 14.40625 51.78125 6.484375 \r\nQ 45.5625 -1.421875 35.59375 -1.421875 \r\nQ 29.59375 -1.421875 25.265625 0.953125 \r\nQ 20.953125 3.328125 18.109375 8.203125 \r\nz\r\nM 48.6875 27.296875 \r\nQ 48.6875 37.203125 44.609375 42.84375 \r\nQ 40.53125 48.484375 33.40625 48.484375 \r\nQ 26.265625 48.484375 22.1875 42.84375 \r\nQ 18.109375 37.203125 18.109375 27.296875 \r\nQ 18.109375 17.390625 22.1875 11.75 \r\nQ 26.265625 6.109375 33.40625 6.109375 \r\nQ 40.53125 6.109375 44.609375 11.75 \r\nQ 48.6875 17.390625 48.6875 27.296875 \r\nz\r\n\" id=\"DejaVuSans-112\"/>\r\n       <path d=\"M 12.40625 8.296875 \r\nL 28.515625 8.296875 \r\nL 28.515625 63.921875 \r\nL 10.984375 60.40625 \r\nL 10.984375 69.390625 \r\nL 28.421875 72.90625 \r\nL 38.28125 72.90625 \r\nL 38.28125 8.296875 \r\nL 54.390625 8.296875 \r\nL 54.390625 0 \r\nL 12.40625 0 \r\nz\r\n\" id=\"DejaVuSans-49\"/>\r\n      </defs>\r\n      <use xlink:href=\"#DejaVuSans-112\"/>\r\n      <use x=\"63.476562\" xlink:href=\"#DejaVuSans-49\"/>\r\n     </g>\r\n    </g>\r\n   </g>\r\n   <g id=\"text_2\">\r\n    <g clip-path=\"url(#p25e70cf666)\">\r\n     <!-- p2 -->\r\n     <g transform=\"translate(422.651052 228.215749)scale(0.12 -0.12)\">\r\n      <defs>\r\n       <path d=\"M 19.1875 8.296875 \r\nL 53.609375 8.296875 \r\nL 53.609375 0 \r\nL 7.328125 0 \r\nL 7.328125 8.296875 \r\nQ 12.9375 14.109375 22.625 23.890625 \r\nQ 32.328125 33.6875 34.8125 36.53125 \r\nQ 39.546875 41.84375 41.421875 45.53125 \r\nQ 43.3125 49.21875 43.3125 52.78125 \r\nQ 43.3125 58.59375 39.234375 62.25 \r\nQ 35.15625 65.921875 28.609375 65.921875 \r\nQ 23.96875 65.921875 18.8125 64.3125 \r\nQ 13.671875 62.703125 7.8125 59.421875 \r\nL 7.8125 69.390625 \r\nQ 13.765625 71.78125 18.9375 73 \r\nQ 24.125 74.21875 28.421875 74.21875 \r\nQ 39.75 74.21875 46.484375 68.546875 \r\nQ 53.21875 62.890625 53.21875 53.421875 \r\nQ 53.21875 48.921875 51.53125 44.890625 \r\nQ 49.859375 40.875 45.40625 35.40625 \r\nQ 44.1875 33.984375 37.640625 27.21875 \r\nQ 31.109375 20.453125 19.1875 8.296875 \r\nz\r\n\" id=\"DejaVuSans-50\"/>\r\n      </defs>\r\n      <use xlink:href=\"#DejaVuSans-112\"/>\r\n      <use x=\"63.476562\" xlink:href=\"#DejaVuSans-50\"/>\r\n     </g>\r\n    </g>\r\n   </g>\r\n   <g id=\"text_3\">\r\n    <g clip-path=\"url(#p25e70cf666)\">\r\n     <!-- p3 -->\r\n     <g transform=\"translate(504.36332 229.434714)scale(0.12 -0.12)\">\r\n      <defs>\r\n       <path d=\"M 40.578125 39.3125 \r\nQ 47.65625 37.796875 51.625 33 \r\nQ 55.609375 28.21875 55.609375 21.1875 \r\nQ 55.609375 10.40625 48.1875 4.484375 \r\nQ 40.765625 -1.421875 27.09375 -1.421875 \r\nQ 22.515625 -1.421875 17.65625 -0.515625 \r\nQ 12.796875 0.390625 7.625 2.203125 \r\nL 7.625 11.71875 \r\nQ 11.71875 9.328125 16.59375 8.109375 \r\nQ 21.484375 6.890625 26.8125 6.890625 \r\nQ 36.078125 6.890625 40.9375 10.546875 \r\nQ 45.796875 14.203125 45.796875 21.1875 \r\nQ 45.796875 27.640625 41.28125 31.265625 \r\nQ 36.765625 34.90625 28.71875 34.90625 \r\nL 20.21875 34.90625 \r\nL 20.21875 43.015625 \r\nL 29.109375 43.015625 \r\nQ 36.375 43.015625 40.234375 45.921875 \r\nQ 44.09375 48.828125 44.09375 54.296875 \r\nQ 44.09375 59.90625 40.109375 62.90625 \r\nQ 36.140625 65.921875 28.71875 65.921875 \r\nQ 24.65625 65.921875 20.015625 65.03125 \r\nQ 15.375 64.15625 9.8125 62.3125 \r\nL 9.8125 71.09375 \r\nQ 15.4375 72.65625 20.34375 73.4375 \r\nQ 25.25 74.21875 29.59375 74.21875 \r\nQ 40.828125 74.21875 47.359375 69.109375 \r\nQ 53.90625 64.015625 53.90625 55.328125 \r\nQ 53.90625 49.265625 50.4375 45.09375 \r\nQ 46.96875 40.921875 40.578125 39.3125 \r\nz\r\n\" id=\"DejaVuSans-51\"/>\r\n      </defs>\r\n      <use xlink:href=\"#DejaVuSans-112\"/>\r\n      <use x=\"63.476562\" xlink:href=\"#DejaVuSans-51\"/>\r\n     </g>\r\n    </g>\r\n   </g>\r\n   <g id=\"text_4\">\r\n    <g clip-path=\"url(#p25e70cf666)\">\r\n     <!-- p4 -->\r\n     <g transform=\"translate(472.783545 200.497003)scale(0.12 -0.12)\">\r\n      <defs>\r\n       <path d=\"M 37.796875 64.3125 \r\nL 12.890625 25.390625 \r\nL 37.796875 25.390625 \r\nz\r\nM 35.203125 72.90625 \r\nL 47.609375 72.90625 \r\nL 47.609375 25.390625 \r\nL 58.015625 25.390625 \r\nL 58.015625 17.1875 \r\nL 47.609375 17.1875 \r\nL 47.609375 0 \r\nL 37.796875 0 \r\nL 37.796875 17.1875 \r\nL 4.890625 17.1875 \r\nL 4.890625 26.703125 \r\nz\r\n\" id=\"DejaVuSans-52\"/>\r\n      </defs>\r\n      <use xlink:href=\"#DejaVuSans-112\"/>\r\n      <use x=\"63.476562\" xlink:href=\"#DejaVuSans-52\"/>\r\n     </g>\r\n    </g>\r\n   </g>\r\n   <g id=\"text_5\">\r\n    <g clip-path=\"url(#p25e70cf666)\">\r\n     <!-- p5 -->\r\n     <g transform=\"translate(409.629632 331.206741)scale(0.12 -0.12)\">\r\n      <defs>\r\n       <path d=\"M 10.796875 72.90625 \r\nL 49.515625 72.90625 \r\nL 49.515625 64.59375 \r\nL 19.828125 64.59375 \r\nL 19.828125 46.734375 \r\nQ 21.96875 47.46875 24.109375 47.828125 \r\nQ 26.265625 48.1875 28.421875 48.1875 \r\nQ 40.625 48.1875 47.75 41.5 \r\nQ 54.890625 34.8125 54.890625 23.390625 \r\nQ 54.890625 11.625 47.5625 5.09375 \r\nQ 40.234375 -1.421875 26.90625 -1.421875 \r\nQ 22.3125 -1.421875 17.546875 -0.640625 \r\nQ 12.796875 0.140625 7.71875 1.703125 \r\nL 7.71875 11.625 \r\nQ 12.109375 9.234375 16.796875 8.0625 \r\nQ 21.484375 6.890625 26.703125 6.890625 \r\nQ 35.15625 6.890625 40.078125 11.328125 \r\nQ 45.015625 15.765625 45.015625 23.390625 \r\nQ 45.015625 31 40.078125 35.4375 \r\nQ 35.15625 39.890625 26.703125 39.890625 \r\nQ 22.75 39.890625 18.8125 39.015625 \r\nQ 14.890625 38.140625 10.796875 36.28125 \r\nz\r\n\" id=\"DejaVuSans-53\"/>\r\n      </defs>\r\n      <use xlink:href=\"#DejaVuSans-112\"/>\r\n      <use x=\"63.476562\" xlink:href=\"#DejaVuSans-53\"/>\r\n     </g>\r\n    </g>\r\n   </g>\r\n   <g id=\"text_6\">\r\n    <g clip-path=\"url(#p25e70cf666)\">\r\n     <!-- p6 -->\r\n     <g transform=\"translate(490.340819 287.621022)scale(0.12 -0.12)\">\r\n      <defs>\r\n       <path d=\"M 33.015625 40.375 \r\nQ 26.375 40.375 22.484375 35.828125 \r\nQ 18.609375 31.296875 18.609375 23.390625 \r\nQ 18.609375 15.53125 22.484375 10.953125 \r\nQ 26.375 6.390625 33.015625 6.390625 \r\nQ 39.65625 6.390625 43.53125 10.953125 \r\nQ 47.40625 15.53125 47.40625 23.390625 \r\nQ 47.40625 31.296875 43.53125 35.828125 \r\nQ 39.65625 40.375 33.015625 40.375 \r\nz\r\nM 52.59375 71.296875 \r\nL 52.59375 62.3125 \r\nQ 48.875 64.0625 45.09375 64.984375 \r\nQ 41.3125 65.921875 37.59375 65.921875 \r\nQ 27.828125 65.921875 22.671875 59.328125 \r\nQ 17.53125 52.734375 16.796875 39.40625 \r\nQ 19.671875 43.65625 24.015625 45.921875 \r\nQ 28.375 48.1875 33.59375 48.1875 \r\nQ 44.578125 48.1875 50.953125 41.515625 \r\nQ 57.328125 34.859375 57.328125 23.390625 \r\nQ 57.328125 12.15625 50.6875 5.359375 \r\nQ 44.046875 -1.421875 33.015625 -1.421875 \r\nQ 20.359375 -1.421875 13.671875 8.265625 \r\nQ 6.984375 17.96875 6.984375 36.375 \r\nQ 6.984375 53.65625 15.1875 63.9375 \r\nQ 23.390625 74.21875 37.203125 74.21875 \r\nQ 40.921875 74.21875 44.703125 73.484375 \r\nQ 48.484375 72.75 52.59375 71.296875 \r\nz\r\n\" id=\"DejaVuSans-54\"/>\r\n      </defs>\r\n      <use xlink:href=\"#DejaVuSans-112\"/>\r\n      <use x=\"63.476562\" xlink:href=\"#DejaVuSans-54\"/>\r\n     </g>\r\n    </g>\r\n   </g>\r\n   <g id=\"text_7\">\r\n    <g clip-path=\"url(#p25e70cf666)\">\r\n     <!-- p10 -->\r\n     <g transform=\"translate(528.392301 279.905428)scale(0.12 -0.12)\">\r\n      <defs>\r\n       <path d=\"M 31.78125 66.40625 \r\nQ 24.171875 66.40625 20.328125 58.90625 \r\nQ 16.5 51.421875 16.5 36.375 \r\nQ 16.5 21.390625 20.328125 13.890625 \r\nQ 24.171875 6.390625 31.78125 6.390625 \r\nQ 39.453125 6.390625 43.28125 13.890625 \r\nQ 47.125 21.390625 47.125 36.375 \r\nQ 47.125 51.421875 43.28125 58.90625 \r\nQ 39.453125 66.40625 31.78125 66.40625 \r\nz\r\nM 31.78125 74.21875 \r\nQ 44.046875 74.21875 50.515625 64.515625 \r\nQ 56.984375 54.828125 56.984375 36.375 \r\nQ 56.984375 17.96875 50.515625 8.265625 \r\nQ 44.046875 -1.421875 31.78125 -1.421875 \r\nQ 19.53125 -1.421875 13.0625 8.265625 \r\nQ 6.59375 17.96875 6.59375 36.375 \r\nQ 6.59375 54.828125 13.0625 64.515625 \r\nQ 19.53125 74.21875 31.78125 74.21875 \r\nz\r\n\" id=\"DejaVuSans-48\"/>\r\n      </defs>\r\n      <use xlink:href=\"#DejaVuSans-112\"/>\r\n      <use x=\"63.476562\" xlink:href=\"#DejaVuSans-49\"/>\r\n      <use x=\"127.099609\" xlink:href=\"#DejaVuSans-48\"/>\r\n     </g>\r\n    </g>\r\n   </g>\r\n   <g id=\"text_8\">\r\n    <g clip-path=\"url(#p25e70cf666)\">\r\n     <!-- p11 -->\r\n     <g transform=\"translate(451.550166 292.121633)scale(0.12 -0.12)\">\r\n      <use xlink:href=\"#DejaVuSans-112\"/>\r\n      <use x=\"63.476562\" xlink:href=\"#DejaVuSans-49\"/>\r\n      <use x=\"127.099609\" xlink:href=\"#DejaVuSans-49\"/>\r\n     </g>\r\n    </g>\r\n   </g>\r\n   <g id=\"text_9\">\r\n    <g clip-path=\"url(#p25e70cf666)\">\r\n     <!-- p15 -->\r\n     <g transform=\"translate(396.600559 272.690273)scale(0.12 -0.12)\">\r\n      <use xlink:href=\"#DejaVuSans-112\"/>\r\n      <use x=\"63.476562\" xlink:href=\"#DejaVuSans-49\"/>\r\n      <use x=\"127.099609\" xlink:href=\"#DejaVuSans-53\"/>\r\n     </g>\r\n    </g>\r\n   </g>\r\n   <g id=\"text_10\">\r\n    <g clip-path=\"url(#p25e70cf666)\">\r\n     <!-- p14 -->\r\n     <g transform=\"translate(327.552498 244.753461)scale(0.12 -0.12)\">\r\n      <use xlink:href=\"#DejaVuSans-112\"/>\r\n      <use x=\"63.476562\" xlink:href=\"#DejaVuSans-49\"/>\r\n      <use x=\"127.099609\" xlink:href=\"#DejaVuSans-52\"/>\r\n     </g>\r\n    </g>\r\n   </g>\r\n   <g id=\"text_11\">\r\n    <g clip-path=\"url(#p25e70cf666)\">\r\n     <!-- p12 -->\r\n     <g transform=\"translate(446.311258 109.319261)scale(0.12 -0.12)\">\r\n      <use xlink:href=\"#DejaVuSans-112\"/>\r\n      <use x=\"63.476562\" xlink:href=\"#DejaVuSans-49\"/>\r\n      <use x=\"127.099609\" xlink:href=\"#DejaVuSans-50\"/>\r\n     </g>\r\n    </g>\r\n   </g>\r\n   <g id=\"text_12\">\r\n    <g clip-path=\"url(#p25e70cf666)\">\r\n     <!-- p7 -->\r\n     <g transform=\"translate(342.509477 397.13083)scale(0.12 -0.12)\">\r\n      <defs>\r\n       <path d=\"M 8.203125 72.90625 \r\nL 55.078125 72.90625 \r\nL 55.078125 68.703125 \r\nL 28.609375 0 \r\nL 18.3125 0 \r\nL 43.21875 64.59375 \r\nL 8.203125 64.59375 \r\nz\r\n\" id=\"DejaVuSans-55\"/>\r\n      </defs>\r\n      <use xlink:href=\"#DejaVuSans-112\"/>\r\n      <use x=\"63.476562\" xlink:href=\"#DejaVuSans-55\"/>\r\n     </g>\r\n    </g>\r\n   </g>\r\n   <g id=\"text_13\">\r\n    <g clip-path=\"url(#p25e70cf666)\">\r\n     <!-- p8 -->\r\n     <g transform=\"translate(325.371851 442.54799)scale(0.12 -0.12)\">\r\n      <defs>\r\n       <path d=\"M 31.78125 34.625 \r\nQ 24.75 34.625 20.71875 30.859375 \r\nQ 16.703125 27.09375 16.703125 20.515625 \r\nQ 16.703125 13.921875 20.71875 10.15625 \r\nQ 24.75 6.390625 31.78125 6.390625 \r\nQ 38.8125 6.390625 42.859375 10.171875 \r\nQ 46.921875 13.96875 46.921875 20.515625 \r\nQ 46.921875 27.09375 42.890625 30.859375 \r\nQ 38.875 34.625 31.78125 34.625 \r\nz\r\nM 21.921875 38.8125 \r\nQ 15.578125 40.375 12.03125 44.71875 \r\nQ 8.5 49.078125 8.5 55.328125 \r\nQ 8.5 64.0625 14.71875 69.140625 \r\nQ 20.953125 74.21875 31.78125 74.21875 \r\nQ 42.671875 74.21875 48.875 69.140625 \r\nQ 55.078125 64.0625 55.078125 55.328125 \r\nQ 55.078125 49.078125 51.53125 44.71875 \r\nQ 48 40.375 41.703125 38.8125 \r\nQ 48.828125 37.15625 52.796875 32.3125 \r\nQ 56.78125 27.484375 56.78125 20.515625 \r\nQ 56.78125 9.90625 50.3125 4.234375 \r\nQ 43.84375 -1.421875 31.78125 -1.421875 \r\nQ 19.734375 -1.421875 13.25 4.234375 \r\nQ 6.78125 9.90625 6.78125 20.515625 \r\nQ 6.78125 27.484375 10.78125 32.3125 \r\nQ 14.796875 37.15625 21.921875 38.8125 \r\nz\r\nM 18.3125 54.390625 \r\nQ 18.3125 48.734375 21.84375 45.5625 \r\nQ 25.390625 42.390625 31.78125 42.390625 \r\nQ 38.140625 42.390625 41.71875 45.5625 \r\nQ 45.3125 48.734375 45.3125 54.390625 \r\nQ 45.3125 60.0625 41.71875 63.234375 \r\nQ 38.140625 66.40625 31.78125 66.40625 \r\nQ 25.390625 66.40625 21.84375 63.234375 \r\nQ 18.3125 60.0625 18.3125 54.390625 \r\nz\r\n\" id=\"DejaVuSans-56\"/>\r\n      </defs>\r\n      <use xlink:href=\"#DejaVuSans-112\"/>\r\n      <use x=\"63.476562\" xlink:href=\"#DejaVuSans-56\"/>\r\n     </g>\r\n    </g>\r\n   </g>\r\n   <g id=\"text_14\">\r\n    <g clip-path=\"url(#p25e70cf666)\">\r\n     <!-- p9 -->\r\n     <g transform=\"translate(244.129537 453.979644)scale(0.12 -0.12)\">\r\n      <defs>\r\n       <path d=\"M 10.984375 1.515625 \r\nL 10.984375 10.5 \r\nQ 14.703125 8.734375 18.5 7.8125 \r\nQ 22.3125 6.890625 25.984375 6.890625 \r\nQ 35.75 6.890625 40.890625 13.453125 \r\nQ 46.046875 20.015625 46.78125 33.40625 \r\nQ 43.953125 29.203125 39.59375 26.953125 \r\nQ 35.25 24.703125 29.984375 24.703125 \r\nQ 19.046875 24.703125 12.671875 31.3125 \r\nQ 6.296875 37.9375 6.296875 49.421875 \r\nQ 6.296875 60.640625 12.9375 67.421875 \r\nQ 19.578125 74.21875 30.609375 74.21875 \r\nQ 43.265625 74.21875 49.921875 64.515625 \r\nQ 56.59375 54.828125 56.59375 36.375 \r\nQ 56.59375 19.140625 48.40625 8.859375 \r\nQ 40.234375 -1.421875 26.421875 -1.421875 \r\nQ 22.703125 -1.421875 18.890625 -0.6875 \r\nQ 15.09375 0.046875 10.984375 1.515625 \r\nz\r\nM 30.609375 32.421875 \r\nQ 37.25 32.421875 41.125 36.953125 \r\nQ 45.015625 41.5 45.015625 49.421875 \r\nQ 45.015625 57.28125 41.125 61.84375 \r\nQ 37.25 66.40625 30.609375 66.40625 \r\nQ 23.96875 66.40625 20.09375 61.84375 \r\nQ 16.21875 57.28125 16.21875 49.421875 \r\nQ 16.21875 41.5 20.09375 36.953125 \r\nQ 23.96875 32.421875 30.609375 32.421875 \r\nz\r\n\" id=\"DejaVuSans-57\"/>\r\n      </defs>\r\n      <use xlink:href=\"#DejaVuSans-112\"/>\r\n      <use x=\"63.476562\" xlink:href=\"#DejaVuSans-57\"/>\r\n     </g>\r\n    </g>\r\n   </g>\r\n   <g id=\"text_15\">\r\n    <g clip-path=\"url(#p25e70cf666)\">\r\n     <!-- p18 -->\r\n     <g transform=\"translate(110.11076 501.004125)scale(0.12 -0.12)\">\r\n      <use xlink:href=\"#DejaVuSans-112\"/>\r\n      <use x=\"63.476562\" xlink:href=\"#DejaVuSans-49\"/>\r\n      <use x=\"127.099609\" xlink:href=\"#DejaVuSans-56\"/>\r\n     </g>\r\n    </g>\r\n   </g>\r\n   <g id=\"text_16\">\r\n    <g clip-path=\"url(#p25e70cf666)\">\r\n     <!-- p16 -->\r\n     <g transform=\"translate(371.304827 35.220341)scale(0.12 -0.12)\">\r\n      <use xlink:href=\"#DejaVuSans-112\"/>\r\n      <use x=\"63.476562\" xlink:href=\"#DejaVuSans-49\"/>\r\n      <use x=\"127.099609\" xlink:href=\"#DejaVuSans-54\"/>\r\n     </g>\r\n    </g>\r\n   </g>\r\n   <g id=\"text_17\">\r\n    <g clip-path=\"url(#p25e70cf666)\">\r\n     <!-- p17 -->\r\n     <g transform=\"translate(454.070735 50.593632)scale(0.12 -0.12)\">\r\n      <use xlink:href=\"#DejaVuSans-112\"/>\r\n      <use x=\"63.476562\" xlink:href=\"#DejaVuSans-49\"/>\r\n      <use x=\"127.099609\" xlink:href=\"#DejaVuSans-55\"/>\r\n     </g>\r\n    </g>\r\n   </g>\r\n   <g id=\"text_18\">\r\n    <g clip-path=\"url(#p25e70cf666)\">\r\n     <!-- p13 -->\r\n     <g transform=\"translate(268.165646 261.221158)scale(0.12 -0.12)\">\r\n      <use xlink:href=\"#DejaVuSans-112\"/>\r\n      <use x=\"63.476562\" xlink:href=\"#DejaVuSans-49\"/>\r\n      <use x=\"127.099609\" xlink:href=\"#DejaVuSans-51\"/>\r\n     </g>\r\n    </g>\r\n   </g>\r\n   <g id=\"text_19\">\r\n    <g clip-path=\"url(#p25e70cf666)\">\r\n     <!-- p19 -->\r\n     <g transform=\"translate(50.180908 529.402159)scale(0.12 -0.12)\">\r\n      <use xlink:href=\"#DejaVuSans-112\"/>\r\n      <use x=\"63.476562\" xlink:href=\"#DejaVuSans-49\"/>\r\n      <use x=\"127.099609\" xlink:href=\"#DejaVuSans-57\"/>\r\n     </g>\r\n    </g>\r\n   </g>\r\n   <g id=\"text_20\">\r\n    <g clip-path=\"url(#p25e70cf666)\">\r\n     <!-- p20 -->\r\n     <g transform=\"translate(21.119574 510.698749)scale(0.12 -0.12)\">\r\n      <use xlink:href=\"#DejaVuSans-112\"/>\r\n      <use x=\"63.476562\" xlink:href=\"#DejaVuSans-50\"/>\r\n      <use x=\"127.099609\" xlink:href=\"#DejaVuSans-48\"/>\r\n     </g>\r\n    </g>\r\n   </g>\r\n  </g>\r\n </g>\r\n <defs>\r\n  <clipPath id=\"p25e70cf666\">\r\n   <rect height=\"543.6\" width=\"558\" x=\"7.2\" y=\"7.2\"/>\r\n  </clipPath>\r\n </defs>\r\n</svg>\r\n",
      "image/png": "[encoded data removed]"
     },
     "metadata": {}
    }
   ],
   "source": [
    "# visualization\n",
    "durations = [x['weight'] for x in dict(p2p_norm_graph.edges).values()]\n",
    "labels = [x for x in dict(p2p_norm_graph.nodes).keys()]\n",
    "labels = {x:x for x in dict(p2p_norm_graph.nodes).keys()}\n",
    "\n",
    "fig, ax = plt.subplots(figsize=(10,10))\n",
    "pos = nx.spring_layout(p2p_norm_graph)\n",
    "nx.draw_networkx_nodes(p2p_norm_graph, pos, ax = ax, label=True)\n",
    "nx.draw_networkx_edges(p2p_norm_graph, pos, width=durations, ax=ax)\n",
    "_ = nx.draw_networkx_labels(p2p_norm_graph, pos, labels, ax=ax)"
   ]
  },
  {
   "cell_type": "code",
   "execution_count": 27,
   "metadata": {},
   "outputs": [
    {
     "output_type": "execute_result",
     "data": {
      "text/plain": [
       "   person  has_covid  vulnerable_rank  spreader_rank\n",
       "0      p1       True                0              1\n",
       "1      p2      False                5              8\n",
       "2      p3      False                3             11\n",
       "3      p4      False                4              4\n",
       "4      p5       True                0              2\n",
       "5      p6       True                0             12\n",
       "6      p7      False                8              3\n",
       "7      p8      False               11             15\n",
       "8      p9      False               10              5\n",
       "9     p10      False                2             13\n",
       "10    p11       True                0             14\n",
       "11    p12      False                9              6\n",
       "12    p13      False                7             18\n",
       "13    p14      False                6             10\n",
       "14    p15      False                1              9\n",
       "15    p16      False               14             16\n",
       "16    p17      False               12             17\n",
       "17    p18      False               13              7\n",
       "18    p19      False               15             19\n",
       "19    p20      False               16             20"
      ],
      "text/html": "<div>\n<style scoped>\n    .dataframe tbody tr th:only-of-type {\n        vertical-align: middle;\n    }\n\n    .dataframe tbody tr th {\n        vertical-align: top;\n    }\n\n    .dataframe thead th {\n        text-align: right;\n    }\n</style>\n<table border=\"1\" class=\"dataframe\">\n  <thead>\n    <tr style=\"text-align: right;\">\n      <th></th>\n      <th>person</th>\n      <th>has_covid</th>\n      <th>vulnerable_rank</th>\n      <th>spreader_rank</th>\n    </tr>\n  </thead>\n  <tbody>\n    <tr>\n      <th>0</th>\n      <td>p1</td>\n      <td>True</td>\n      <td>0</td>\n      <td>1</td>\n    </tr>\n    <tr>\n      <th>1</th>\n      <td>p2</td>\n      <td>False</td>\n      <td>5</td>\n      <td>8</td>\n    </tr>\n    <tr>\n      <th>2</th>\n      <td>p3</td>\n      <td>False</td>\n      <td>3</td>\n      <td>11</td>\n    </tr>\n    <tr>\n      <th>3</th>\n      <td>p4</td>\n      <td>False</td>\n      <td>4</td>\n      <td>4</td>\n    </tr>\n    <tr>\n      <th>4</th>\n      <td>p5</td>\n      <td>True</td>\n      <td>0</td>\n      <td>2</td>\n    </tr>\n    <tr>\n      <th>5</th>\n      <td>p6</td>\n      <td>True</td>\n      <td>0</td>\n      <td>12</td>\n    </tr>\n    <tr>\n      <th>6</th>\n      <td>p7</td>\n      <td>False</td>\n      <td>8</td>\n      <td>3</td>\n    </tr>\n    <tr>\n      <th>7</th>\n      <td>p8</td>\n      <td>False</td>\n      <td>11</td>\n      <td>15</td>\n    </tr>\n    <tr>\n      <th>8</th>\n      <td>p9</td>\n      <td>False</td>\n      <td>10</td>\n      <td>5</td>\n    </tr>\n    <tr>\n      <th>9</th>\n      <td>p10</td>\n      <td>False</td>\n      <td>2</td>\n      <td>13</td>\n    </tr>\n    <tr>\n      <th>10</th>\n      <td>p11</td>\n      <td>True</td>\n      <td>0</td>\n      <td>14</td>\n    </tr>\n    <tr>\n      <th>11</th>\n      <td>p12</td>\n      <td>False</td>\n      <td>9</td>\n      <td>6</td>\n    </tr>\n    <tr>\n      <th>12</th>\n      <td>p13</td>\n      <td>False</td>\n      <td>7</td>\n      <td>18</td>\n    </tr>\n    <tr>\n      <th>13</th>\n      <td>p14</td>\n      <td>False</td>\n      <td>6</td>\n      <td>10</td>\n    </tr>\n    <tr>\n      <th>14</th>\n      <td>p15</td>\n      <td>False</td>\n      <td>1</td>\n      <td>9</td>\n    </tr>\n    <tr>\n      <th>15</th>\n      <td>p16</td>\n      <td>False</td>\n      <td>14</td>\n      <td>16</td>\n    </tr>\n    <tr>\n      <th>16</th>\n      <td>p17</td>\n      <td>False</td>\n      <td>12</td>\n      <td>17</td>\n    </tr>\n    <tr>\n      <th>17</th>\n      <td>p18</td>\n      <td>False</td>\n      <td>13</td>\n      <td>7</td>\n    </tr>\n    <tr>\n      <th>18</th>\n      <td>p19</td>\n      <td>False</td>\n      <td>15</td>\n      <td>19</td>\n    </tr>\n    <tr>\n      <th>19</th>\n      <td>p20</td>\n      <td>False</td>\n      <td>16</td>\n      <td>20</td>\n    </tr>\n  </tbody>\n</table>\n</div>"
     },
     "metadata": {},
     "execution_count": 27
    }
   ],
   "source": [
    "# final ranking data\n",
    "ranking_data.to_csv('data/ranked_person_contact.csv', index=False)\n",
    "ranking_data"
   ]
  },
  {
   "cell_type": "code",
   "execution_count": null,
   "metadata": {},
   "outputs": [],
   "source": [
    "#"
   ]
  },
  {
   "cell_type": "markdown",
   "metadata": {},
   "source": [
    "### Discussion\n",
    "- vulnerable rank\n",
    "    - 0 are for those who are diagnosed with covid, not included in testing\n",
    "    - we test 'person' in ascending order\n",
    "- spreader rank\n",
    "    - here, we still include those covid positive\n",
    "    - spreader rank is in ascending order\n",
    "- network visualization\n",
    "    - thicker edge higher risk of infection / vulnerability between two contacts\n",
    "    - p5 is set as 2nd rank spreader, we can see that p5 is the ancestor node of p7, p8, p9, p18, p20, p19 (6 nodes) meaning that if p5 does not exist then either the 8 others will be in the network"
   ]
  }
 ],
 "metadata": {
  "kernelspec": {
   "display_name": "Python 3",
   "language": "python",
   "name": "python3"
  },
  "language_info": {
   "codemirror_mode": {
    "name": "ipython",
    "version": 3
   },
   "file_extension": ".py",
   "mimetype": "text/x-python",
   "name": "python",
   "nbconvert_exporter": "python",
   "pygments_lexer": "ipython3",
   "version": "3.7.9-final"
  }
 },
 "nbformat": 4,
 "nbformat_minor": 4
}